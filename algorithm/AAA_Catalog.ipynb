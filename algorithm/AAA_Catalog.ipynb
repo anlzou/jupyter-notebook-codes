{
 "cells": [
  {
   "cell_type": "markdown",
   "metadata": {},
   "source": [
    "# Leecode"
   ]
  },
  {
   "cell_type": "markdown",
   "metadata": {},
   "source": [
    "## [best-time-to-buy-and-sell-stock](https://leetcode.com/problems/best-time-to-buy-and-sell-stock/description/)(code: java)"
   ]
  },
  {
   "cell_type": "markdown",
   "metadata": {},
   "source": [
    "问题：\n",
    "```\n",
    "假设您有一个数组，第i个元素是第i天给定股票的价格。\n",
    "如果只允许您最多完成一笔交易（即买入和卖出一股股票），则设计一种算法以找到最大的利润。\n",
    "请注意，您不能在买股票之前卖出股票。\n",
    "```\n",
    "示例：\n",
    "```\n",
    "Example 1:\n",
    "Input: [7,1,5,3,6,4]\n",
    "Output: 5\n",
    "说明：在第2天买入（价格= 1）并在第5天卖出（价格= 6），利润= 6-1 = 5。\n",
    "不是7-1 = 6，因为销售价格必须大于购买价格。\n",
    "\n",
    "Example 2:\n",
    "Input: [7,6,4,3,1]\n",
    "Output: 0\n",
    "说明：在这种情况下，不执行任何交易，即最大利润= 0。\n",
    "```"
   ]
  },
  {
   "cell_type": "markdown",
   "metadata": {},
   "source": [
    "## [表示数值的字符串](https://github.com/CyC2018/CS-Notes/blob/master/notes/20.%20%E8%A1%A8%E7%A4%BA%E6%95%B0%E5%80%BC%E7%9A%84%E5%AD%97%E7%AC%A6%E4%B8%B2.md)(code: java)"
   ]
  },
  {
   "cell_type": "markdown",
   "metadata": {},
   "source": [
    "示例：\n",
    "```\n",
    "true\n",
    "\n",
    "\"+100\"\n",
    "\"5e2\"\n",
    "\"-123\"\n",
    "\"3.1416\"\n",
    "\"-1E-16\"\n",
    "```\n",
    "----\n",
    "```\n",
    "false\n",
    "\n",
    "\"12e\"\n",
    "\"1a3.14\"\n",
    "\"1.2.3\"\n",
    "\"+-5\"\n",
    "\"12e+4.3\"\n",
    "```\n",
    "**解题思路：**\n",
    "\n",
    "使用正则表达式进行匹配。\n",
    "```\n",
    "[]  ： 字符集合\n",
    "()  ： 分组\n",
    "?   ： 重复 0 ~ 1 次\n",
    "+   ： 重复 1 ~ n 次\n",
    "*   ： 重复 0 ~ n 次\n",
    ".   ： 任意字符\n",
    "\\\\. ： 转义后的 .\n",
    "\\\\d ： 数字\n",
    "```"
   ]
  },
  {
   "cell_type": "markdown",
   "metadata": {},
   "source": [
    "## [顺时针打印矩阵](https://github.com/CyC2018/CS-Notes/blob/master/notes/29.%20%E9%A1%BA%E6%97%B6%E9%92%88%E6%89%93%E5%8D%B0%E7%9F%A9%E9%98%B5.md)"
   ]
  },
  {
   "attachments": {
    "image.png": {
     "image/png": "[encoded data removed]"
    }
   },
   "cell_type": "markdown",
   "metadata": {},
   "source": [
    "下图的矩阵顺时针打印结果为：1, 2, 3, 4, 8, 12, 16, 15, 14, 13, 9, 5, 6, 7, 11, 10\n",
    "![image.png](attachment:image.png)"
   ]
  },
  {
   "cell_type": "code",
   "execution_count": null,
   "metadata": {},
   "outputs": [],
   "source": []
  }
 ],
 "metadata": {
  "kernelspec": {
   "display_name": "Python 3",
   "language": "python",
   "name": "python3"
  },
  "language_info": {
   "codemirror_mode": {
    "name": "ipython",
    "version": 3
   },
   "file_extension": ".py",
   "mimetype": "text/x-python",
   "name": "python",
   "nbconvert_exporter": "python",
   "pygments_lexer": "ipython3",
   "version": "3.8.5"
  },
  "toc": {
   "base_numbering": 1,
   "nav_menu": {},
   "number_sections": true,
   "sideBar": true,
   "skip_h1_title": false,
   "title_cell": "Table of Contents",
   "title_sidebar": "Contents",
   "toc_cell": false,
   "toc_position": {},
   "toc_section_display": true,
   "toc_window_display": false
  },
  "varInspector": {
   "cols": {
    "lenName": 16,
    "lenType": 16,
    "lenVar": 40
   },
   "kernels_config": {
    "python": {
     "delete_cmd_postfix": "",
     "delete_cmd_prefix": "del ",
     "library": "var_list.py",
     "varRefreshCmd": "print(var_dic_list())"
    },
    "r": {
     "delete_cmd_postfix": ") ",
     "delete_cmd_prefix": "rm(",
     "library": "var_list.r",
     "varRefreshCmd": "cat(var_dic_list()) "
    }
   },
   "types_to_exclude": [
    "module",
    "function",
    "builtin_function_or_method",
    "instance",
    "_Feature"
   ],
   "window_display": false
  }
 },
 "nbformat": 4,
 "nbformat_minor": 4
}
