{
 "cells": [
  {
   "cell_type": "markdown",
   "metadata": {},
   "source": [
    "## [unfold](https://www.30secondsofcode.org/python/s/unfold)\n",
    "Python, Function, List, Advanced\n",
    "\n",
    "Builds a list, using an iterator function and an initial seed value.\n",
    "\n",
    "The iterator function accepts one argument (`seed`) and must always return a list with two elements ([`value`, `nextSeed`]) or `False` to terminate. Use a generator function, `fn_generator`, that uses a `while` loop to call the iterator function and `yield` the `value` until it returns `False`. Use list comprehension to return the list that is produced by the generator, using the iterator function."
   ]
  },
  {
   "cell_type": "markdown",
   "metadata": {},
   "source": [
    "不理解，构建列表何必如此复杂"
   ]
  },
  {
   "cell_type": "code",
   "execution_count": 35,
   "metadata": {
    "ExecuteTime": {
     "end_time": "2020-08-26T08:50:53.748621Z",
     "start_time": "2020-08-26T08:50:53.743177Z"
    }
   },
   "outputs": [],
   "source": [
    "def unfold(fn, seed):\n",
    "    def fn_generator(val):\n",
    "        while True: \n",
    "            val = fn(val[1])\n",
    "            print(val)\n",
    "            if val == False: break\n",
    "            yield val[0]\n",
    "    return [i for i in fn_generator([None, seed])]"
   ]
  },
  {
   "cell_type": "code",
   "execution_count": 39,
   "metadata": {
    "ExecuteTime": {
     "end_time": "2020-08-26T08:54:03.120693Z",
     "start_time": "2020-08-26T08:54:03.109992Z"
    }
   },
   "outputs": [
    {
     "name": "stdout",
     "output_type": "stream",
     "text": [
      "[-10, 20]\n",
      "[-20, 30]\n",
      "[-30, 40]\n",
      "[-40, 50]\n",
      "[-50, 60]\n",
      "False\n"
     ]
    },
    {
     "data": {
      "text/plain": [
       "[-10, -20, -30, -40, -50]"
      ]
     },
     "execution_count": 39,
     "metadata": {},
     "output_type": "execute_result"
    }
   ],
   "source": [
    "f = lambda n: False if n > 50 else [-n, n + 10]\n",
    "unfold(f, 10) # [-10, -20, -30, -40, -50]"
   ]
  },
  {
   "cell_type": "markdown",
   "metadata": {},
   "source": [
    "## check_prop\n",
    "Python, Function, Intermediate\n",
    "\n",
    "Given a predicate function, `fn`, and a `prop` string, this curried function will then take an object to inspect by calling the property and passing it to the predicate.\n",
    "\n",
    "Return a `lambda` function that takes an object and applies the predicate function, `fn` to the specified property.\n",
    "\n",
    "根据条件判断是否字典是否存在键值对。"
   ]
  },
  {
   "cell_type": "code",
   "execution_count": 40,
   "metadata": {
    "ExecuteTime": {
     "end_time": "2020-08-26T09:01:41.992788Z",
     "start_time": "2020-08-26T09:01:41.987948Z"
    }
   },
   "outputs": [],
   "source": [
    "def check_prop(fn, prop):\n",
    "    return lambda obj: fn(obj[prop])"
   ]
  },
  {
   "cell_type": "code",
   "execution_count": 41,
   "metadata": {
    "ExecuteTime": {
     "end_time": "2020-08-26T09:01:53.562900Z",
     "start_time": "2020-08-26T09:01:53.552878Z"
    }
   },
   "outputs": [
    {
     "data": {
      "text/plain": [
       "True"
      ]
     },
     "execution_count": 41,
     "metadata": {},
     "output_type": "execute_result"
    }
   ],
   "source": [
    "check_age = check_prop(lambda x: x >= 18, 'age')\n",
    "user = {'name': 'Mark', 'age': 18}\n",
    "\n",
    "check_age(user) # True"
   ]
  },
  {
   "cell_type": "code",
   "execution_count": 57,
   "metadata": {
    "ExecuteTime": {
     "end_time": "2020-08-26T09:10:37.535775Z",
     "start_time": "2020-08-26T09:10:37.529626Z"
    }
   },
   "outputs": [],
   "source": [
    "from functools import reduce\n",
    "\n",
    "def compose(*fns):\n",
    "    for i in fns:\n",
    "        print(i)\n",
    "    return reduce(lambda f, g: lambda *args: f(g(*args)), fns)"
   ]
  },
  {
   "cell_type": "code",
   "execution_count": 58,
   "metadata": {
    "ExecuteTime": {
     "end_time": "2020-08-26T09:10:39.426251Z",
     "start_time": "2020-08-26T09:10:39.416116Z"
    }
   },
   "outputs": [
    {
     "name": "stdout",
     "output_type": "stream",
     "text": [
      "<function <lambda> at 0x7fc798864c10>\n",
      "<function <lambda> at 0x7fc798864550>\n"
     ]
    },
    {
     "data": {
      "text/plain": [
       "20"
      ]
     },
     "execution_count": 58,
     "metadata": {},
     "output_type": "execute_result"
    }
   ],
   "source": [
    "add5 = lambda x: x + 10\n",
    "multiply = lambda x, y: x * y\n",
    "multiply_and_add_5 = compose(add5, multiply)\n",
    "\n",
    "multiply_and_add_5(5, 2) # 15"
   ]
  }
 ],
 "metadata": {
  "kernelspec": {
   "display_name": "Python 3",
   "language": "python",
   "name": "python3"
  },
  "language_info": {
   "codemirror_mode": {
    "name": "ipython",
    "version": 3
   },
   "file_extension": ".py",
   "mimetype": "text/x-python",
   "name": "python",
   "nbconvert_exporter": "python",
   "pygments_lexer": "ipython3",
   "version": "3.8.5"
  },
  "toc": {
   "base_numbering": 1,
   "nav_menu": {},
   "number_sections": true,
   "sideBar": true,
   "skip_h1_title": false,
   "title_cell": "Table of Contents",
   "title_sidebar": "Contents",
   "toc_cell": false,
   "toc_position": {},
   "toc_section_display": true,
   "toc_window_display": false
  },
  "varInspector": {
   "cols": {
    "lenName": 16,
    "lenType": 16,
    "lenVar": 40
   },
   "kernels_config": {
    "python": {
     "delete_cmd_postfix": "",
     "delete_cmd_prefix": "del ",
     "library": "var_list.py",
     "varRefreshCmd": "print(var_dic_list())"
    },
    "r": {
     "delete_cmd_postfix": ") ",
     "delete_cmd_prefix": "rm(",
     "library": "var_list.r",
     "varRefreshCmd": "cat(var_dic_list()) "
    }
   },
   "types_to_exclude": [
    "module",
    "function",
    "builtin_function_or_method",
    "instance",
    "_Feature"
   ],
   "window_display": false
  }
 },
 "nbformat": 4,
 "nbformat_minor": 4
}
