{
 "cells": [
  {
   "cell_type": "markdown",
   "metadata": {},
   "source": [
    "## [snake](https://www.30secondsofcode.org/python/s/snake)\n",
    "Python, String, Regexp, Intermediate\n",
    "\n",
    "Converts a string to snake case.\n",
    "\n",
    "Break the string into words and combine them adding `_` as a separator, using a regexp.\n",
    "\n",
    "[Python中常用的处理数据的方法——re.sub()函数 （正则表达式方面的函数）](https://blog.csdn.net/qq_33472765/article/details/80838317)\n",
    "\n",
    "`re.sub`的含义，作用，功能就是：\n",
    "\n",
    "**对于输入的一个字符串，利用正则表达式（的强大的字符串处理功能），去实现（相对复杂的）字符串替换处理，然后返回被替换后的字符串**\n",
    "\n",
    "`re.sub`共有五个参数：\n",
    "- 其中三个必选参数：pattern, repl, string\n",
    "- 两个可选参数：count, flags\n",
    "\n",
    "> pattern，表示正则中的模式字符串。\n",
    "\n",
    ">repl，就是replacement，被替换，的字符串的意思。  \n",
    ">repl可以是字符串，也可以是函数。\n",
    "\n",
    ">string，即表示要被处理，要被替换的那个string字符串。\n",
    "\n",
    ">匹配到的内容，只处理其中一部分。"
   ]
  },
  {
   "cell_type": "code",
   "execution_count": 2,
   "metadata": {
    "ExecuteTime": {
     "end_time": "2020-08-27T15:41:30.072862Z",
     "start_time": "2020-08-27T15:41:30.067767Z"
    }
   },
   "outputs": [],
   "source": [
    "from re import sub\n",
    "\n",
    "def snake(s):\n",
    "    return '_'.join(\n",
    "        sub('([A-Z][a-z]+)', r' \\1',\n",
    "            sub('([A-Z]+)', r' \\1',s.replace('-', ' '))\n",
    "        ).split()\n",
    "    ).lower()"
   ]
  },
  {
   "cell_type": "code",
   "execution_count": 4,
   "metadata": {
    "ExecuteTime": {
     "end_time": "2020-08-27T15:42:31.249350Z",
     "start_time": "2020-08-27T15:42:31.242656Z"
    }
   },
   "outputs": [
    {
     "name": "stdout",
     "output_type": "stream",
     "text": [
      "camel_case\n",
      "some_text\n",
      "some_mixed_string_with_spaces_underscores_and_hyphens\n",
      "all_the_small_things\n"
     ]
    }
   ],
   "source": [
    "print(snake('camelCase'))\n",
    "print(snake('some text'))\n",
    "print(snake('some-mixed_string With spaces_underscores-and-hyphens'))\n",
    "print(snake('AllThe-small Things'))"
   ]
  }
 ],
 "metadata": {
  "kernelspec": {
   "display_name": "Python 3",
   "language": "python",
   "name": "python3"
  },
  "language_info": {
   "codemirror_mode": {
    "name": "ipython",
    "version": 3
   },
   "file_extension": ".py",
   "mimetype": "text/x-python",
   "name": "python",
   "nbconvert_exporter": "python",
   "pygments_lexer": "ipython3",
   "version": "3.8.5"
  },
  "toc": {
   "base_numbering": 1,
   "nav_menu": {},
   "number_sections": true,
   "sideBar": true,
   "skip_h1_title": false,
   "title_cell": "Table of Contents",
   "title_sidebar": "Contents",
   "toc_cell": false,
   "toc_position": {},
   "toc_section_display": true,
   "toc_window_display": false
  },
  "varInspector": {
   "cols": {
    "lenName": 16,
    "lenType": 16,
    "lenVar": 40
   },
   "kernels_config": {
    "python": {
     "delete_cmd_postfix": "",
     "delete_cmd_prefix": "del ",
     "library": "var_list.py",
     "varRefreshCmd": "print(var_dic_list())"
    },
    "r": {
     "delete_cmd_postfix": ") ",
     "delete_cmd_prefix": "rm(",
     "library": "var_list.r",
     "varRefreshCmd": "cat(var_dic_list()) "
    }
   },
   "types_to_exclude": [
    "module",
    "function",
    "builtin_function_or_method",
    "instance",
    "_Feature"
   ],
   "window_display": false
  }
 },
 "nbformat": 4,
 "nbformat_minor": 4
}
