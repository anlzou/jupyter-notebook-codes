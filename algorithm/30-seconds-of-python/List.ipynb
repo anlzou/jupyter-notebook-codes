{
 "cells": [
  {
   "cell_type": "markdown",
   "metadata": {},
   "source": [
    "## [group_by](https://www.30secondsofcode.org/python/s/group-by)\n",
    "Python, List, Dictionary, Intermediate\n",
    "\n",
    "Groups the elements of a list based on the given function.\n",
    "\n",
    "Use `map()` and `fn` to map the values of the list to the keys of a dictionary. Use list comprehension to map each element to the appropriate `key`."
   ]
  },
  {
   "cell_type": "code",
   "execution_count": 1,
   "metadata": {
    "ExecuteTime": {
     "end_time": "2020-08-26T14:00:50.645748Z",
     "start_time": "2020-08-26T14:00:50.640968Z"
    }
   },
   "outputs": [],
   "source": [
    "def group_by(lst, fn):\n",
    "    return {key : [el for el in lst if fn(el) == key] for key in map(fn, lst)}"
   ]
  },
  {
   "cell_type": "code",
   "execution_count": 12,
   "metadata": {
    "ExecuteTime": {
     "end_time": "2020-08-26T14:08:32.283721Z",
     "start_time": "2020-08-26T14:08:32.274480Z"
    }
   },
   "outputs": [
    {
     "name": "stdout",
     "output_type": "stream",
     "text": [
      "{6: [6.1, 6.3], 4: [4.2]}\n",
      "{7: [6.4], 3: [2.5], 8: [7.2]}\n",
      "{3: ['one', 'two'], 5: ['three']}\n",
      "{True: [4], False: [-1, 0]}\n"
     ]
    }
   ],
   "source": [
    "from math import floor,ceil\n",
    "\n",
    "print(group_by([6.1, 4.2, 6.3], floor))\n",
    "print(group_by([6.4, 2.5, 7.2], ceil))\n",
    "print(group_by(['one', 'two', 'three'], len))\n",
    "\n",
    "f = lambda x: x>0\n",
    "print(group_by([4, -1, 0], f))"
   ]
  },
  {
   "cell_type": "code",
   "execution_count": 5,
   "metadata": {
    "ExecuteTime": {
     "end_time": "2020-08-26T14:03:29.337469Z",
     "start_time": "2020-08-26T14:03:29.328907Z"
    }
   },
   "outputs": [
    {
     "data": {
      "text/plain": [
       "['__doc__',\n",
       " '__file__',\n",
       " '__loader__',\n",
       " '__name__',\n",
       " '__package__',\n",
       " '__spec__',\n",
       " 'acos',\n",
       " 'acosh',\n",
       " 'asin',\n",
       " 'asinh',\n",
       " 'atan',\n",
       " 'atan2',\n",
       " 'atanh',\n",
       " 'ceil',\n",
       " 'comb',\n",
       " 'copysign',\n",
       " 'cos',\n",
       " 'cosh',\n",
       " 'degrees',\n",
       " 'dist',\n",
       " 'e',\n",
       " 'erf',\n",
       " 'erfc',\n",
       " 'exp',\n",
       " 'expm1',\n",
       " 'fabs',\n",
       " 'factorial',\n",
       " 'floor',\n",
       " 'fmod',\n",
       " 'frexp',\n",
       " 'fsum',\n",
       " 'gamma',\n",
       " 'gcd',\n",
       " 'hypot',\n",
       " 'inf',\n",
       " 'isclose',\n",
       " 'isfinite',\n",
       " 'isinf',\n",
       " 'isnan',\n",
       " 'isqrt',\n",
       " 'ldexp',\n",
       " 'lgamma',\n",
       " 'log',\n",
       " 'log10',\n",
       " 'log1p',\n",
       " 'log2',\n",
       " 'modf',\n",
       " 'nan',\n",
       " 'perm',\n",
       " 'pi',\n",
       " 'pow',\n",
       " 'prod',\n",
       " 'radians',\n",
       " 'remainder',\n",
       " 'sin',\n",
       " 'sinh',\n",
       " 'sqrt',\n",
       " 'tan',\n",
       " 'tanh',\n",
       " 'tau',\n",
       " 'trunc']"
      ]
     },
     "execution_count": 5,
     "metadata": {},
     "output_type": "execute_result"
    }
   ],
   "source": [
    "import math\n",
    "dir(math)"
   ]
  },
  {
   "cell_type": "markdown",
   "metadata": {},
   "source": [
    "## [filter_unique](https://www.30secondsofcode.org/python/s/filter-unique) & filter_non_unique\n",
    "Python, List, Beginner\n",
    "\n",
    "Filters out the unique values in a list.\n",
    "\n",
    "Use a `collections.Counter` to get the count of each value in the list. Use list comprehension to create a list containing only the non-unique values.\n",
    "\n",
    "`collections.Counter`：Counter中文意思是计数器，也就是我们常用于统计的一种数据类型"
   ]
  },
  {
   "cell_type": "code",
   "execution_count": 16,
   "metadata": {
    "ExecuteTime": {
     "end_time": "2020-08-26T14:39:21.694745Z",
     "start_time": "2020-08-26T14:39:21.689473Z"
    }
   },
   "outputs": [],
   "source": [
    "from collections import Counter\n",
    "\n",
    "def filter_unique(lst):\n",
    "    return [item for item, count in Counter(lst).items() if count > 1]"
   ]
  },
  {
   "cell_type": "code",
   "execution_count": 17,
   "metadata": {
    "ExecuteTime": {
     "end_time": "2020-08-26T14:39:37.666003Z",
     "start_time": "2020-08-26T14:39:37.657772Z"
    },
    "scrolled": true
   },
   "outputs": [
    {
     "data": {
      "text/plain": [
       "[2, 4]"
      ]
     },
     "execution_count": 17,
     "metadata": {},
     "output_type": "execute_result"
    }
   ],
   "source": [
    "filter_unique([1, 2, 2, 3, 4, 4, 5])"
   ]
  },
  {
   "cell_type": "code",
   "execution_count": 18,
   "metadata": {
    "ExecuteTime": {
     "end_time": "2020-08-26T14:41:07.204456Z",
     "start_time": "2020-08-26T14:41:07.199531Z"
    }
   },
   "outputs": [],
   "source": [
    "def filter_non_unique(lst):\n",
    "    return [item for item, count in Counter(lst).items() if count == 1]"
   ]
  },
  {
   "cell_type": "code",
   "execution_count": 19,
   "metadata": {
    "ExecuteTime": {
     "end_time": "2020-08-26T14:41:24.867633Z",
     "start_time": "2020-08-26T14:41:24.859409Z"
    }
   },
   "outputs": [
    {
     "data": {
      "text/plain": [
       "[1, 3, 5]"
      ]
     },
     "execution_count": 19,
     "metadata": {},
     "output_type": "execute_result"
    }
   ],
   "source": [
    "filter_non_unique([1, 2, 2, 3, 4, 4, 5])"
   ]
  },
  {
   "cell_type": "markdown",
   "metadata": {},
   "source": [
    "## [bifurcate](https://www.30secondsofcode.org/python/s/bifurcate)\n",
    "Python, List, Intermediate\n",
    "\n",
    "Splits values into two groups. If an element in `filter` is `True`, the corresponding element in the collection belongs to the first group; otherwise, it belongs to the second group.\n",
    "\n",
    "Use list comprehension and `enumerate()` to add elements to groups, based on `filter`."
   ]
  },
  {
   "cell_type": "code",
   "execution_count": 20,
   "metadata": {
    "ExecuteTime": {
     "end_time": "2020-08-26T14:43:20.097152Z",
     "start_time": "2020-08-26T14:43:20.091866Z"
    }
   },
   "outputs": [],
   "source": [
    "def bifurcate(lst, filter):\n",
    "    return [\n",
    "        [x for i, x in enumerate(lst) if filter[i] == True],\n",
    "        [x for i, x in enumerate(lst) if filter[i] == False]\n",
    "    ]"
   ]
  },
  {
   "cell_type": "code",
   "execution_count": 21,
   "metadata": {
    "ExecuteTime": {
     "end_time": "2020-08-26T14:43:30.263464Z",
     "start_time": "2020-08-26T14:43:30.254905Z"
    }
   },
   "outputs": [
    {
     "data": {
      "text/plain": [
       "[['beep', 'boop', 'bar'], ['foo']]"
      ]
     },
     "execution_count": 21,
     "metadata": {},
     "output_type": "execute_result"
    }
   ],
   "source": [
    "bifurcate(['beep', 'boop', 'foo', 'bar'], [True, True, False, True])"
   ]
  },
  {
   "cell_type": "markdown",
   "metadata": {},
   "source": [
    "## [union_by](https://www.30secondsofcode.org/python/s/union-by)\n",
    "Python, List, Function, Intermediate\n",
    "\n",
    "Returns every element that exists in any of the two lists once, after applying the provided function to each element of both.\n",
    "\n",
    "Create a `set` by applying `fn` to each element in `a`, then use list comprehension in combination with `fn` on `b` to only keep values not contained in the previously created set, `_a`. Finally, create a `set` from the previous result and `a` and transform it into a `list`\n",
    "\n",
    "取集合a，以及取集合b中的floor(b[n])不在集合a中的floor(a)"
   ]
  },
  {
   "cell_type": "code",
   "execution_count": 22,
   "metadata": {
    "ExecuteTime": {
     "end_time": "2020-08-26T14:47:48.211527Z",
     "start_time": "2020-08-26T14:47:48.206097Z"
    }
   },
   "outputs": [],
   "source": [
    "def union_by(a, b, fn):\n",
    "    _a = set(map(fn, a))\n",
    "    print(_a)\n",
    "    return list(set(a + [item for item in b if fn(item) not in _a]))"
   ]
  },
  {
   "cell_type": "code",
   "execution_count": 33,
   "metadata": {
    "ExecuteTime": {
     "end_time": "2020-08-26T15:55:47.909367Z",
     "start_time": "2020-08-26T15:55:47.899015Z"
    },
    "scrolled": true
   },
   "outputs": [
    {
     "name": "stdout",
     "output_type": "stream",
     "text": [
      "{2, 3}\n"
     ]
    },
    {
     "data": {
      "text/plain": [
       "[2.1, 3.5, 4.2]"
      ]
     },
     "execution_count": 33,
     "metadata": {},
     "output_type": "execute_result"
    }
   ],
   "source": [
    "from math import floor\n",
    "union_by([2.1, 3.5], [4.2, 3.3], floor)"
   ]
  },
  {
   "cell_type": "markdown",
   "metadata": {},
   "source": [
    "## [Code Anatomy - Writing high performance Python code](https://www.30secondsofcode.org/blog/s/code-anatomy-performant-python)\n",
    "\n",
    "`fiter(function. Iterable)`\n",
    "\n",
    "function: 用来筛选的函数. 在ﬁlter中会自动的把iterable中的元素传递给function. 然后根据function返回的True或者False来判断是否保留此项数据\n",
    "\n",
    "Iterable: 可迭代对象"
   ]
  },
  {
   "cell_type": "code",
   "execution_count": 42,
   "metadata": {
    "ExecuteTime": {
     "end_time": "2020-08-26T16:05:20.517271Z",
     "start_time": "2020-08-26T16:05:20.512793Z"
    }
   },
   "outputs": [],
   "source": [
    "def difference(a, b):\n",
    "    return [item for item in a if item not in b]"
   ]
  },
  {
   "cell_type": "code",
   "execution_count": 50,
   "metadata": {
    "ExecuteTime": {
     "end_time": "2020-08-26T16:05:41.397094Z",
     "start_time": "2020-08-26T16:05:41.391792Z"
    }
   },
   "outputs": [],
   "source": [
    "def difference(a, b):\n",
    "    _b = set(b)\n",
    "    return [item for item in a if item not in _b]"
   ]
  },
  {
   "cell_type": "code",
   "execution_count": 53,
   "metadata": {
    "ExecuteTime": {
     "end_time": "2020-08-26T16:14:15.105744Z",
     "start_time": "2020-08-26T16:14:15.099595Z"
    }
   },
   "outputs": [],
   "source": [
    "def difference(a, b):\n",
    "    _b = set(b)\n",
    "    print(_b)\n",
    "    return list(filter(lambda item: item not in _b, a))"
   ]
  },
  {
   "cell_type": "code",
   "execution_count": 54,
   "metadata": {
    "ExecuteTime": {
     "end_time": "2020-08-26T16:14:17.419256Z",
     "start_time": "2020-08-26T16:14:17.412279Z"
    },
    "scrolled": true
   },
   "outputs": [
    {
     "name": "stdout",
     "output_type": "stream",
     "text": [
      "{1, 2, 4}\n",
      "[3]\n"
     ]
    }
   ],
   "source": [
    "print(difference([1, 2, 3], [1, 2, 2, 4]))"
   ]
  },
  {
   "cell_type": "markdown",
   "metadata": {},
   "source": [
    "## [intersection_by](https://www.30secondsofcode.org/python/s/intersection-by)\n",
    "Python, List, Function, Intermediate\n",
    "\n",
    "Returns a list of elements that exist in both lists, after applying the provided function to each list element of both.\n",
    "\n",
    "Create a `set` by applying `fn` to each element in `b`, then use list comprehension in combination with `fn` on `a` to only keep values contained in both lists.\n",
    "\n",
    "a : floor(a) if in floor(b)"
   ]
  },
  {
   "cell_type": "code",
   "execution_count": 55,
   "metadata": {
    "ExecuteTime": {
     "end_time": "2020-08-26T16:18:48.158403Z",
     "start_time": "2020-08-26T16:18:48.153003Z"
    }
   },
   "outputs": [],
   "source": [
    "def intersection_by(a, b, fn):\n",
    "    _b = set(map(fn, b))\n",
    "    return [item for item in a if fn(item) in _b]"
   ]
  },
  {
   "cell_type": "code",
   "execution_count": 56,
   "metadata": {
    "ExecuteTime": {
     "end_time": "2020-08-26T16:18:57.800054Z",
     "start_time": "2020-08-26T16:18:57.791758Z"
    }
   },
   "outputs": [
    {
     "data": {
      "text/plain": [
       "[2.1]"
      ]
     },
     "execution_count": 56,
     "metadata": {},
     "output_type": "execute_result"
    }
   ],
   "source": [
    "from math import floor\n",
    "intersection_by([2.1, 1.2], [2.3, 3.4],floor)"
   ]
  },
  {
   "cell_type": "markdown",
   "metadata": {},
   "source": [
    "## [symmetric_difference_by](https://www.30secondsofcode.org/python/s/symmetric-difference-by)\n",
    "Python, List, Function, Intermediate\n",
    "\n",
    "Returns the symmetric difference between two lists, after applying the provided function to each list element of both.\n",
    "\n",
    "Create a `set` by applying `fn` to each element in every list, then use list comprehension in combination with `fn` on each one to only keep values not contained in the previously created set of the other.\n",
    "\n",
    "集合 floor(a) 中不在集合 floor(b) 中 & 相反的列表"
   ]
  },
  {
   "cell_type": "code",
   "execution_count": 58,
   "metadata": {
    "ExecuteTime": {
     "end_time": "2020-08-26T16:27:22.409104Z",
     "start_time": "2020-08-26T16:27:22.402280Z"
    }
   },
   "outputs": [],
   "source": [
    "def symmetric_difference_by(a, b, fn):\n",
    "    _a, _b = set(map(fn, a)), set(map(fn, b))\n",
    "    print(_a, _b)\n",
    "    return [item for item in a if fn(item) not in _b] + [item for item in b if fn(item) not in _a]"
   ]
  },
  {
   "cell_type": "code",
   "execution_count": 59,
   "metadata": {
    "ExecuteTime": {
     "end_time": "2020-08-26T16:27:46.830562Z",
     "start_time": "2020-08-26T16:27:46.821394Z"
    }
   },
   "outputs": [
    {
     "name": "stdout",
     "output_type": "stream",
     "text": [
      "{1, 2} {2, 3}\n"
     ]
    },
    {
     "data": {
      "text/plain": [
       "[1.2, 3.4]"
      ]
     },
     "execution_count": 59,
     "metadata": {},
     "output_type": "execute_result"
    }
   ],
   "source": [
    "from math import floor\n",
    "symmetric_difference_by([2.1, 1.2], [2.3, 3.4],floor)"
   ]
  },
  {
   "cell_type": "markdown",
   "metadata": {},
   "source": [
    "## [merge](https://www.30secondsofcode.org/python/s/merge)\n",
    "Python, List, Math, Advanced\n",
    "\n",
    "Merges two or more lists into a list of lists, combining elements from each of the input lists based on their positions.\n",
    "\n",
    "Use `max` combined with list comprehension to get the length of the longest list in the arguments. Use `range()` in combination with the `max_length` variable to loop as many times as there are elements in the longest list. If a list is shorter than `max_length`, use `fill_value` for the remaining items (defaults to `None`).\n",
    "\n",
    "`zip()` and `itertools.zip_longest()` provide similar functionality to this snippet."
   ]
  },
  {
   "cell_type": "code",
   "execution_count": 60,
   "metadata": {
    "ExecuteTime": {
     "end_time": "2020-08-26T16:43:48.307230Z",
     "start_time": "2020-08-26T16:43:48.299840Z"
    }
   },
   "outputs": [],
   "source": [
    "def merge(*args, fill_value=None):\n",
    "    max_length = max([len(lst) for lst in args])\n",
    "    result = []\n",
    "    for i in range(max_length):\n",
    "        result.append([\n",
    "            args[k][i] if i < len(args[k]) else fill_value for k in range(len(args))\n",
    "        ])\n",
    "    return result"
   ]
  },
  {
   "cell_type": "code",
   "execution_count": 61,
   "metadata": {
    "ExecuteTime": {
     "end_time": "2020-08-26T16:44:24.249825Z",
     "start_time": "2020-08-26T16:44:24.242430Z"
    }
   },
   "outputs": [
    {
     "name": "stdout",
     "output_type": "stream",
     "text": [
      "[['a', 1, True], ['b', 2, False]]\n",
      "[['a', 1, True], [None, 2, False]]\n",
      "[['a', 1, True], ['_', 2, False]]\n"
     ]
    }
   ],
   "source": [
    "print(merge(['a', 'b'], [1, 2], [True, False]))\n",
    "print(merge(['a'], [1, 2], [True, False]))\n",
    "print(merge(['a'], [1, 2], [True, False], fill_value = '_'))"
   ]
  },
  {
   "cell_type": "markdown",
   "metadata": {},
   "source": [
    "## [bifurcate_by](https://www.30secondsofcode.org/python/s/bifurcate-by)\n",
    "Python, List, Function, Intermediate\n",
    "\n",
    "Splits values into two groups according to a function, which specifies which group an element in the input list belongs to. If the function returns `True`, the element belongs to the first group; otherwise, it belongs to the second group.\n",
    "\n",
    "Use list comprehension to add elements to groups, based on `fn`."
   ]
  },
  {
   "cell_type": "code",
   "execution_count": 62,
   "metadata": {
    "ExecuteTime": {
     "end_time": "2020-08-26T16:48:08.658057Z",
     "start_time": "2020-08-26T16:48:08.652630Z"
    }
   },
   "outputs": [],
   "source": [
    "def bifurcate_by(lst, fn):\n",
    "    return [\n",
    "        [x for x in lst if fn(x)],\n",
    "        [x for x in lst if not fn(x)]\n",
    "    ]"
   ]
  },
  {
   "cell_type": "code",
   "execution_count": 63,
   "metadata": {
    "ExecuteTime": {
     "end_time": "2020-08-26T16:48:40.620942Z",
     "start_time": "2020-08-26T16:48:40.612852Z"
    }
   },
   "outputs": [
    {
     "data": {
      "text/plain": [
       "[['beep', 'boop', 'bar'], ['foo']]"
      ]
     },
     "execution_count": 63,
     "metadata": {},
     "output_type": "execute_result"
    }
   ],
   "source": [
    "bifurcate_by(\n",
    "    ['beep', 'boop', 'foo', 'bar'], \n",
    "    lambda x: x[0] == 'b'\n",
    ")"
   ]
  },
  {
   "cell_type": "markdown",
   "metadata": {},
   "source": [
    "## [every](https://www.30secondsofcode.org/python/s/every)\n",
    "Python, List, Function, Intermediate\n",
    "\n",
    "Returns `True` if the provided function returns `True` for every element in the list, `False` otherwise.\n",
    "\n",
    "Use `all()` in combination with `map` and `fn` to check if `fn` returns `True` for all elements in the list."
   ]
  },
  {
   "cell_type": "code",
   "execution_count": 64,
   "metadata": {
    "ExecuteTime": {
     "end_time": "2020-08-26T16:52:44.943924Z",
     "start_time": "2020-08-26T16:52:44.938946Z"
    }
   },
   "outputs": [],
   "source": [
    "def every(lst, fn=lambda x: x != 0):\n",
    "    return all(map(fn, lst))"
   ]
  },
  {
   "cell_type": "code",
   "execution_count": 66,
   "metadata": {
    "ExecuteTime": {
     "end_time": "2020-08-26T16:53:17.319771Z",
     "start_time": "2020-08-26T16:53:17.313149Z"
    }
   },
   "outputs": [
    {
     "name": "stdout",
     "output_type": "stream",
     "text": [
      "True\n",
      "False\n"
     ]
    }
   ],
   "source": [
    "print(every([4, 2, 3], lambda x: x > 1))\n",
    "print(every([0, 1, 2, 3]))"
   ]
  },
  {
   "cell_type": "markdown",
   "metadata": {},
   "source": [
    "## "
   ]
  }
 ],
 "metadata": {
  "kernelspec": {
   "display_name": "Python 3",
   "language": "python",
   "name": "python3"
  },
  "language_info": {
   "codemirror_mode": {
    "name": "ipython",
    "version": 3
   },
   "file_extension": ".py",
   "mimetype": "text/x-python",
   "name": "python",
   "nbconvert_exporter": "python",
   "pygments_lexer": "ipython3",
   "version": "3.8.5"
  },
  "toc": {
   "base_numbering": 1,
   "nav_menu": {},
   "number_sections": true,
   "sideBar": true,
   "skip_h1_title": false,
   "title_cell": "Table of Contents",
   "title_sidebar": "Contents",
   "toc_cell": false,
   "toc_position": {},
   "toc_section_display": true,
   "toc_window_display": false
  },
  "varInspector": {
   "cols": {
    "lenName": 16,
    "lenType": 16,
    "lenVar": 40
   },
   "kernels_config": {
    "python": {
     "delete_cmd_postfix": "",
     "delete_cmd_prefix": "del ",
     "library": "var_list.py",
     "varRefreshCmd": "print(var_dic_list())"
    },
    "r": {
     "delete_cmd_postfix": ") ",
     "delete_cmd_prefix": "rm(",
     "library": "var_list.r",
     "varRefreshCmd": "cat(var_dic_list()) "
    }
   },
   "types_to_exclude": [
    "module",
    "function",
    "builtin_function_or_method",
    "instance",
    "_Feature"
   ],
   "window_display": false
  }
 },
 "nbformat": 4,
 "nbformat_minor": 4
}
