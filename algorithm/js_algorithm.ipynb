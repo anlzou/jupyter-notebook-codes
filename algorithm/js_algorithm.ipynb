{
 "cells": [
  {
   "cell_type": "code",
   "execution_count": 1,
   "metadata": {},
   "outputs": [],
   "source": [
    "/**\n",
    " * @param {number[]} prices\n",
    " * @return {number}\n",
    " */\n",
    "var maxProfit = function(prices) {\n",
    "    let min = prices[0];\n",
    "    let profit = 0;\n",
    "    // 7 1 5 3 6 4\n",
    "    for(let i = 1; i < prices.length; i++) {\n",
    "        if (prices[i] > prices[i -1]) {\n",
    "            profit = Math.max(profit, prices[i] - min);\n",
    "        } else {\n",
    "            min = Math.min(min, prices[i]);;\n",
    "        }\n",
    "    }\n",
    "\n",
    "    return profit;\n",
    "};"
   ]
  },
  {
   "cell_type": "code",
   "execution_count": 7,
   "metadata": {},
   "outputs": [
    {
     "data": {
      "text/plain": [
       "5"
      ]
     },
     "execution_count": 7,
     "metadata": {},
     "output_type": "execute_result"
    }
   ],
   "source": [
    "let arr = [7, 1, 5, 3, 6, 4]\n",
    "maxProfit(arr)"
   ]
  }
 ],
 "metadata": {
  "kernelspec": {
   "display_name": "Javascript (Node.js)",
   "language": "javascript",
   "name": "javascript"
  },
  "language_info": {
   "file_extension": ".js",
   "mimetype": "application/javascript",
   "name": "javascript",
   "version": "13.13.0"
  },
  "toc": {
   "base_numbering": 1,
   "nav_menu": {},
   "number_sections": true,
   "sideBar": true,
   "skip_h1_title": false,
   "title_cell": "Table of Contents",
   "title_sidebar": "Contents",
   "toc_cell": false,
   "toc_position": {},
   "toc_section_display": true,
   "toc_window_display": false
  }
 },
 "nbformat": 4,
 "nbformat_minor": 4
}
