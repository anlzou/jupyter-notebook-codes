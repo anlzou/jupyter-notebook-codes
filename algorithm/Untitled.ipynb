{
 "cells": [
  {
   "cell_type": "code",
   "execution_count": 1,
   "metadata": {},
   "outputs": [],
   "source": [
    "class Solution {\n",
    "    public int maxProfit(int[] prices) {\n",
    "        int minprice = Integer.MAX_VALUE;\n",
    "        int maxprofit = 0;\n",
    "        for (int price: prices) {\n",
    "            maxprofit = Math.max(maxprofit, price - minprice);\n",
    "             minprice = Math.min(price, minprice);\n",
    "        }\n",
    "        return maxprofit;\n",
    "    }\n",
    "}"
   ]
  },
  {
   "cell_type": "code",
   "execution_count": 15,
   "metadata": {},
   "outputs": [
    {
     "name": "stdout",
     "output_type": "stream",
     "text": [
      "5\n"
     ]
    }
   ],
   "source": [
    "int arr[] = {7, 1, 5, 3, 6, 4};\n",
    "Solution solution = new Solution();\n",
    "System.out.println(solution.maxProfit(arr));"
   ]
  }
 ],
 "metadata": {
  "kernelspec": {
   "display_name": "Java",
   "language": "java",
   "name": "java"
  },
  "language_info": {
   "codemirror_mode": "java",
   "file_extension": ".jshell",
   "mimetype": "text/x-java-source",
   "name": "Java",
   "pygments_lexer": "java",
   "version": "11.0.8+10-post-Ubuntu-0ubuntu120.04"
  },
  "toc": {
   "base_numbering": 1,
   "nav_menu": {},
   "number_sections": true,
   "sideBar": true,
   "skip_h1_title": false,
   "title_cell": "Table of Contents",
   "title_sidebar": "Contents",
   "toc_cell": false,
   "toc_position": {},
   "toc_section_display": true,
   "toc_window_display": false
  }
 },
 "nbformat": 4,
 "nbformat_minor": 4
}
