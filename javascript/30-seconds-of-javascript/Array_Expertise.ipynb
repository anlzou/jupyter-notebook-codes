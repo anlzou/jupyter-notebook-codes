{
 "cells": [
  {
   "cell_type": "markdown",
   "metadata": {},
   "source": [
    "# [JavaScript Array 对象 by RUNOOB](https://www.runoob.com/jsref/jsref-obj-array.html)\n",
    "\n",
    "<details><summary>数组属性</summary>\n",
    "\n",
    "|属性|描述|\n",
    "|:---|:---|\n",
    "|constructor|\t返回创建数组对象的原型函数。|\n",
    "|length|\t设置或返回数组元素的个数。|\n",
    "|prototype|\t允许你向数组对象添加属性或方法。|\n",
    "</details>\n",
    "\n",
    "<details><summary>Array 对象方法</summary>\n",
    "    \n",
    "|方法|描述|\n",
    "|:---|:---|\n",
    "|concat()|\t连接两个或更多的数组，并返回结果。|\n",
    "|copyWithin()|\t从数组的指定位置拷贝元素到数组的另一个指定位置中。|\n",
    "|entries()|\t返回数组的可迭代对象。|\n",
    "|every()|\t检测数值元素的每个元素是否都符合条件。|\n",
    "|fill()|\t使用一个固定值来填充数组。|\n",
    "|filter()|\t检测数值元素，并返回符合条件所有元素的数组。|\n",
    "|find()|\t返回符合传入测试（函数）条件的数组元素。|\n",
    "|findIndex()|\t返回符合传入测试（函数）条件的数组元素索引。|\n",
    "|forEach()|\t数组每个元素都执行一次回调函数。|\n",
    "|from()|\t通过给定的对象中创建一个数组。|\n",
    "|includes()|\t判断一个数组是否包含一个指定的值。|\n",
    "|indexOf()|\t搜索数组中的元素，并返回它所在的位置。|\n",
    "|isArray()|\t判断对象是否为数组。|\n",
    "|join()|\t把数组的所有元素放入一个字符串。|\n",
    "|keys()|\t返回数组的可迭代对象，包含原始数组的键(key)。|\n",
    "|lastIndexOf()|\t搜索数组中的元素，并返回它最后出现的位置。|\n",
    "|map()|\t通过指定函数处理数组的每个元素，并返回处理后的数组。|\n",
    "|pop()|\t删除数组的最后一个元素并返回删除的元素。|\n",
    "|push()|\t向数组的末尾添加一个或更多元素，并返回新的长度。|\n",
    "|reduce()|\t将数组元素计算为一个值（从左到右）。|\n",
    "|reduceRight()|\t将数组元素计算为一个值（从右到左）。|\n",
    "|reverse()|\t反转数组的元素顺序。|\n",
    "|shift()|\t删除并返回数组的第一个元素。|\n",
    "|slice()|\t选取数组的一部分，并返回一个新数组。|\n",
    "|some()|\t检测数组元素中是否有元素符合指定条件。|\n",
    "|sort()|\t对数组的元素进行排序。|\n",
    "|splice()|\t从数组中添加或删除元素。|\n",
    "|toString()|\t把数组转换为字符串，并返回结果。|\n",
    "|unshift()|\t向数组的开头添加一个或更多元素，并返回新的长度。|\n",
    "|valueOf()|\t返回数组对象的原始值。|\n",
    "\n",
    "</details>"
   ]
  },
  {
   "cell_type": "markdown",
   "metadata": {},
   "source": [
    "## [all](https://www.30secondsofcode.org/js/s/all)\n",
    "JavaScript, Array, Function, Beginner\n",
    "\n",
    "Returns `true` if the provided predicate function returns `true` for all elements in a collection, `false` otherwise.\n",
    "\n",
    "Use `Array.prototype.every()` to test if all elements in the collection return true based on `fn`. Omit the second argument, `fn`, to use `Boolean` as a default.\n",
    "\n",
    "---\n",
    "every()与some()方法都是JS中数组的迭代方法。\n",
    "\n",
    "- every()是对数组中每一项运行给定函数，如果该函数所有一项返回true,则返回true。一旦有一项不满足则返回flase\n",
    "- some()是对数组中每一项运行给定函数，如果该函数满足任一项返回true，则返回true\n",
    "\n",
    "**语法**\n",
    "```js\n",
    "array.every(function(currentValue,index,arr), thisValue)\n",
    "```\n",
    "\n",
    "**参数说明**\n",
    "- `function(currentValue, index,arr)`\t必须。函数，数组中的每个元素都会执行这个函数\n",
    "- `thisValue`\t可选。对象作为该执行回调时使用，传递给函数，用作 \"this\" 的值。如果省略了 thisValue ，\"this\" 的值为 \"undefined\"\n",
    "    - `currentValue`\t必须。当前元素的值\n",
    "    - `index`\t可选。当前元素的索引值\n",
    "    - `arr`\t可选。当前元素属于的数组对象\n"
   ]
  },
  {
   "cell_type": "code",
   "execution_count": null,
   "metadata": {
    "ExecuteTime": {
     "end_time": "2020-08-29T20:50:48.132013Z",
     "start_time": "2020-08-29T20:50:47.781Z"
    }
   },
   "outputs": [],
   "source": [
    "const all = (arr, fn = Boolean) => arr.every(fn);"
   ]
  },
  {
   "cell_type": "code",
   "execution_count": null,
   "metadata": {
    "ExecuteTime": {
     "end_time": "2020-08-29T20:50:48.141597Z",
     "start_time": "2020-08-29T20:50:47.788Z"
    },
    "scrolled": true
   },
   "outputs": [],
   "source": [
    "console.log(all([1, 2, 3], x => x > 1));\n",
    "console.log(all([1, 2, 3]));"
   ]
  },
  {
   "cell_type": "markdown",
   "metadata": {},
   "source": [
    "## [allEqual](https://www.30secondsofcode.org/js/s/all-equal)\n",
    "JavaScript, Array, Function, Beginner\n",
    "\n",
    "Check if all elements in an array are equal.\n",
    "\n",
    "Use `Array.prototype.every()` to check if all the elements of the array are the same as the first one. Elements in the array are compared using the strict comparison operator, which does not account for `NaN` self-inequality."
   ]
  },
  {
   "cell_type": "code",
   "execution_count": null,
   "metadata": {
    "ExecuteTime": {
     "end_time": "2020-08-29T20:50:48.149949Z",
     "start_time": "2020-08-29T20:50:47.794Z"
    }
   },
   "outputs": [],
   "source": [
    "const allEqual = arr => arr.every(val => val === arr[0]);"
   ]
  },
  {
   "cell_type": "code",
   "execution_count": null,
   "metadata": {
    "ExecuteTime": {
     "end_time": "2020-08-29T20:50:48.161083Z",
     "start_time": "2020-08-29T20:50:47.798Z"
    },
    "scrolled": true
   },
   "outputs": [],
   "source": [
    "console.log(allEqual([1, 2, 3, 4, 5, 6]));\n",
    "console.log(allEqual([1, 1, 1, 1]));"
   ]
  },
  {
   "cell_type": "markdown",
   "metadata": {},
   "source": [
    "## [any](https://www.30secondsofcode.org/js/s/any)\n",
    "JavaScript, Array, Function, Beginner\n",
    "\n",
    "Returns `true` if the provided predicate function returns `true` for at least one element in a collection, `false` otherwise.\n",
    "\n",
    "Use `Array.prototype.some()` to test if any elements in the collection return `true` based on `fn`. Omit the second argument, `fn`, to use `Boolean` as a default."
   ]
  },
  {
   "cell_type": "code",
   "execution_count": null,
   "metadata": {
    "ExecuteTime": {
     "end_time": "2020-08-31T08:31:11.561794Z",
     "start_time": "2020-08-31T08:31:09.846Z"
    }
   },
   "outputs": [],
   "source": [
    "const any = (arr, fn = Boolean) => arr.some(fn);"
   ]
  },
  {
   "cell_type": "code",
   "execution_count": null,
   "metadata": {
    "ExecuteTime": {
     "end_time": "2020-08-31T08:31:13.687173Z",
     "start_time": "2020-08-31T08:31:11.951Z"
    }
   },
   "outputs": [],
   "source": [
    "console.log(any([0, 1, 2, 0], x => x >= 2));\n",
    "console.log(any([0, 0, 1, 0]));"
   ]
  },
  {
   "cell_type": "markdown",
   "metadata": {},
   "source": [
    "## [compact](https://www.30secondsofcode.org/js/s/compact)\n",
    "JavaScript, Array, Beginner\n",
    "\n",
    "Removes falsy values from an array.\n",
    "\n",
    "Use `Array.prototype.filter()` to filter out falsy values (`false`, `null`, `0`, `\"\"`, `undefined`, and `NaN`)."
   ]
  },
  {
   "cell_type": "code",
   "execution_count": null,
   "metadata": {
    "ExecuteTime": {
     "end_time": "2020-08-29T20:50:48.175159Z",
     "start_time": "2020-08-29T20:50:47.811Z"
    }
   },
   "outputs": [],
   "source": [
    "const compact = arr => arr.filter(Boolean);"
   ]
  },
  {
   "cell_type": "code",
   "execution_count": null,
   "metadata": {
    "ExecuteTime": {
     "end_time": "2020-08-29T20:50:48.191441Z",
     "start_time": "2020-08-29T20:50:47.814Z"
    }
   },
   "outputs": [],
   "source": [
    "console.log(compact([0, 1, false, 2, '', 3, 'a', 'e' * 23, NaN, 's', 34]));"
   ]
  },
  {
   "cell_type": "markdown",
   "metadata": {},
   "source": [
    "## [everyNth]()\n",
    "JavaScript, Array, Beginner\n",
    "\n",
    "Returns every nth element in an array.\n",
    "\n",
    "Use `Array.prototype.filter()` to create a new array that contains every nth element of a given array.\n",
    "\n",
    "---\n",
    "返回奇数index的值\n",
    "\n",
    "---\n",
    "[**`==`和`===`区别**](https://www.cnblogs.com/nelson-hu/p/7922731.html)\n",
    "\n",
    "<details><summary>内容折叠</summary>\n",
    "\n",
    "**双等号 `==` :**\n",
    "\n",
    "　　（1）如果两个值类型相同，再进行三个等号(===)的比较\n",
    "\n",
    "　　（2）如果两个值类型不同，也有可能相等，需根据以下规则进行类型转换在比较：\n",
    "\n",
    "　　　　1）如果一个是null，一个是undefined，那么相等\n",
    "\n",
    "　　　　2）如果一个是字符串，一个是数值，把字符串转换成数值之后再进行比较\n",
    "\n",
    "　　\n",
    "\n",
    "**三等号 `===` :**\n",
    "\n",
    "　　（1）如果类型不同，就一定不相等\n",
    "\n",
    "　　（2）如果两个都是数值，并且是同一个值，那么相等；如果其中至少一个是NaN，那么不相等。（判断一个值是否是NaN，只能使用isNaN( ) 来判断）\n",
    "\n",
    "　　（3）如果两个都是字符串，每个位置的字符都一样，那么相等，否则不相等。\n",
    "\n",
    "　　（4）如果两个值都是true，或是false，那么相等\n",
    "\n",
    "　　（5）如果两个值都引用同一个对象或是函数，那么相等，否则不相等\n",
    "\n",
    "　　（6）如果两个值都是null，或是undefined，那么相等\n",
    "</details>"
   ]
  },
  {
   "cell_type": "code",
   "execution_count": null,
   "metadata": {
    "ExecuteTime": {
     "end_time": "2020-08-29T20:50:48.194156Z",
     "start_time": "2020-08-29T20:50:47.817Z"
    }
   },
   "outputs": [],
   "source": [
    "const everyNth = (arr, nth) => arr.filter((e, i) => i % nth === nth - 1);"
   ]
  },
  {
   "cell_type": "code",
   "execution_count": null,
   "metadata": {
    "ExecuteTime": {
     "end_time": "2020-08-29T20:50:48.195375Z",
     "start_time": "2020-08-29T20:50:47.821Z"
    },
    "scrolled": true
   },
   "outputs": [],
   "source": [
    "console.log(everyNth([0, 1, 7, 3, 4, 5, 6], 2));"
   ]
  },
  {
   "cell_type": "markdown",
   "metadata": {},
   "source": [
    "## [filterNonUnique](https://www.30secondsofcode.org/js/s/filter-non-unique)\n",
    "JavaScript, Array, Beginner\n",
    "\n",
    "Filters out the non-unique values in an array.\n",
    "\n",
    "Use `Array.prototype.filter()` for an array containing only the unique values.\n",
    "\n",
    "---\n",
    "返回数组中值唯一的元素"
   ]
  },
  {
   "cell_type": "code",
   "execution_count": null,
   "metadata": {
    "ExecuteTime": {
     "end_time": "2020-08-29T20:50:48.195847Z",
     "start_time": "2020-08-29T20:50:47.825Z"
    }
   },
   "outputs": [],
   "source": [
    "const filterNonUnique = arr => arr.filter(i => arr.indexOf(i) === arr.lastIndexOf(i));"
   ]
  },
  {
   "cell_type": "code",
   "execution_count": null,
   "metadata": {
    "ExecuteTime": {
     "end_time": "2020-08-29T20:50:48.201491Z",
     "start_time": "2020-08-29T20:50:47.827Z"
    },
    "scrolled": true
   },
   "outputs": [],
   "source": [
    "console.log(filterNonUnique([1, 2, 2, 3, 4, 4, 5]));"
   ]
  },
  {
   "cell_type": "markdown",
   "metadata": {},
   "source": [
    "## [findLast](https://www.30secondsofcode.org/js/s/find-last)\n",
    "JavaScript, Array, Beginner\n",
    "\n",
    "Returns the last element for which the provided function returns a truthy value.\n",
    "\n",
    "Use `Array.prototype.filter()` to remove elements for which `fn` returns falsy values, `Array.prototype.pop()` to get the last one.\n",
    "\n",
    "---\n",
    "返回最后一个满足条件的值"
   ]
  },
  {
   "cell_type": "code",
   "execution_count": null,
   "metadata": {
    "ExecuteTime": {
     "end_time": "2020-08-29T20:50:48.202744Z",
     "start_time": "2020-08-29T20:50:47.829Z"
    }
   },
   "outputs": [],
   "source": [
    "const findLast = (arr, fn) => arr.filter(fn).pop();"
   ]
  },
  {
   "cell_type": "code",
   "execution_count": null,
   "metadata": {
    "ExecuteTime": {
     "end_time": "2020-08-29T20:50:48.213983Z",
     "start_time": "2020-08-29T20:50:47.831Z"
    }
   },
   "outputs": [],
   "source": [
    "console.log(findLast([1, 2, 3, 4], n => n % 2 === 1));"
   ]
  },
  {
   "cell_type": "markdown",
   "metadata": {},
   "source": [
    "## head & last\n",
    "JavaScript, Array, Beginner\n",
    "\n",
    "Returns the head of a list.\n",
    "\n",
    "Check if `arr` is truthy and has a `length` property, use `arr[0]` if possible to return the first element, otherwise return `undefined`."
   ]
  },
  {
   "cell_type": "code",
   "execution_count": null,
   "metadata": {
    "ExecuteTime": {
     "end_time": "2020-08-29T20:50:48.215230Z",
     "start_time": "2020-08-29T20:50:47.833Z"
    }
   },
   "outputs": [],
   "source": [
    "//head\n",
    "const head = arr => (arr && arr.length ? arr[0] : undefined);\n",
    "\n",
    "//last\n",
    "const last = arr => (arr && arr.length ? arr[arr.length - 1] : undefined);"
   ]
  },
  {
   "cell_type": "code",
   "execution_count": null,
   "metadata": {
    "ExecuteTime": {
     "end_time": "2020-08-29T20:51:11.935914Z",
     "start_time": "2020-08-29T20:51:11.578Z"
    }
   },
   "outputs": [],
   "source": [
    "//head\n",
    "console.log(head([1, 2, 3]));\n",
    "console.log(head([]));\n",
    "console.log(head(null));\n",
    "console.log(head(undefined));\n",
    "\n",
    "//last\n",
    "console.log(last([1, 2, 3]));\n",
    "console.log(last([]));\n",
    "console.log(last(null));\n",
    "console.log(last(undefined));"
   ]
  },
  {
   "cell_type": "markdown",
   "metadata": {},
   "source": [
    "## [includesAll](https://www.30secondsofcode.org/js/s/includes-all) & includesAny\n",
    "JavaScript, Array, Beginner\n",
    "\n",
    "Returns `true` if all the elements in `values` are included in `arr`, `false` otherwise.\n",
    "\n",
    "Use `Array.prototype.every()` and `Array.prototype.includes()` to check if all elements of `values` are included in `arr`."
   ]
  },
  {
   "cell_type": "code",
   "execution_count": null,
   "metadata": {
    "ExecuteTime": {
     "end_time": "2020-08-29T20:50:48.225734Z",
     "start_time": "2020-08-29T20:50:47.837Z"
    }
   },
   "outputs": [],
   "source": [
    "//every\n",
    "const includesAll = (arr, values) => values.every(v => arr.includes(v));\n",
    "\n",
    "//some\n",
    "const includesAny = (arr, values) => values.some(v => arr.includes(v));"
   ]
  },
  {
   "cell_type": "code",
   "execution_count": null,
   "metadata": {
    "ExecuteTime": {
     "end_time": "2020-08-29T20:50:48.227011Z",
     "start_time": "2020-08-29T20:50:47.838Z"
    }
   },
   "outputs": [],
   "source": [
    "//includeAll\n",
    "console.log(includesAll([1, 2, 3, 4], [1, 4]));\n",
    "console.log(includesAll([1, 2, 3, 4], [1, 5]));\n",
    "\n",
    "//includeAny\n",
    "console.log(includesAny([1, 2, 3, 4], [2, 9]));\n",
    "console.log(includesAny([1, 2, 3, 4], [8, 9]));"
   ]
  },
  {
   "cell_type": "markdown",
   "metadata": {},
   "source": [
    "## [difference](https://www.30secondsofcode.org/js/s/difference) & !difference\n",
    "JavaScript, Array, Math, Beginner\n",
    "\n",
    "Returns the difference between two arrays.\n",
    "\n",
    "Create a `Set` from `b`, then use `Array.prototype.filter()` on `a` to only keep values not contained in `b`."
   ]
  },
  {
   "cell_type": "code",
   "execution_count": null,
   "metadata": {
    "ExecuteTime": {
     "end_time": "2020-08-29T20:50:48.233442Z",
     "start_time": "2020-08-29T20:50:47.840Z"
    }
   },
   "outputs": [],
   "source": [
    "const difference = (a, b) => {\n",
    "    const s = new Set(b);\n",
    "    return a.filter(x => !s.has(x));\n",
    "};"
   ]
  },
  {
   "cell_type": "code",
   "execution_count": null,
   "metadata": {
    "ExecuteTime": {
     "end_time": "2020-08-29T20:50:48.234683Z",
     "start_time": "2020-08-29T20:50:47.841Z"
    }
   },
   "outputs": [],
   "source": [
    "const both = (a, b) => {\n",
    "    return a.filter(x => b.includes(x));\n",
    "};"
   ]
  },
  {
   "cell_type": "code",
   "execution_count": null,
   "metadata": {
    "ExecuteTime": {
     "end_time": "2020-08-29T20:50:48.240582Z",
     "start_time": "2020-08-29T20:50:47.843Z"
    },
    "scrolled": false
   },
   "outputs": [],
   "source": [
    "console.log(difference([1, 2, 3], [1, 2, 4]));\n",
    "console.log(both([1, 2, 3], [1, 2, 4]));"
   ]
  },
  {
   "cell_type": "markdown",
   "metadata": {},
   "source": [
    "## [maxN](https://www.30secondsofcode.org/js/s/max-n)  & minN\n",
    "JavaScript, Array, Math, Beginner\n",
    "\n",
    "Returns the `n` maximum elements from the provided array. If `n` is greater than or equal to the provided array's length, then return the original array (sorted in descending order).\n",
    "\n",
    "Use `Array.prototype.sort()` combined with the spread operator (`...`) to create a shallow clone of the array and sort it in descending order. Use `Array.prototype.slice()` to get the specified number of elements. Omit the second argument, `n`, to get a one-element array.\n",
    "\n",
    "补充：[JavaScript中sort()对数组数字项函数function（a,b）返回值为a-b即为升序排列的细解](https://blog.csdn.net/weimob258616/article/details/89737057)"
   ]
  },
  {
   "cell_type": "code",
   "execution_count": null,
   "metadata": {
    "ExecuteTime": {
     "end_time": "2020-08-31T08:13:25.329034Z",
     "start_time": "2020-08-31T08:13:23.603Z"
    }
   },
   "outputs": [],
   "source": [
    "// maxN\n",
    "const maxN = (arr, n = 1) => [...arr].sort((a, b) => b - a).slice(0, n);\n",
    "\n",
    "//minN\n",
    "const minN = (arr, n = 1) => [...arr].sort((a, b) => a - b).slice(0, n);"
   ]
  },
  {
   "cell_type": "code",
   "execution_count": null,
   "metadata": {
    "ExecuteTime": {
     "end_time": "2020-08-31T08:13:27.151559Z",
     "start_time": "2020-08-31T08:13:25.400Z"
    },
    "scrolled": true
   },
   "outputs": [],
   "source": [
    "//maxN\n",
    "console.log(maxN([4, 25, 8, 24]));\n",
    "console.log(maxN([11,2, 63, 8], 2));\n",
    "\n",
    "//minN\n",
    "console.log(minN([4, 25, 8, 24]));\n",
    "console.log(minN([11,2, 63, 8], 2));"
   ]
  },
  {
   "cell_type": "markdown",
   "metadata": {},
   "source": [
    "## [none](https://www.30secondsofcode.org/js/s/none)\n",
    "JavaScript, Array, Function, Beginner\n",
    "\n",
    "Returns `true` if the provided predicate function returns `false` for all elements in a collection, `false` otherwise.\n",
    "\n",
    "Use `Array.prototype.some()` to test if any elements in the collection return `true` based on `fn`. Omit the second argument, `fn`, to use `Boolean` as a default."
   ]
  },
  {
   "cell_type": "code",
   "execution_count": 1,
   "metadata": {
    "ExecuteTime": {
     "end_time": "2020-08-31T08:32:22.243804Z",
     "start_time": "2020-08-31T08:32:20.503Z"
    }
   },
   "outputs": [],
   "source": [
    "const none = (arr, fn = Boolean) => !arr.some(fn);"
   ]
  },
  {
   "cell_type": "code",
   "execution_count": 6,
   "metadata": {
    "ExecuteTime": {
     "end_time": "2020-08-31T08:34:02.089007Z",
     "start_time": "2020-08-31T08:34:00.345Z"
    }
   },
   "outputs": [
    {
     "name": "stdout",
     "output_type": "stream",
     "text": [
      "true\n",
      "true\n",
      "[Function: Boolean]\n"
     ]
    }
   ],
   "source": [
    "console.log(none([0, 1, 3, 0], x => x == 2));\n",
    "console.log(none([0, 0, 0]));\n",
    "\n",
    "b = (Boolean);\n",
    "console.log(b)"
   ]
  },
  {
   "cell_type": "markdown",
   "metadata": {},
   "source": [
    "## [nthElement](https://www.30secondsofcode.org/js/s/nth-element)\n",
    "JavaScript, Array, Beginner\n",
    "\n",
    "Returns the nth element of an array.\n",
    "\n",
    "Use `Array.prototype.slice()` to get an array containing the nth element at the first place. If the index is out of bounds, return `undefined`. Omit the second argument, `n`, to get the first element of the array."
   ]
  },
  {
   "cell_type": "code",
   "execution_count": 7,
   "metadata": {
    "ExecuteTime": {
     "end_time": "2020-08-31T09:53:38.000568Z",
     "start_time": "2020-08-31T09:53:38.422Z"
    }
   },
   "outputs": [],
   "source": [
    "const nthElement = (arr, n = 0) => (n === -1 ? arr.slice(n) : arr.slice(n, n + 1))[0];"
   ]
  },
  {
   "cell_type": "code",
   "execution_count": 9,
   "metadata": {
    "ExecuteTime": {
     "end_time": "2020-08-31T09:54:17.979122Z",
     "start_time": "2020-08-31T09:54:18.421Z"
    }
   },
   "outputs": [
    {
     "name": "stdout",
     "output_type": "stream",
     "text": [
      "b\n",
      "a\n"
     ]
    }
   ],
   "source": [
    "console.log(nthElement(['a', 'b', 'c'], 1));\n",
    "console.log(nthElement(['a', 'b', 'b'], -3));"
   ]
  },
  {
   "cell_type": "code",
   "execution_count": 13,
   "metadata": {
    "ExecuteTime": {
     "end_time": "2020-08-31T09:55:40.071836Z",
     "start_time": "2020-08-31T09:55:40.506Z"
    },
    "scrolled": false
   },
   "outputs": [
    {
     "name": "stdout",
     "output_type": "stream",
     "text": [
      "[ 'o', 'u' ]\n"
     ]
    }
   ],
   "source": [
    "console.log(['a','n','l','z','o','u'].slice(-2));"
   ]
  },
  {
   "cell_type": "markdown",
   "metadata": {},
   "source": [
    "## [offset](https://www.30secondsofcode.org/js/s/offset)\n",
    "JavaScript, Array, Beginner\n",
    "\n",
    "Moves the specified amount of elements to the end of the array.\n",
    "\n",
    "Use `Array.prototype.slice()` twice to get the elements after the specified index and the elements before that. Use the spread operator(`...`) to combine the two into one array. If `offset` is negative, the elements will be moved from end to start."
   ]
  },
  {
   "cell_type": "code",
   "execution_count": 14,
   "metadata": {
    "ExecuteTime": {
     "end_time": "2020-08-31T09:57:24.861397Z",
     "start_time": "2020-08-31T09:57:25.288Z"
    }
   },
   "outputs": [],
   "source": [
    "const offset = (arr, offset) => [...arr.slice(offset), ...arr.slice(0, offset)];"
   ]
  },
  {
   "cell_type": "code",
   "execution_count": 15,
   "metadata": {
    "ExecuteTime": {
     "end_time": "2020-08-31T09:57:56.091887Z",
     "start_time": "2020-08-31T09:57:56.509Z"
    },
    "scrolled": true
   },
   "outputs": [
    {
     "name": "stdout",
     "output_type": "stream",
     "text": [
      "[ 3, 4, 5, 1, 2 ]\n",
      "[ 4, 5, 1, 2, 3 ]\n"
     ]
    }
   ],
   "source": [
    "console.log(offset([1, 2, 3, 4, 5], 2));\n",
    "console.log(offset([1, 2, 3, 4, 5], -2));"
   ]
  },
  {
   "cell_type": "code",
   "execution_count": null,
   "metadata": {},
   "outputs": [],
   "source": []
  },
  {
   "cell_type": "markdown",
   "metadata": {},
   "source": [
    "## 补充： [`...` ES6扩展运算符](http://www.fly63.com/article/detial/2516)\n",
    "\n",
    "拓展运算符，是es6一个很好的特性，它们可以通过减少赋值语句的使用，或者减少通过下标访问数组或对象的方式，使代码更加简洁优雅，可读性更佳。"
   ]
  },
  {
   "cell_type": "markdown",
   "metadata": {},
   "source": [
    "### 在函数调用时使用拓展运算符\n",
    "以前如果我们想将数组元素迭代为函数参数使用，一般使用Function.prototype.apply的方式。"
   ]
  },
  {
   "cell_type": "code",
   "execution_count": null,
   "metadata": {
    "ExecuteTime": {
     "end_time": "2020-08-31T07:05:51.456013Z",
     "start_time": "2020-08-31T07:05:49.700Z"
    }
   },
   "outputs": [],
   "source": [
    "function myFunction(x, y, z) { \n",
    "  console.log(x+\"\"+y+\"\"+z);\n",
    "} \n",
    "var args = [0, 1, 2]; \n",
    "myFunction.apply(null, args);"
   ]
  },
  {
   "cell_type": "markdown",
   "metadata": {
    "ExecuteTime": {
     "end_time": "2020-08-31T07:07:26.778234Z",
     "start_time": "2020-08-31T07:07:25.030Z"
    }
   },
   "source": [
    "有了展开语法，我们可以这样写。"
   ]
  },
  {
   "cell_type": "code",
   "execution_count": null,
   "metadata": {
    "ExecuteTime": {
     "end_time": "2020-08-31T07:07:40.297019Z",
     "start_time": "2020-08-31T07:07:38.599Z"
    }
   },
   "outputs": [],
   "source": [
    "function myFunction(x, y, z) { \n",
    "  console.log(x+\"\"+y+\"\"+z); \n",
    "} \n",
    "\n",
    "var args = [0, 1, 2]; \n",
    "myFunction(...args);"
   ]
  },
  {
   "cell_type": "markdown",
   "metadata": {},
   "source": [
    "**提示**: ...arr返回的并不是一个数组，而是各个数组的值。只有[...arr]才是一个数组，所以...arr可以用来对方法进行传值"
   ]
  },
  {
   "cell_type": "markdown",
   "metadata": {},
   "source": [
    "### 数组和对象的拷贝"
   ]
  },
  {
   "cell_type": "code",
   "execution_count": null,
   "metadata": {
    "ExecuteTime": {
     "end_time": "2020-08-31T07:12:16.218993Z",
     "start_time": "2020-08-31T07:12:14.477Z"
    },
    "scrolled": true
   },
   "outputs": [],
   "source": [
    "var arr1 = [1,2,3];\n",
    "var arr2 = [...arr1];  //拷贝\n",
    "var arr3 = arr1;  //对象引用\n",
    "\n",
    "arr2.push(4);\n",
    "arr1.push(4);\n",
    "\n",
    "console.log(arr1 === arr2);\n",
    "console.log(arr1 === arr3);\n",
    "console.log(arr1);\n",
    "console.log(arr2);\n",
    "console.log(arr3);"
   ]
  },
  {
   "cell_type": "markdown",
   "metadata": {},
   "source": [
    "对象也是一样，也可以使用拓展运算符"
   ]
  },
  {
   "cell_type": "code",
   "execution_count": null,
   "metadata": {
    "ExecuteTime": {
     "end_time": "2020-08-31T07:19:07.242181Z",
     "start_time": "2020-08-31T07:19:05.533Z"
    }
   },
   "outputs": [],
   "source": [
    "var obj1 = {\n",
    "    a:1,\n",
    "    b:2\n",
    "};\n",
    "var obj2 = {...obj1};\n",
    "console.log(obj2); //{ a:1, b:2}\n",
    "console.log(obj1 === obj2);// false"
   ]
  },
  {
   "cell_type": "markdown",
   "metadata": {},
   "source": [
    "**提示**: 在这里你会发现，这是一个深拷贝，其实不然，实际上, 展开语法和 Object.assign() 行为一致, 执行的都是浅拷贝(只遍历一层)。"
   ]
  },
  {
   "cell_type": "markdown",
   "metadata": {},
   "source": [
    "### 构造字面量数组\n",
    "没有展开语法的时候，只能组合使用 push, splice, concat 等方法，来将已有数组元素变成新数组的一部分。"
   ]
  },
  {
   "cell_type": "code",
   "execution_count": null,
   "metadata": {
    "ExecuteTime": {
     "end_time": "2020-08-31T07:20:02.490322Z",
     "start_time": "2020-08-31T07:20:00.789Z"
    }
   },
   "outputs": [],
   "source": [
    "var arr1 = [1,2,3];\n",
    "var arr2 = [4,5,...arr1];\n",
    "console.log(arr2);"
   ]
  },
  {
   "cell_type": "markdown",
   "metadata": {},
   "source": [
    "代替Array.concat 函数\n",
    "\n",
    "concat() 方法用于连接两个或多个数组。\n",
    "\n",
    "该方法不会改变现有的数组，而仅仅会返回被连接数组的一个副本。"
   ]
  },
  {
   "cell_type": "code",
   "execution_count": null,
   "metadata": {
    "ExecuteTime": {
     "end_time": "2020-08-31T07:20:26.681150Z",
     "start_time": "2020-08-31T07:20:24.998Z"
    }
   },
   "outputs": [],
   "source": [
    "var arr1 = [1,2,3];\n",
    "var arr2 = [4,5,6];\n",
    "var demo = [...arr1,...arr2];\n",
    "console.log(demo);"
   ]
  },
  {
   "cell_type": "markdown",
   "metadata": {},
   "source": [
    "代替Array.unshift 方法\n",
    "\n",
    "unshift() 方法可向数组的开头添加一个或更多元素，并返回新的长度。"
   ]
  },
  {
   "cell_type": "code",
   "execution_count": null,
   "metadata": {
    "ExecuteTime": {
     "end_time": "2020-08-31T07:23:43.891108Z",
     "start_time": "2020-08-31T07:23:42.180Z"
    }
   },
   "outputs": [],
   "source": [
    "var arr1 = [1,2,3];\n",
    "var arr2 = [4,5,6];\n",
    "arr1 = [...arr2,...arr1];\n",
    "console.log(arr1.length);"
   ]
  },
  {
   "cell_type": "markdown",
   "metadata": {},
   "source": [
    "### 字符串转数组"
   ]
  },
  {
   "cell_type": "code",
   "execution_count": null,
   "metadata": {
    "ExecuteTime": {
     "end_time": "2020-08-31T07:24:40.016961Z",
     "start_time": "2020-08-31T07:24:38.304Z"
    }
   },
   "outputs": [],
   "source": [
    "var demo = \"hello\"\n",
    "var str = [...demo];\n",
    "console.log(str);"
   ]
  },
  {
   "cell_type": "markdown",
   "metadata": {},
   "source": [
    "### 剩余语法（剩余参数，rest运算符）\n",
    "剩余语法(Rest syntax) 看起来和展开语法完全相同，不同点在于, 剩余参数用于解构数组和对象。从某种意义上说，剩余语法与展开语法是相反的：展开语法将数组展开为其中的各个元素，而剩余语法则是将多个元素收集起来并“凝聚”为单个元素。"
   ]
  },
  {
   "cell_type": "markdown",
   "metadata": {},
   "source": [
    "#### 主要用于不定参数，所以es6开始不再使用arguments对象\n",
    "\n",
    "Javascrip中每个函数都会有一个Arguments对象实例arguments，它引用着函数的实参，可以用数组下标的方式\"[]\"引用arguments的元素。arguments.length为函数实参个数，arguments.callee引用函数自身。\n",
    "\n",
    "**特性：**\n",
    "1. arguments对象和Function是分不开的。\n",
    "2. 因为arguments这个对象不能显式创建。\n",
    "3. arguments对象只有函数开始时才可用。\n",
    "\n",
    "**使用方法：**\n",
    "虽然arguments对象并不是一个数组，但是访问单个参数的方式与访问数组元素的方式相同\n",
    "\n",
    "例如：\n",
    "\n",
    "`arguments[0]`,`arguments[1]`,...`arguments[n]`； \n",
    "\n",
    "在js中 不需要明确指出参数名，就能访问它们：\n",
    "```js\n",
    "function test() {\n",
    "        var s = \"\";\n",
    "        for (var i = 0; i < arguments.length; i++) {\n",
    "            alert(arguments[i]);\n",
    "            s += arguments[i] + \",\";\n",
    "        }\n",
    "        return s;\n",
    "}\n",
    "test(\"name\", \"age\");// name,age\n",
    "```"
   ]
  },
  {
   "cell_type": "code",
   "execution_count": null,
   "metadata": {
    "ExecuteTime": {
     "end_time": "2020-08-31T07:31:22.494066Z",
     "start_time": "2020-08-31T07:31:20.800Z"
    }
   },
   "outputs": [],
   "source": [
    "var demo = function (...arg){\n",
    "    for (let item of arg){\n",
    "        console.log(item);\n",
    "    }\n",
    "}\n",
    "demo(1,2,3);"
   ]
  },
  {
   "cell_type": "code",
   "execution_count": null,
   "metadata": {
    "ExecuteTime": {
     "end_time": "2020-08-31T07:34:49.850455Z",
     "start_time": "2020-08-31T07:34:48.156Z"
    }
   },
   "outputs": [],
   "source": [
    "var demo = function (a,...arg){\n",
    "    console.log(a);\n",
    "    console.log(arg);\n",
    "}\n",
    "demo(1,2,3,4);"
   ]
  },
  {
   "cell_type": "markdown",
   "metadata": {},
   "source": [
    "#### 配合解构一起使用"
   ]
  },
  {
   "cell_type": "code",
   "execution_count": null,
   "metadata": {
    "ExecuteTime": {
     "end_time": "2020-08-31T08:09:32.233509Z",
     "start_time": "2020-08-31T08:09:30.494Z"
    }
   },
   "outputs": [],
   "source": [
    "var [a,...rest] = [1,2,3,4];\n",
    "\n",
    "console.log(a);\n",
    "console.log(rest);"
   ]
  },
  {
   "cell_type": "code",
   "execution_count": null,
   "metadata": {
    "ExecuteTime": {
     "end_time": "2020-08-31T08:10:17.996903Z",
     "start_time": "2020-08-31T08:10:16.248Z"
    },
    "scrolled": true
   },
   "outputs": [],
   "source": [
    "var obj = {\n",
    "    a:1,\n",
    "    b:2,\n",
    "    c:3\n",
    "}\n",
    "var {a,...demo} = obj;\n",
    "\n",
    "console.log(a);\n",
    "console.log(demo);"
   ]
  },
  {
   "cell_type": "code",
   "execution_count": null,
   "metadata": {
    "ExecuteTime": {
     "end_time": "2020-08-31T08:10:19.846071Z",
     "start_time": "2020-08-31T08:10:18.109Z"
    },
    "scrolled": true
   },
   "outputs": [],
   "source": [
    "function f(...[a, b, c]) {\n",
    "  console.log(a);\n",
    "  return a + b + c;\n",
    "}\n",
    "\n",
    "console.log(f(1))\n",
    "console.log(f(1, 2, 3))\n",
    "console.log(f(1, 2, 3, 4))"
   ]
  },
  {
   "cell_type": "markdown",
   "metadata": {},
   "source": [
    "### 小结：\n",
    "等号表达式是典型的赋值形式，函数传参和for循环的变量都是特殊形式的赋值。解构的原理是赋值的两边具有相同的结构，就可以正确取出数组或对象里面的元素或属性值，省略了使用下标逐个赋值的麻烦。对于三个点号，三点放在形参或者等号左边为rest运算符; 放在实参或者等号右边为spread运算符，或者说，放在被赋值一方为rest运算符，放在赋值一方为扩展运算符。"
   ]
  },
  {
   "cell_type": "markdown",
   "metadata": {},
   "source": [
    "## 补充：ES6中的解构赋值\n",
    "什么是解构赋值？\n",
    "\n",
    "解构赋值允许你使用类似数组或对象字面量的语法将数组和对象的属性值赋给一系列变量。这个语法非常简洁，而且比传统的属性访问更加清晰。\n",
    "\n",
    "[关于JS解构的5种有趣用法](https://www.jb51.net/article/169392.htm)"
   ]
  },
  {
   "cell_type": "markdown",
   "metadata": {},
   "source": [
    "### 交换变量\n",
    "常见的交互两个变量值的方法都需要借助一个额外的变量，看一个简单的例子："
   ]
  },
  {
   "cell_type": "code",
   "execution_count": null,
   "metadata": {
    "ExecuteTime": {
     "end_time": "2020-08-31T07:49:51.132840Z",
     "start_time": "2020-08-31T07:49:49.412Z"
    }
   },
   "outputs": [],
   "source": [
    "let a = 1;\n",
    "let b = 2;\n",
    "let temp;"
   ]
  },
  {
   "cell_type": "code",
   "execution_count": null,
   "metadata": {
    "ExecuteTime": {
     "end_time": "2020-08-31T07:49:53.004951Z",
     "start_time": "2020-08-31T07:49:51.275Z"
    },
    "scrolled": true
   },
   "outputs": [],
   "source": [
    "temp = a;\n",
    "a = b;\n",
    "b = temp;\n",
    "console.log(a);\n",
    "console.log(b);"
   ]
  },
  {
   "cell_type": "markdown",
   "metadata": {
    "ExecuteTime": {
     "end_time": "2020-08-31T07:50:23.771060Z",
     "start_time": "2020-08-31T07:50:22.069Z"
    }
   },
   "source": [
    "temp是一个临时变量，在例子中存储了变量a的值，b的值赋给了a，最后把temp的值赋给了b。\n",
    "解构运算使得交换变量的值变得非常简单，不需要借助第三个临时变量："
   ]
  },
  {
   "cell_type": "code",
   "execution_count": null,
   "metadata": {
    "ExecuteTime": {
     "end_time": "2020-08-31T07:50:05.961745Z",
     "start_time": "2020-08-31T07:50:03.990Z"
    }
   },
   "outputs": [],
   "source": [
    "[a, b] = [b, a];\n",
    "console.log(a);\n",
    "console.log(b);"
   ]
  },
  {
   "cell_type": "markdown",
   "metadata": {},
   "source": [
    "[a, b] = [b, a]是一个解构运算。在等号的右侧，创建了一个数组[b, a]，对应的值为[2, 1]。数组的第一个值2被解构赋值给了a，第二项1被解构赋值给了b。\n",
    "\n",
    "即使这种方式仍然创建了一个临时数组，但是解构赋值对于交换变量的值仍然是非常高效简单的方式。\n",
    "\n",
    "这种方式并没有什么限制。你还可以同时交互更多的变量值，比如："
   ]
  },
  {
   "cell_type": "code",
   "execution_count": null,
   "metadata": {
    "ExecuteTime": {
     "end_time": "2020-08-31T07:51:05.561286Z",
     "start_time": "2020-08-31T07:51:03.839Z"
    }
   },
   "outputs": [],
   "source": [
    "let zero = 2;\n",
    "let one = 1;\n",
    "let two = 0;"
   ]
  },
  {
   "cell_type": "code",
   "execution_count": null,
   "metadata": {
    "ExecuteTime": {
     "end_time": "2020-08-31T07:51:33.161295Z",
     "start_time": "2020-08-31T07:51:31.464Z"
    }
   },
   "outputs": [],
   "source": [
    "[zero, one, two] = [two, one, zero];\n",
    "console.log(zero);\n",
    "console.log(one);\n",
    "console.log(two);"
   ]
  },
  {
   "cell_type": "markdown",
   "metadata": {},
   "source": [
    "你可以交换任意数量的变量值，只是两个变量值的交换的情况更加常见。"
   ]
  },
  {
   "cell_type": "markdown",
   "metadata": {},
   "source": [
    "### 访问数组\n",
    "有一个数组，这个数组有可能是空的。有一种需求是访问任意位置数组元素，如果这个位置为空，则返回一个默认值。\n",
    "\n",
    "通常情况下有的人可能会使用数组的length属性做判断："
   ]
  },
  {
   "cell_type": "code",
   "execution_count": null,
   "metadata": {
    "ExecuteTime": {
     "end_time": "2020-08-31T07:52:24.649542Z",
     "start_time": "2020-08-31T07:52:22.911Z"
    }
   },
   "outputs": [],
   "source": [
    "const colors = [];\n",
    "let firstColor = \"white\";"
   ]
  },
  {
   "cell_type": "code",
   "execution_count": null,
   "metadata": {
    "ExecuteTime": {
     "end_time": "2020-08-31T07:52:38.281742Z",
     "start_time": "2020-08-31T07:52:36.579Z"
    },
    "scrolled": true
   },
   "outputs": [],
   "source": [
    "if (colors.length > 0) {\n",
    "  firstColor = colors[0];\n",
    "}\n",
    "console.log(firstColor);"
   ]
  },
  {
   "cell_type": "markdown",
   "metadata": {},
   "source": [
    "幸运的是，数组解构可以更快捷高效的实现相同的效果："
   ]
  },
  {
   "cell_type": "code",
   "execution_count": null,
   "metadata": {
    "ExecuteTime": {
     "end_time": "2020-08-31T07:54:07.290453Z",
     "start_time": "2020-08-31T07:54:05.568Z"
    }
   },
   "outputs": [],
   "source": [
    "const colors_2 = [];\n",
    "const [firstColor_2 = \"white\"] = colors_2;"
   ]
  },
  {
   "cell_type": "code",
   "execution_count": null,
   "metadata": {
    "ExecuteTime": {
     "end_time": "2020-08-31T07:54:09.881729Z",
     "start_time": "2020-08-31T07:54:08.104Z"
    },
    "scrolled": true
   },
   "outputs": [],
   "source": [
    "console.log(firstColor_2);"
   ]
  },
  {
   "cell_type": "markdown",
   "metadata": {},
   "source": [
    "`const [firstColor_ = \"white\"] = colors_;`将colors_数组的第一个元素赋值给了变量firstColor_。如果这个数组的下标为0的位置上没有任何元素（注：为undefined时即认为为空），white将作为默认值赋值给firstColor_。\n",
    "\n",
    "数组解构是非常灵活的，如果你只想访问数组的第二个元素，方法如下所示："
   ]
  },
  {
   "cell_type": "code",
   "execution_count": null,
   "metadata": {
    "ExecuteTime": {
     "end_time": "2020-08-31T07:56:51.243582Z",
     "start_time": "2020-08-31T07:56:49.524Z"
    }
   },
   "outputs": [],
   "source": [
    "const colors_3 = [];\n",
    "const [, secondColor_3 = \"black\"] = colors_3;"
   ]
  },
  {
   "cell_type": "code",
   "execution_count": null,
   "metadata": {
    "ExecuteTime": {
     "end_time": "2020-08-31T07:56:53.005060Z",
     "start_time": "2020-08-31T07:56:51.292Z"
    }
   },
   "outputs": [],
   "source": [
    "console.log(secondColor_3);"
   ]
  },
  {
   "cell_type": "markdown",
   "metadata": {},
   "source": [
    "在解构表达式的左边写一个逗号：意味着数组的第一个元素被忽略掉。colors数组下标为1的元素被解构赋值给了变量secondColor。"
   ]
  },
  {
   "cell_type": "markdown",
   "metadata": {},
   "source": [
    "### 不可变操作\n",
    "从我开始使用React，到后来的Redux，我被迫开始写一些遵循不可变原则的代码。刚开始的时候确实有点不适应，不过后来我就意识到了这种方式的好处：它使得处理单向数据流更加容易。\n",
    "\n",
    "不可变原则禁止修改对象。幸运的是，解构可以帮助你在遵循不可变原则的同时完成这些操作。\n",
    "\n",
    "将解构与展开运算符（rest operator）结合使用来移除数组的第一个元素："
   ]
  },
  {
   "cell_type": "code",
   "execution_count": null,
   "metadata": {
    "ExecuteTime": {
     "end_time": "2020-08-31T07:57:23.211523Z",
     "start_time": "2020-08-31T07:57:21.487Z"
    }
   },
   "outputs": [],
   "source": [
    "const numbers = [1,2,3];\n",
    "const [, ...fooNumbers] = numbers;"
   ]
  },
  {
   "cell_type": "code",
   "execution_count": null,
   "metadata": {
    "ExecuteTime": {
     "end_time": "2020-08-31T07:57:52.833750Z",
     "start_time": "2020-08-31T07:57:51.079Z"
    },
    "scrolled": true
   },
   "outputs": [],
   "source": [
    "console.log(fooNumbers);\n",
    "console.log(numbers);"
   ]
  },
  {
   "cell_type": "markdown",
   "metadata": {},
   "source": [
    "这个解构操作`[, ...fooNumbers] = numbers`创建了一个新的数组fooNumbers，这个数组包含numbers除了第一个元素外的其余元素。\n",
    "\n",
    "numbers数组并没有被改变，这种方式遵循了不可变原则。\n",
    "\n",
    "除此之外，你也可以在遵循不可变原则的同时使用同样的方法来删除一个对象的属性。如下所示，删除big对象的foo属性："
   ]
  },
  {
   "cell_type": "code",
   "execution_count": null,
   "metadata": {
    "ExecuteTime": {
     "end_time": "2020-08-31T07:59:04.479742Z",
     "start_time": "2020-08-31T07:59:00.627Z"
    }
   },
   "outputs": [],
   "source": [
    "const big = {\n",
    "  foo: \"value foo\",\n",
    "  bar: \"value bar\",\n",
    "}\n",
    "const { foo, ...small } = big;"
   ]
  },
  {
   "cell_type": "code",
   "execution_count": null,
   "metadata": {
    "ExecuteTime": {
     "end_time": "2020-08-31T07:59:29.027312Z",
     "start_time": "2020-08-31T07:59:27.261Z"
    },
    "scrolled": true
   },
   "outputs": [],
   "source": [
    "console.log(small);\n",
    "console.log(big);"
   ]
  },
  {
   "cell_type": "markdown",
   "metadata": {},
   "source": [
    "上述方法将解构与对象展开运算符结合起来使用，创建了一个新的对象small，这个新对象包含big对象除了foo属性之外的所有属性。"
   ]
  },
  {
   "cell_type": "markdown",
   "metadata": {},
   "source": [
    "### 解构可迭代的值\n",
    "在前面几部分内容中，都是解构的数组。实际上解构运算是可以用于所有的可迭代对象的。\n",
    "\n",
    "许多原生的基础类型和对象都是可迭代的，例如数组，类数组，字符串，set集合和map集合。\n",
    "\n",
    "例如，你可以把字符串解构成单个字符："
   ]
  },
  {
   "cell_type": "code",
   "execution_count": null,
   "metadata": {
    "ExecuteTime": {
     "end_time": "2020-08-31T08:00:50.724180Z",
     "start_time": "2020-08-31T08:00:48.626Z"
    }
   },
   "outputs": [],
   "source": [
    "const str = \"cheese\";\n",
    "const [firstChar = \"\"] = str;"
   ]
  },
  {
   "cell_type": "code",
   "execution_count": null,
   "metadata": {
    "ExecuteTime": {
     "end_time": "2020-08-31T08:01:05.523630Z",
     "start_time": "2020-08-31T08:00:59.162Z"
    }
   },
   "outputs": [],
   "source": [
    "console.log(firstChar);"
   ]
  },
  {
   "cell_type": "markdown",
   "metadata": {},
   "source": [
    "当然解构不仅仅限于原生可迭代的那几种类型。解构可以被用于所有实现了迭代接口（iterable protocol）的对象。如下所示，movies包含一个movie对象列表。我们想要解构movies对象的时候，可以获取到电影的title这个字符串。实现这个操作首先需要自定义一个迭代器："
   ]
  },
  {
   "cell_type": "code",
   "execution_count": null,
   "metadata": {
    "ExecuteTime": {
     "end_time": "2020-08-31T08:03:08.860584Z",
     "start_time": "2020-08-31T08:03:07.148Z"
    }
   },
   "outputs": [],
   "source": [
    "const movies = {\n",
    "  list: [\n",
    "    { title: \"Heat\" },\n",
    "    { title: \"Interstellar\" },\n",
    "  ],\n",
    "  [Symbol.iterator]() {\n",
    "    let index = 0;\n",
    "    return {\n",
    "      next: () => {\n",
    "        if (index < this.list.length) {\n",
    "          const value = this.list[index++].title;\n",
    "          return { value, done: false };\n",
    "        }\n",
    "        return { done: true }\n",
    "      }\n",
    "    }\n",
    "  }\n",
    "}\n",
    "\n",
    "const [firstMovieTitle] = movies;"
   ]
  },
  {
   "cell_type": "code",
   "execution_count": null,
   "metadata": {
    "ExecuteTime": {
     "end_time": "2020-08-31T08:03:17.122110Z",
     "start_time": "2020-08-31T08:03:15.418Z"
    }
   },
   "outputs": [],
   "source": [
    "console.log(firstMovieTitle);"
   ]
  },
  {
   "cell_type": "markdown",
   "metadata": {},
   "source": [
    "movies对象通过定义`Symbol.iterator`方法实现了一个迭代器。这个迭代器可以迭代所有电影的title属性。\n",
    "\n",
    "我们在movies对象上遵循了迭代接口实现，从而实现了通过解构movies来获取到标题，比如我们获取第一个电影的标题：`const [firstMovieTitle] = movies;` 。\n",
    "\n",
    "解构用法的上限就是没有上限。"
   ]
  },
  {
   "cell_type": "markdown",
   "metadata": {},
   "source": [
    "### 解构动态属性\n",
    "在我的经验中，解构一个对象的属性要远比解构一个数组的情况更多。\n",
    "\n",
    "解构对象看起来非常的简单："
   ]
  },
  {
   "cell_type": "code",
   "execution_count": null,
   "metadata": {
    "ExecuteTime": {
     "end_time": "2020-08-31T08:04:11.557385Z",
     "start_time": "2020-08-31T08:04:09.726Z"
    }
   },
   "outputs": [],
   "source": [
    "const movie = { title: \"Heat\" };\n",
    "const { title } = movie;"
   ]
  },
  {
   "cell_type": "code",
   "execution_count": null,
   "metadata": {
    "ExecuteTime": {
     "end_time": "2020-08-31T08:04:26.347741Z",
     "start_time": "2020-08-31T08:04:24.576Z"
    },
    "scrolled": true
   },
   "outputs": [],
   "source": [
    "console.log(title);"
   ]
  },
  {
   "cell_type": "markdown",
   "metadata": {},
   "source": [
    "`const { title } = movie;`创建了一个变量title，然后把movie.title的值赋值给了这个变量。\n",
    "\n",
    "当我第一次了解到对象解构的时候，有一点令我惊讶的是你并不需要预先知道属性的静态名称。你可以通过动态属性名来解构一个对象。\n",
    "\n",
    "为了了解动态解构的工作原理，我们来写一个打招呼的函数作为例子："
   ]
  },
  {
   "cell_type": "code",
   "execution_count": null,
   "metadata": {
    "ExecuteTime": {
     "end_time": "2020-08-31T08:05:16.032787Z",
     "start_time": "2020-08-31T08:05:14.288Z"
    }
   },
   "outputs": [],
   "source": [
    "function greet( obj, nameProp ) {\n",
    "  const { [nameProp]: name=\"Unknow\" } = obj;\n",
    "  return `Hello, ${name}!`;\n",
    "}"
   ]
  },
  {
   "cell_type": "code",
   "execution_count": null,
   "metadata": {
    "ExecuteTime": {
     "end_time": "2020-08-31T08:05:44.080395Z",
     "start_time": "2020-08-31T08:05:42.373Z"
    },
    "scrolled": true
   },
   "outputs": [],
   "source": [
    "console.log(greet({ name: \"Batman\" }, \"name\"));\n",
    "console.log(greet( {}, \"name\" ));"
   ]
  },
  {
   "cell_type": "markdown",
   "metadata": {},
   "source": [
    "greet()被调用时需要传递两个参数，一个是对象，一个是属性名称。\n",
    "\n",
    "在greet()函数内部，解构表达式`const { [nameProp]: name=\"Unknow\" } = obj;`使用中括号[nameProp]读取动态属性的名称。name变量接收动态属性的值。\n",
    "\n",
    "更好的做法就是你可以指定一个默认的值Unknow以防属性不存在的情况。"
   ]
  },
  {
   "cell_type": "markdown",
   "metadata": {},
   "source": [
    "### 总结\n",
    "解构可以帮助你更方便快捷的访问对象属性和数组元素。\n",
    "\n",
    "除了基本用法之外，数组解构还可以方便的交换变量，访问数组元素，做一些遵循不可变原则的操作。\n",
    "\n",
    "JavaScript提供了更多的可能性，因为你可以通过扩展迭代器实现自定义的解构逻辑。"
   ]
  }
 ],
 "metadata": {
  "kernelspec": {
   "display_name": "Javascript (Node.js)",
   "language": "javascript",
   "name": "javascript"
  },
  "language_info": {
   "file_extension": ".js",
   "mimetype": "application/javascript",
   "name": "javascript",
   "version": "13.13.0"
  },
  "toc": {
   "base_numbering": 1,
   "nav_menu": {},
   "number_sections": true,
   "sideBar": true,
   "skip_h1_title": false,
   "title_cell": "Table of Contents",
   "title_sidebar": "Contents",
   "toc_cell": false,
   "toc_position": {
    "height": "calc(100% - 180px)",
    "left": "10px",
    "top": "150px",
    "width": "313px"
   },
   "toc_section_display": true,
   "toc_window_display": false
  },
  "varInspector": {
   "cols": {
    "lenName": 16,
    "lenType": 16,
    "lenVar": 40
   },
   "kernels_config": {
    "python": {
     "delete_cmd_postfix": "",
     "delete_cmd_prefix": "del ",
     "library": "var_list.py",
     "varRefreshCmd": "print(var_dic_list())"
    },
    "r": {
     "delete_cmd_postfix": ") ",
     "delete_cmd_prefix": "rm(",
     "library": "var_list.r",
     "varRefreshCmd": "cat(var_dic_list()) "
    }
   },
   "types_to_exclude": [
    "module",
    "function",
    "builtin_function_or_method",
    "instance",
    "_Feature"
   ],
   "window_display": false
  }
 },
 "nbformat": 4,
 "nbformat_minor": 4
}
