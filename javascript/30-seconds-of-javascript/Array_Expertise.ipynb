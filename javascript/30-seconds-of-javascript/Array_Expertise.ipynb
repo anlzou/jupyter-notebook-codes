{
 "cells": [
  {
   "cell_type": "markdown",
   "metadata": {},
   "source": [
    "# [JavaScript Array 对象 by RUNOOB](https://www.runoob.com/jsref/jsref-obj-array.html)\n",
    "\n",
    "<details><summary>数组属性</summary>\n",
    "\n",
    "|属性|描述|\n",
    "|:---|:---|\n",
    "|constructor|\t返回创建数组对象的原型函数。|\n",
    "|length|\t设置或返回数组元素的个数。|\n",
    "|prototype|\t允许你向数组对象添加属性或方法。|\n",
    "</details>\n",
    "\n",
    "<details><summary>Array 对象方法</summary>\n",
    "    \n",
    "|方法|描述|\n",
    "|:---|:---|\n",
    "|concat()|\t连接两个或更多的数组，并返回结果。|\n",
    "|copyWithin()|\t从数组的指定位置拷贝元素到数组的另一个指定位置中。|\n",
    "|entries()|\t返回数组的可迭代对象。|\n",
    "|every()|\t检测数值元素的每个元素是否都符合条件。|\n",
    "|fill()|\t使用一个固定值来填充数组。|\n",
    "|filter()|\t检测数值元素，并返回符合条件所有元素的数组。|\n",
    "|find()|\t返回符合传入测试（函数）条件的数组元素。|\n",
    "|findIndex()|\t返回符合传入测试（函数）条件的数组元素索引。|\n",
    "|forEach()|\t数组每个元素都执行一次回调函数。|\n",
    "|from()|\t通过给定的对象中创建一个数组。|\n",
    "|includes()|\t判断一个数组是否包含一个指定的值。|\n",
    "|indexOf()|\t搜索数组中的元素，并返回它所在的位置。|\n",
    "|isArray()|\t判断对象是否为数组。|\n",
    "|join()|\t把数组的所有元素放入一个字符串。|\n",
    "|keys()|\t返回数组的可迭代对象，包含原始数组的键(key)。|\n",
    "|lastIndexOf()|\t搜索数组中的元素，并返回它最后出现的位置。|\n",
    "|map()|\t通过指定函数处理数组的每个元素，并返回处理后的数组。|\n",
    "|pop()|\t删除数组的最后一个元素并返回删除的元素。|\n",
    "|push()|\t向数组的末尾添加一个或更多元素，并返回新的长度。|\n",
    "|reduce()|\t将数组元素计算为一个值（从左到右）。|\n",
    "|reduceRight()|\t将数组元素计算为一个值（从右到左）。|\n",
    "|reverse()|\t反转数组的元素顺序。|\n",
    "|shift()|\t删除并返回数组的第一个元素。|\n",
    "|slice()|\t选取数组的一部分，并返回一个新数组。|\n",
    "|some()|\t检测数组元素中是否有元素符合指定条件。|\n",
    "|sort()|\t对数组的元素进行排序。|\n",
    "|splice()|\t从数组中添加或删除元素。|\n",
    "|toString()|\t把数组转换为字符串，并返回结果。|\n",
    "|unshift()|\t向数组的开头添加一个或更多元素，并返回新的长度。|\n",
    "|valueOf()|\t返回数组对象的原始值。|\n",
    "\n",
    "</details>"
   ]
  },
  {
   "cell_type": "markdown",
   "metadata": {},
   "source": [
    "## [all](https://www.30secondsofcode.org/js/s/all)\n",
    "JavaScript, Array, Function, Beginner\n",
    "\n",
    "Returns `true` if the provided predicate function returns `true` for all elements in a collection, `false` otherwise.\n",
    "\n",
    "Use `Array.prototype.every()` to test if all elements in the collection return true based on `fn`. Omit the second argument, `fn`, to use `Boolean` as a default.\n",
    "\n",
    "---\n",
    "every()与some()方法都是JS中数组的迭代方法。\n",
    "\n",
    "- every()是对数组中每一项运行给定函数，如果该函数所有一项返回true,则返回true。一旦有一项不满足则返回flase\n",
    "- some()是对数组中每一项运行给定函数，如果该函数满足任一项返回true，则返回true\n",
    "\n",
    "**语法**\n",
    "```js\n",
    "array.every(function(currentValue,index,arr), thisValue)\n",
    "```\n",
    "\n",
    "**参数说明**\n",
    "- `function(currentValue, index,arr)`\t必须。函数，数组中的每个元素都会执行这个函数\n",
    "- `thisValue`\t可选。对象作为该执行回调时使用，传递给函数，用作 \"this\" 的值。如果省略了 thisValue ，\"this\" 的值为 \"undefined\"\n",
    "    - `currentValue`\t必须。当前元素的值\n",
    "    - `index`\t可选。当前元素的索引值\n",
    "    - `arr`\t可选。当前元素属于的数组对象\n"
   ]
  },
  {
   "cell_type": "code",
   "execution_count": null,
   "metadata": {
    "ExecuteTime": {
     "end_time": "2020-08-29T16:56:00.075951Z",
     "start_time": "2020-08-29T16:55:59.880Z"
    }
   },
   "outputs": [],
   "source": [
    "const all = (arr, fn = Boolean) => arr.every(fn);"
   ]
  },
  {
   "cell_type": "code",
   "execution_count": null,
   "metadata": {
    "ExecuteTime": {
     "end_time": "2020-08-29T16:56:43.665884Z",
     "start_time": "2020-08-29T16:56:43.470Z"
    },
    "scrolled": true
   },
   "outputs": [],
   "source": [
    "console.log(all([1, 2, 3], x => x > 1));\n",
    "console.log(all([1, 2, 3]));"
   ]
  },
  {
   "cell_type": "markdown",
   "metadata": {},
   "source": [
    "## [allEqual](https://www.30secondsofcode.org/js/s/all-equal)\n",
    "JavaScript, Array, Function, Beginner\n",
    "\n",
    "Check if all elements in an array are equal.\n",
    "\n",
    "Use `Array.prototype.every()` to check if all the elements of the array are the same as the first one. Elements in the array are compared using the strict comparison operator, which does not account for `NaN` self-inequality."
   ]
  },
  {
   "cell_type": "code",
   "execution_count": null,
   "metadata": {
    "ExecuteTime": {
     "end_time": "2020-08-29T16:58:24.453967Z",
     "start_time": "2020-08-29T16:58:24.242Z"
    }
   },
   "outputs": [],
   "source": [
    "const allEqual = arr => arr.every(val => val === arr[0]);"
   ]
  },
  {
   "cell_type": "code",
   "execution_count": null,
   "metadata": {
    "ExecuteTime": {
     "end_time": "2020-08-29T16:58:45.663285Z",
     "start_time": "2020-08-29T16:58:45.452Z"
    },
    "scrolled": true
   },
   "outputs": [],
   "source": [
    "console.log(allEqual([1, 2, 3, 4, 5, 6]));\n",
    "console.log(allEqual([1, 1, 1, 1]));"
   ]
  },
  {
   "cell_type": "markdown",
   "metadata": {},
   "source": [
    "## [any](https://www.30secondsofcode.org/js/s/any)\n",
    "JavaScript, Array, Function, Beginner\n",
    "\n",
    "Returns `true` if the provided predicate function returns `true` for at least one element in a collection, `false` otherwise.\n",
    "\n",
    "Use `Array.prototype.some()` to test if any elements in the collection return `true` based on `fn`. Omit the second argument, `fn`, to use `Boolean` as a default."
   ]
  },
  {
   "cell_type": "code",
   "execution_count": null,
   "metadata": {
    "ExecuteTime": {
     "end_time": "2020-08-29T17:09:47.640407Z",
     "start_time": "2020-08-29T17:09:47.412Z"
    }
   },
   "outputs": [],
   "source": [
    "const any = (arr, fn = Boolean) => arr.some(fn);"
   ]
  },
  {
   "cell_type": "code",
   "execution_count": null,
   "metadata": {
    "ExecuteTime": {
     "end_time": "2020-08-29T17:10:15.772370Z",
     "start_time": "2020-08-29T17:10:15.555Z"
    }
   },
   "outputs": [],
   "source": [
    "console.log(any([0, 1, 2, 0], x => x >= 2));\n",
    "console.log(any([0, 0, 1, 0]));"
   ]
  },
  {
   "cell_type": "markdown",
   "metadata": {},
   "source": [
    "## [compact](https://www.30secondsofcode.org/js/s/compact)\n",
    "JavaScript, Array, Beginner\n",
    "\n",
    "Removes falsy values from an array.\n",
    "\n",
    "Use `Array.prototype.filter()` to filter out falsy values (`false`, `null`, `0`, `\"\"`, `undefined`, and `NaN`)."
   ]
  },
  {
   "cell_type": "code",
   "execution_count": null,
   "metadata": {
    "ExecuteTime": {
     "end_time": "2020-08-29T17:12:51.992335Z",
     "start_time": "2020-08-29T17:12:51.785Z"
    }
   },
   "outputs": [],
   "source": [
    "const compact = arr => arr.filter(Boolean);"
   ]
  },
  {
   "cell_type": "code",
   "execution_count": null,
   "metadata": {
    "ExecuteTime": {
     "end_time": "2020-08-29T17:13:09.102075Z",
     "start_time": "2020-08-29T17:13:08.882Z"
    }
   },
   "outputs": [],
   "source": [
    "console.log(compact([0, 1, false, 2, '', 3, 'a', 'e' * 23, NaN, 's', 34]));"
   ]
  },
  {
   "cell_type": "markdown",
   "metadata": {},
   "source": [
    "## [difference](https://www.30secondsofcode.org/js/s/difference) & !difference\n",
    "JavaScript, Array, Math, Beginner\n",
    "\n",
    "Returns the difference between two arrays.\n",
    "\n",
    "Create a `Set` from `b`, then use `Array.prototype.filter()` on `a` to only keep values not contained in `b`."
   ]
  },
  {
   "cell_type": "code",
   "execution_count": 1,
   "metadata": {
    "ExecuteTime": {
     "end_time": "2020-08-29T17:29:44.462168Z",
     "start_time": "2020-08-29T17:29:44.225Z"
    }
   },
   "outputs": [],
   "source": [
    "const difference = (a, b) => {\n",
    "    const s = new Set(b);\n",
    "    return a.filter(x => !s.has(x));\n",
    "};"
   ]
  },
  {
   "cell_type": "code",
   "execution_count": 2,
   "metadata": {
    "ExecuteTime": {
     "end_time": "2020-08-29T17:29:46.072442Z",
     "start_time": "2020-08-29T17:29:45.844Z"
    }
   },
   "outputs": [],
   "source": [
    "const both = (a, b) => {\n",
    "    return a.filter(x => b.includes(x));\n",
    "};"
   ]
  },
  {
   "cell_type": "code",
   "execution_count": 4,
   "metadata": {
    "ExecuteTime": {
     "end_time": "2020-08-29T17:29:50.275807Z",
     "start_time": "2020-08-29T17:29:50.044Z"
    },
    "scrolled": true
   },
   "outputs": [
    {
     "name": "stdout",
     "output_type": "stream",
     "text": [
      "[ 3 ]\n",
      "[ 1, 2 ]\n"
     ]
    }
   ],
   "source": [
    "console.log(difference([1, 2, 3], [1, 2, 4]));\n",
    "console.log(both([1, 2, 3], [1, 2, 4]));"
   ]
  },
  {
   "cell_type": "markdown",
   "metadata": {},
   "source": [
    "## [everyNth]()\n",
    "JavaScript, Array, Beginner\n",
    "\n",
    "Returns every nth element in an array.\n",
    "\n",
    "Use `Array.prototype.filter()` to create a new array that contains every nth element of a given array.\n",
    "\n",
    "---\n",
    "返回奇数index的值\n",
    "\n",
    "---\n",
    "[**`==`和`===`区别**](https://www.cnblogs.com/nelson-hu/p/7922731.html)\n",
    "\n",
    "<details><summary>内容折叠</summary>\n",
    "\n",
    "**双等号 `==` :**\n",
    "\n",
    "　　（1）如果两个值类型相同，再进行三个等号(===)的比较\n",
    "\n",
    "　　（2）如果两个值类型不同，也有可能相等，需根据以下规则进行类型转换在比较：\n",
    "\n",
    "　　　　1）如果一个是null，一个是undefined，那么相等\n",
    "\n",
    "　　　　2）如果一个是字符串，一个是数值，把字符串转换成数值之后再进行比较\n",
    "\n",
    "　　\n",
    "\n",
    "**三等号 `===` :**\n",
    "\n",
    "　　（1）如果类型不同，就一定不相等\n",
    "\n",
    "　　（2）如果两个都是数值，并且是同一个值，那么相等；如果其中至少一个是NaN，那么不相等。（判断一个值是否是NaN，只能使用isNaN( ) 来判断）\n",
    "\n",
    "　　（3）如果两个都是字符串，每个位置的字符都一样，那么相等，否则不相等。\n",
    "\n",
    "　　（4）如果两个值都是true，或是false，那么相等\n",
    "\n",
    "　　（5）如果两个值都引用同一个对象或是函数，那么相等，否则不相等\n",
    "\n",
    "　　（6）如果两个值都是null，或是undefined，那么相等\n",
    "</details>"
   ]
  },
  {
   "cell_type": "code",
   "execution_count": 1,
   "metadata": {
    "ExecuteTime": {
     "end_time": "2020-08-29T20:08:52.801942Z",
     "start_time": "2020-08-29T20:08:52.483Z"
    }
   },
   "outputs": [],
   "source": [
    "const everyNth = (arr, nth) => arr.filter((e, i) => i % nth === nth - 1);"
   ]
  },
  {
   "cell_type": "code",
   "execution_count": 5,
   "metadata": {
    "ExecuteTime": {
     "end_time": "2020-08-29T20:25:21.657429Z",
     "start_time": "2020-08-29T20:25:21.311Z"
    },
    "scrolled": true
   },
   "outputs": [
    {
     "name": "stdout",
     "output_type": "stream",
     "text": [
      "[ 1, 3, 5 ]\n"
     ]
    }
   ],
   "source": [
    "console.log(everyNth([0, 1, 7, 3, 4, 5, 6], 2));"
   ]
  },
  {
   "cell_type": "markdown",
   "metadata": {},
   "source": [
    "## [filterNonUnique](https://www.30secondsofcode.org/js/s/filter-non-unique)\n",
    "JavaScript, Array, Beginner\n",
    "\n",
    "Filters out the non-unique values in an array.\n",
    "\n",
    "Use `Array.prototype.filter()` for an array containing only the unique values.\n",
    "\n",
    "---\n",
    "返回数组中值唯一的元素"
   ]
  },
  {
   "cell_type": "code",
   "execution_count": 6,
   "metadata": {
    "ExecuteTime": {
     "end_time": "2020-08-29T20:30:14.250995Z",
     "start_time": "2020-08-29T20:30:13.912Z"
    }
   },
   "outputs": [],
   "source": [
    "const filterNonUnique = arr => arr.filter(i => arr.indexOf(i) === arr.lastIndexOf(i));"
   ]
  },
  {
   "cell_type": "code",
   "execution_count": 7,
   "metadata": {
    "ExecuteTime": {
     "end_time": "2020-08-29T20:30:32.320522Z",
     "start_time": "2020-08-29T20:30:31.982Z"
    },
    "scrolled": true
   },
   "outputs": [
    {
     "name": "stdout",
     "output_type": "stream",
     "text": [
      "[ 1, 3, 5 ]\n"
     ]
    }
   ],
   "source": [
    "console.log(filterNonUnique([1, 2, 2, 3, 4, 4, 5]));"
   ]
  },
  {
   "cell_type": "markdown",
   "metadata": {},
   "source": [
    "## [findLast](https://www.30secondsofcode.org/js/s/find-last)\n",
    "JavaScript, Array, Beginner\n",
    "\n",
    "Returns the last element for which the provided function returns a truthy value.\n",
    "\n",
    "Use `Array.prototype.filter()` to remove elements for which `fn` returns falsy values, `Array.prototype.pop()` to get the last one.\n",
    "\n",
    "---\n",
    "返回最后一个满足条件的值"
   ]
  },
  {
   "cell_type": "code",
   "execution_count": 8,
   "metadata": {
    "ExecuteTime": {
     "end_time": "2020-08-29T20:34:58.709974Z",
     "start_time": "2020-08-29T20:34:58.365Z"
    }
   },
   "outputs": [],
   "source": [
    "const findLast = (arr, fn) => arr.filter(fn).pop();"
   ]
  },
  {
   "cell_type": "code",
   "execution_count": 9,
   "metadata": {
    "ExecuteTime": {
     "end_time": "2020-08-29T20:35:10.447998Z",
     "start_time": "2020-08-29T20:35:10.098Z"
    }
   },
   "outputs": [
    {
     "name": "stdout",
     "output_type": "stream",
     "text": [
      "3\n"
     ]
    }
   ],
   "source": [
    "console.log(findLast([1, 2, 3, 4], n => n % 2 === 1));"
   ]
  },
  {
   "cell_type": "markdown",
   "metadata": {},
   "source": [
    "## head\n",
    "JavaScript, Array, Beginner\n",
    "\n",
    "Returns the head of a list.\n",
    "\n",
    "Check if `arr` is truthy and has a `length` property, use `arr[0]` if possible to return the first element, otherwise return `undefined`."
   ]
  },
  {
   "cell_type": "code",
   "execution_count": 10,
   "metadata": {
    "ExecuteTime": {
     "end_time": "2020-08-29T20:37:18.000867Z",
     "start_time": "2020-08-29T20:37:17.657Z"
    }
   },
   "outputs": [],
   "source": [
    "const head = arr => (arr && arr.length ? arr[0] : undefined);"
   ]
  },
  {
   "cell_type": "code",
   "execution_count": 12,
   "metadata": {
    "ExecuteTime": {
     "end_time": "2020-08-29T20:38:23.182329Z",
     "start_time": "2020-08-29T20:38:22.834Z"
    }
   },
   "outputs": [
    {
     "name": "stdout",
     "output_type": "stream",
     "text": [
      "1\n",
      "undefined\n",
      "undefined\n",
      "undefined\n"
     ]
    }
   ],
   "source": [
    "console.log(head([1, 2, 3]));\n",
    "console.log(head([]));\n",
    "console.log(head(null));\n",
    "console.log(head(undefined));"
   ]
  }
 ],
 "metadata": {
  "kernelspec": {
   "display_name": "Javascript (Node.js)",
   "language": "javascript",
   "name": "javascript"
  },
  "language_info": {
   "file_extension": ".js",
   "mimetype": "application/javascript",
   "name": "javascript",
   "version": "13.13.0"
  },
  "toc": {
   "base_numbering": 1,
   "nav_menu": {},
   "number_sections": true,
   "sideBar": true,
   "skip_h1_title": false,
   "title_cell": "Table of Contents",
   "title_sidebar": "Contents",
   "toc_cell": false,
   "toc_position": {
    "height": "calc(100% - 180px)",
    "left": "10px",
    "top": "150px",
    "width": "168.55px"
   },
   "toc_section_display": true,
   "toc_window_display": false
  },
  "varInspector": {
   "cols": {
    "lenName": 16,
    "lenType": 16,
    "lenVar": 40
   },
   "kernels_config": {
    "python": {
     "delete_cmd_postfix": "",
     "delete_cmd_prefix": "del ",
     "library": "var_list.py",
     "varRefreshCmd": "print(var_dic_list())"
    },
    "r": {
     "delete_cmd_postfix": ") ",
     "delete_cmd_prefix": "rm(",
     "library": "var_list.r",
     "varRefreshCmd": "cat(var_dic_list()) "
    }
   },
   "types_to_exclude": [
    "module",
    "function",
    "builtin_function_or_method",
    "instance",
    "_Feature"
   ],
   "window_display": false
  }
 },
 "nbformat": 4,
 "nbformat_minor": 4
}
