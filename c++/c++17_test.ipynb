{
 "cells": [
  {
   "cell_type": "markdown",
   "metadata": {},
   "source": [
    "未通过"
   ]
  },
  {
   "cell_type": "code",
   "execution_count": 4,
   "metadata": {},
   "outputs": [
    {
     "name": "stderr",
     "output_type": "stream",
     "text": [
      "input_line_16:7:7: error: qualified reference to 'Test' is a constructor name rather than a type in this context\n",
      "Test::Test(string const &name){\n",
      "      ^\n",
      "input_line_16:7:12: error: unexpected type name 'string': expected expression\n",
      "Test::Test(string const &name){\n",
      "           ^\n",
      "input_line_16:11:12: error: function definition is not allowed here\n",
      "void func(){\n",
      "           ^\n",
      "input_line_16:14:11: error: function definition is not allowed here\n",
      "int main(){\n",
      "          ^\n"
     ]
    },
    {
     "ename": "Interpreter Error",
     "evalue": "",
     "output_type": "error",
     "traceback": [
      "Interpreter Error: "
     ]
    }
   ],
   "source": [
    "#include <iostream>\n",
    "#include <string>\n",
    "using namespace std;\n",
    "\n",
    "class Test{\n",
    "    public:\n",
    "        Test(string const &name);   // constructor with an argument\n",
    "};\n",
    "\n",
    "Test::Test(string const &name){\n",
    "    cout << \"Test object \" << name << \" created\" << '\\n';\n",
    "}\n",
    "\n",
    "Test globaltest(\"global\");\n",
    "\n",
    "void func(){\n",
    "    Test functest(\"func\");\n",
    "}\n",
    "\n",
    "int main(){\n",
    "    Test first{ \"main first\" };\n",
    "    func();\n",
    "    Test second{ \"main second\" };\n",
    "}"
   ]
  },
  {
   "cell_type": "code",
   "execution_count": null,
   "metadata": {},
   "outputs": [],
   "source": []
  }
 ],
 "metadata": {
  "kernelspec": {
   "display_name": "C++17",
   "language": "C++17",
   "name": "xcpp17"
  },
  "language_info": {
   "codemirror_mode": "text/x-c++src",
   "file_extension": ".cpp",
   "mimetype": "text/x-c++src",
   "name": "c++",
   "version": "17"
  }
 },
 "nbformat": 4,
 "nbformat_minor": 4
}
