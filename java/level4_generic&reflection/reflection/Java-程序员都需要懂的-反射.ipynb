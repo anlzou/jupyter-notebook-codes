{
 "cells": [
  {
   "cell_type": "markdown",
   "metadata": {},
   "source": [
    "# [Java 程序员都需要懂的 反射！](https://mp.weixin.qq.com/s?__biz=MzI4Njg5MDA5NA==&mid=2247486658&idx=1&sn=58e682f3b9c68def4f12c574afac0de3&chksm=ebd74dc3dca0c4d542aa7ef2f7944dba438a447ffc2b39650dc4362698c6a7acd32e1a5fe3dc&token=2140209384&lang=zh_CN#rd)"
   ]
  },
  {
   "cell_type": "markdown",
   "metadata": {},
   "source": [
    "## 序言\n",
    "在学习Java基础的时候，一般都会学过反射。我在初学反射的时候，并不能理解反射是用来干嘛的。学了一些API发现：“明明我自己能直接new一个对象，为什么它要绕一个圈子，先拿到Class对象，再调用Class对象的方法来创建对象呢，这不是多余吗？”"
   ]
  },
  {
   "cell_type": "markdown",
   "metadata": {},
   "source": [
    "## 引出Class对象\n",
    "首先我们来看一段代码："
   ]
  },
  {
   "cell_type": "code",
   "execution_count": 18,
   "metadata": {
    "ExecuteTime": {
     "end_time": "2020-08-26T19:27+0000",
     "start_time": "2020-08-26T19:27:39.676Z"
    }
   },
   "outputs": [],
   "source": [
    "public class Demo {\n",
    "    // 自建了一个Student类\n",
    "    class Student{\n",
    "    }\n",
    "    public static void main() {\n",
    "        // 将Object 强转成Student类\n",
    "        Object o = new Object();\n",
    "        Student s = (Student) o;\n",
    "    }\n",
    "}"
   ]
  },
  {
   "cell_type": "code",
   "execution_count": 17,
   "metadata": {
    "ExecuteTime": {
     "end_time": "2020-08-26T19:27+0000",
     "start_time": "2020-08-26T19:27:19.322Z"
    }
   },
   "outputs": [
    {
     "ename": "EvalException",
     "evalue": "class java.lang.Object cannot be cast to class REPL.$JShell$12$Demo$Student (java.lang.Object is in module java.base of loader 'bootstrap'; REPL.$JShell$12$Demo$Student is in unnamed module of loader jdk.jshell.execution.DefaultLoaderDelegate$RemoteClassLoader @646007f4)",
     "output_type": "error",
     "traceback": [
      "\u001b[1m\u001b[31m---------------------------------------------------------------------------\u001b[0m",
      "\u001b[1m\u001b[31mjava.lang.ClassCastException: class java.lang.Object cannot be cast to class REPL.$JShell$12$Demo$Student (java.lang.Object is in module java.base of loader 'bootstrap'; REPL.$JShell$12$Demo$Student is in unnamed module of loader jdk.jshell.execution.DefaultLoaderDelegate$RemoteClassLoader @646007f4)\u001b[0m",
      "\u001b[1m\u001b[31m\tat Demo.main(#12:8)\u001b[0m",
      "\u001b[1m\u001b[31m\tat .(#25:1)\u001b[0m"
     ]
    }
   ],
   "source": [
    "Demo.main();"
   ]
  },
  {
   "cell_type": "markdown",
   "metadata": {},
   "source": [
    "编译成功，运行失败。\n",
    "- 强转失败了"
   ]
  },
  {
   "cell_type": "code",
   "execution_count": null,
   "metadata": {},
   "outputs": [],
   "source": []
  }
 ],
 "metadata": {
  "kernelspec": {
   "display_name": "Java",
   "language": "java",
   "name": "java"
  },
  "language_info": {
   "codemirror_mode": "java",
   "file_extension": ".jshell",
   "mimetype": "text/x-java-source",
   "name": "Java",
   "pygments_lexer": "java",
   "version": "11.0.8+10-post-Ubuntu-0ubuntu120.04"
  },
  "toc": {
   "base_numbering": 1,
   "nav_menu": {},
   "number_sections": true,
   "sideBar": true,
   "skip_h1_title": false,
   "title_cell": "Table of Contents",
   "title_sidebar": "Contents",
   "toc_cell": false,
   "toc_position": {},
   "toc_section_display": true,
   "toc_window_display": false
  },
  "varInspector": {
   "cols": {
    "lenName": 16,
    "lenType": 16,
    "lenVar": 40
   },
   "kernels_config": {
    "python": {
     "delete_cmd_postfix": "",
     "delete_cmd_prefix": "del ",
     "library": "var_list.py",
     "varRefreshCmd": "print(var_dic_list())"
    },
    "r": {
     "delete_cmd_postfix": ") ",
     "delete_cmd_prefix": "rm(",
     "library": "var_list.r",
     "varRefreshCmd": "cat(var_dic_list()) "
    }
   },
   "types_to_exclude": [
    "module",
    "function",
    "builtin_function_or_method",
    "instance",
    "_Feature"
   ],
   "window_display": false
  }
 },
 "nbformat": 4,
 "nbformat_minor": 4
}
