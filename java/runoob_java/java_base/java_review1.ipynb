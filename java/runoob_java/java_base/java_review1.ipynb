{
 "cells": [
  {
   "cell_type": "markdown",
   "metadata": {},
   "source": [
    "# java复习1"
   ]
  },
  {
   "cell_type": "markdown",
   "metadata": {},
   "source": [
    "## java 关键字\n",
    "下面列出了 Java 关键字。这些保留字不能用于常量、变量、和任何标识符的名称。"
   ]
  },
  {
   "cell_type": "markdown",
   "metadata": {},
   "source": [
    "| 类别                 | 关键字       | 说明                           |\n",
    "| :------------------- | :------------ | :----------------------------- |\n",
    "| 访问控制             | private      | 私有的                         |\n",
    "|                      | protected    | 受保护的                       |\n",
    "|                      | public       | 公共的                         |\n",
    "|                      | default      | 默认                           |\n",
    "| 类、方法和变量修饰符 | abstract     | 声明抽象                       |\n",
    "|                      | class        | 类                             |\n",
    "|                      | extends      | 扩充,继承                      |\n",
    "|                      | final        | 最终值,不可改变的              |\n",
    "|                      | implements   | 实现（接口）                   |\n",
    "|                      | interface    | 接口                           |\n",
    "|                      | native       | 本地，原生方法（非 Java 实现） |\n",
    "|                      | new          | 新,创建                        |\n",
    "|                      | static       | 静态                           |\n",
    "|                      | strictfp     | 严格,精准                      |\n",
    "|                      | synchronized | 线程,同步                      |\n",
    "|                      | transient    | 短暂                           |\n",
    "|                      | volatile     | 易失                           |\n",
    "| 程序控制语句         | break        | 跳出循环                       |\n",
    "|                      | case         | 定义一个值以供 switch 选择     |\n",
    "|                      | continue     | 继续                           |\n",
    "|                      | default      | 默认                           |\n",
    "|                      | do           | 运行                           |\n",
    "|                      | else         | 否则                           |\n",
    "|                      | for          | 循环                           |\n",
    "|                      | if           | 如果                           |\n",
    "|                      | instanceof   | 实例                           |\n",
    "|                      | return       | 返回                           |\n",
    "|                      | switch       | 根据值选择执行                 |\n",
    "|                      | while        | 循环                           |\n",
    "| 错误处理             | assert       | 断言表达式是否为真             |\n",
    "|                      | catch        | 捕捉异常                       |\n",
    "|                      | finally      | 有没有异常都执行               |\n",
    "|                      | throw        | 抛出一个异常对象               |\n",
    "|                      | throws       | 声明一个异常可能被抛出         |\n",
    "|                      | try          | 捕获异常                       |\n",
    "| 包相关               | import       | 引入                           |\n",
    "|                      | package      | 包                             |\n",
    "| 基本类型             | boolean      | 布尔型                         |\n",
    "|                      | byte         | 字节型                         |\n",
    "|                      | char         | 字符型                         |\n",
    "|                      | double       | 双精度浮点                     |\n",
    "|                      | float        | 单精度浮点                     |\n",
    "|                      | int          | 整型                           |\n",
    "|                      | long         | 长整型                         |\n",
    "|                      | short        | 短整型                         |\n",
    "| 变量引用             | super        | 父类,超类                      |\n",
    "|                      | this         | 本类                           |\n",
    "|                      | void         | 无返回值                       |\n",
    "| 保留关键字           | goto         | 是关键字，但不能使用           |\n",
    "| 预留表示以后可能用到 | const        | 是关键字，但不能使用           |\n",
    "|                      | null         | 空                             |"
   ]
  },
  {
   "attachments": {
    "image.png": {
     "image/png": "[encoded data removed]"
    }
   },
   "cell_type": "markdown",
   "metadata": {},
   "source": [
    "## Java 源程序与编译型运行区别\n",
    "\n",
    "如下图所示：\n",
    "![image.png](attachment:image.png)"
   ]
  },
  {
   "cell_type": "markdown",
   "metadata": {
    "ExecuteTime": {
     "end_time": "2020-10-25T08:04+0000",
     "start_time": "2020-10-25T08:04:41.438Z"
    }
   },
   "source": [
    "## 数据类型&范围&默认值\n",
    "文档：[java的八种基本数据类型.note](http://note.youdao.com/noteshare?id=4ecb2e2be032471a5118419886a757ca&sub=241B4D00E17C45BCB660FCDFF98ECC39)\n",
    "\n",
    "### byte 取值范围\n",
    "\n",
    "Java 中，byte 占一个字节，取值范围为何是 `-128~127？（-2^7~2^7-1）`\n",
    "\n",
    "计算机是用二进制来表示数据的，一个字节也就是 8 个比特位，其中最高位表示符号位（0 正 1 负）。\n",
    "\n",
    "故 byte 的取值范围为 `1000 0000` 到 `0111 1111`。\n",
    "\n",
    "在 Java 中，是采用补码来表示数据的。\n",
    "\n",
    "正数的补码和原码相同，负数的补码是在原码的基础上各位取反然后加 1。\n",
    "\n",
    "1000 000 是补码，减一然后按位取反得到其原码 1000 0000。（减一得 0111 1111，再按位取反得 1000 0000）\n",
    "\n",
    "因为是负数，所以最小的 byte 值为 `-2^7=-128`。\n",
    "\n",
    "0111 1111 的十进制为 2^7-1=127（等比序列求和）。\n",
    "\n",
    "byte 是一个字节，共有 2^8=256 种可能性，也就是 -128~127。\n",
    "\n",
    "其他基本数据类型同理：\n",
    "\n",
    "char 没有负值，占两个字节，所以取值范围是 `0~2^16-1（65535）`。"
   ]
  },
  {
   "cell_type": "markdown",
   "metadata": {},
   "source": [
    "## 规范\n",
    "\n",
    "### 一、命名规范：\n",
    "\n",
    "1. 由字母、数字、下划线、$组成，不能以数字开头。\n",
    "2. 大小写敏感。\n",
    "3. 不得使用java中的关键字和保留字。\n",
    "关键字：都是小写的，jdk1.2多了strictfp(经准浮点型)，关键字 jdk1.4多了assert(断言)关键字，jdk1.5多了enum(枚举) 关键字。\n",
    "\n",
    "true、false、null 严格说不应该算关键字，应称其为保留字更合适。\n",
    "\n",
    "习惯：\n",
    "\n",
    "1. 标识符要符合语义信息。\n",
    "2. 包名所有字母小写。\n",
    "3. 类名每个单词首字母大写，其它小写，如：TarenaStudent。\n",
    "4. 变量和方法：第一个单词小写，从第二个单词开始首字母大写，如：tarenaStudent。\n",
    "5. 常量：所有字母大写，每个单词之间用 _ 连接。\n",
    "\n",
    "### 二、注释规范\n",
    "\n",
    "1. 类注释\n",
    "\n",
    "在每个类前面必须加上类注释，注释模板如下：\n",
    "```java\n",
    "/**\n",
    "* Copyright (C), 2006-2010, ChengDu Lovo info. Co., Ltd.\n",
    "* FileName: Test.java\n",
    "* 类的详细说明\n",
    "*\n",
    "* @author 类创建者姓名\n",
    "* @Date    创建日期\n",
    "* @version 1.00\n",
    "*/\n",
    "```\n",
    "2. 属性注释\n",
    "\n",
    "在每个属性前面必须加上属性注释，注释模板如下：\n",
    "```java\n",
    "/** 提示信息 */\n",
    "\n",
    "private String strMsg = null;\n",
    "```\n",
    "3. 方法注释\n",
    "\n",
    "在每个方法前面必须加上方法注释，注释模板如下：\n",
    "```java\n",
    "/**\n",
    "* 类方法的详细使用说明\n",
    "*\n",
    "* @param 参数1 参数1的使用说明\n",
    "* @return 返回结果的说明\n",
    "* @throws 异常类型.错误代码 注明从此类方法中抛出异常的说明\n",
    "*/\n",
    "```\n",
    "4. 构造方法注释\n",
    "\n",
    "在每个构造方法前面必须加上注释，注释模板如下：\n",
    "```java\n",
    "/**\n",
    "* 构造方法的详细使用说明\n",
    "*\n",
    "* @param 参数1 参数1的使用说明\n",
    "* @throws 异常类型.错误代码 注明从此类方法中抛出异常的说明\n",
    "*/\n",
    "```\n",
    "5. 方法内部注释\n",
    "\n",
    "在方法内部使用单行或者多行注释，该注释根据实际情况添加。\n",
    "\n",
    "如：\n",
    "```java\n",
    "//背景颜色\n",
    "Color bgColor = Color.RED\n",
    "```"
   ]
  },
  {
   "cell_type": "markdown",
   "metadata": {},
   "source": [
    "## 数据类型的溢出\n",
    "\n",
    "在 Java 中，只有数字类型才能参与运算。但是每个数据类型都有他的取值范围。\n",
    "\n",
    "例如 byte 数据类型，它的取值范围为 `-128 - 127` 。\n",
    "\n",
    "当我们使用 `byte b = 128`; 时，肯定会报错。\n",
    "\n",
    "但是使用 `byte b = 127+1`; 并不会报错。\n",
    "\n",
    "而且运算的结果为 `-128`。\n",
    "\n",
    "我们可以向数据类型的取值范围看作是一个圆，每多一个数据向前移动一个，当数据达到最大值时，我们再加 1，可以就会变成最小值，这就是数据的溢出。"
   ]
  },
  {
   "cell_type": "markdown",
   "metadata": {},
   "source": [
    "## throw 和 throws 的区别：\n",
    "\n",
    "throws 用来声明一个方法可能产生的所有异常，不做任何处理而是将异常往上传，谁调用我我就抛给谁。\n",
    "\n",
    "throw 则是用来抛出一个具体的异常类型。\n",
    "\n",
    "throws 在方法后边声明异常，其实就是自己不想对异常做出任何的处理，告诉别人自己可能出现的异常，交给别人处理，然别人处理。\n",
    "\n",
    "throw 就是自己处理一个异常，有两种方式要么是自己捕获异常 `try...catch` 代码块，要么是抛出一个异常（throws 异常）。"
   ]
  }
 ],
 "metadata": {
  "kernelspec": {
   "display_name": "Java",
   "language": "java",
   "name": "java"
  },
  "language_info": {
   "codemirror_mode": "java",
   "file_extension": ".jshell",
   "mimetype": "text/x-java-source",
   "name": "Java",
   "pygments_lexer": "java",
   "version": "11.0.8+10-post-Ubuntu-0ubuntu120.04"
  },
  "toc": {
   "base_numbering": 1,
   "nav_menu": {},
   "number_sections": true,
   "sideBar": true,
   "skip_h1_title": false,
   "title_cell": "Table of Contents",
   "title_sidebar": "Contents",
   "toc_cell": false,
   "toc_position": {},
   "toc_section_display": true,
   "toc_window_display": false
  },
  "varInspector": {
   "cols": {
    "lenName": 16,
    "lenType": 16,
    "lenVar": 40
   },
   "kernels_config": {
    "python": {
     "delete_cmd_postfix": "",
     "delete_cmd_prefix": "del ",
     "library": "var_list.py",
     "varRefreshCmd": "print(var_dic_list())"
    },
    "r": {
     "delete_cmd_postfix": ") ",
     "delete_cmd_prefix": "rm(",
     "library": "var_list.r",
     "varRefreshCmd": "cat(var_dic_list()) "
    }
   },
   "types_to_exclude": [
    "module",
    "function",
    "builtin_function_or_method",
    "instance",
    "_Feature"
   ],
   "window_display": false
  }
 },
 "nbformat": 4,
 "nbformat_minor": 4
}
