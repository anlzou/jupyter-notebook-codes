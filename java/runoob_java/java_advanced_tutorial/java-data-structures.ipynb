{
 "cells": [
  {
   "cell_type": "markdown",
   "metadata": {},
   "source": [
    "# Java 数据结构\n",
    "Java工具包提供了强大的数据结构。在Java中的数据结构主要包括以下几种接口和类：\n",
    "\n",
    "- 枚举（Enumeration）\n",
    "- 位集合（BitSet）\n",
    "- 向量（Vector）\n",
    "- 栈（Stack）\n",
    "- 字典（Dictionary）\n",
    "- 哈希表（Hashtable）\n",
    "- 属性（Properties）\n",
    "\n",
    "以上这些类是传统遗留的，在Java2中引入了一种新的框架-集合框架(Collection)。"
   ]
  },
  {
   "cell_type": "markdown",
   "metadata": {},
   "source": [
    "## Java Enumeration接口\n",
    "Enumeration接口中定义了一些方法，通过这些方法可以枚举（一次获得一个）对象集合中的元素。\n",
    "\n",
    "这种传统接口已被迭代器取代，虽然Enumeration 还未被遗弃，但在现代代码中已经被很少使用了。尽管如此，它还是使用在诸如Vector和Properties这些传统类所定义的方法中，除此之外，还用在一些API类，并且在应用程序中也广泛被使用。 下表总结了一些Enumeration声明的方法：\n",
    "\n",
    "|序号|\t方法|描述|\n",
    "|:--|:--|:--|\n",
    "|1|\tboolean hasMoreElements( )|测试此枚举是否包含更多的元素。|\n",
    "|2|\tObject nextElement( )|如果此枚举对象至少还有一个可提供的元素，则返回此枚举的下一个元素。|"
   ]
  },
  {
   "cell_type": "code",
   "execution_count": 3,
   "metadata": {
    "ExecuteTime": {
     "end_time": "2020-11-05T07:29+0000",
     "start_time": "2020-11-05T07:29:45.399Z"
    }
   },
   "outputs": [],
   "source": [
    "//import java.util.Vector;\n",
    "//import java.util.Enumeration;"
   ]
  },
  {
   "cell_type": "code",
   "execution_count": 1,
   "metadata": {
    "ExecuteTime": {
     "end_time": "2020-11-05T07:29+0000",
     "start_time": "2020-11-05T07:29:10.075Z"
    }
   },
   "outputs": [],
   "source": [
    "public class EnumerationTester {\n",
    " \n",
    "   public static void main() {\n",
    "      Enumeration<String> days;\n",
    "      Vector<String> dayNames = new Vector<String>();\n",
    "      dayNames.add(\"Sunday\");\n",
    "      dayNames.add(\"Monday\");\n",
    "      dayNames.add(\"Tuesday\");\n",
    "      dayNames.add(\"Wednesday\");\n",
    "      dayNames.add(\"Thursday\");\n",
    "      dayNames.add(\"Friday\");\n",
    "      dayNames.add(\"Saturday\");\n",
    "      days = dayNames.elements();\n",
    "      while (days.hasMoreElements()){\n",
    "         System.out.println(days.nextElement()); \n",
    "      }\n",
    "   }\n",
    "}"
   ]
  },
  {
   "cell_type": "code",
   "execution_count": 2,
   "metadata": {
    "ExecuteTime": {
     "end_time": "2020-11-05T07:29+0000",
     "start_time": "2020-11-05T07:29:27.007Z"
    }
   },
   "outputs": [
    {
     "name": "stdout",
     "output_type": "stream",
     "text": [
      "Sunday\n",
      "Monday\n",
      "Tuesday\n",
      "Wednesday\n",
      "Thursday\n",
      "Friday\n",
      "Saturday\n"
     ]
    }
   ],
   "source": [
    "EnumerationTester.main();"
   ]
  },
  {
   "cell_type": "markdown",
   "metadata": {},
   "source": [
    "## Java Bitset类\n",
    "一个Bitset类创建一种特殊类型的数组来保存位值。BitSet中数组大小会随需要增加。这和位向量（vector of bits）比较类似。\n",
    "\n",
    "这是一个传统的类，但它在Java 2中被完全重新设计。\n",
    "\n",
    "BitSet定义了两个构造方法。\n",
    "第一个构造方法创建一个默认的对象：\n",
    "```java\n",
    "BitSet()\n",
    "```\n",
    "第二个方法允许用户指定初始大小。所有位初始化为0。\n",
    "```java\n",
    "BitSet(int size)\n",
    "```"
   ]
  },
  {
   "cell_type": "markdown",
   "metadata": {},
   "source": [
    "### BitSet中实现了Cloneable接口中定义的方法如下表所列：\n",
    "\n",
    "| 序号 | 方法                                              | 描述                                                         |\n",
    "| :--- | :------------------------------------------------ | :----------------------------------------------------------- |\n",
    "| 1    | void and(BitSet set)                              | 对此目标位 set 和参数位 set 执行逻辑与操作。                 |\n",
    "| 2    | void andNot(BitSet set)                           | 清除此 BitSet 中所有的位，其相应的位在指定的 BitSet 中已设置。 |\n",
    "| 3    | int cardinality( )                                | 返回此 BitSet 中设置为 true 的位数。                         |\n",
    "| 4    | void clear( )                                     | 将此 BitSet 中的所有位设置为 false。                         |\n",
    "| 5    | void clear(int index)                             | 将索引指定处的位设置为 false。                               |\n",
    "| 6    | void clear(int startIndex, int endIndex)          | 将指定的 startIndex（包括）到指定的 toIndex（不包括）范围内的位设置为 false。 |\n",
    "| 7    | Object clone( )                                   | 复制此 BitSet，生成一个与之相等的新 BitSet。                 |\n",
    "| 8    | boolean equals(Object bitSet)                     | 将此对象与指定的对象进行比较。                               |\n",
    "| 9    | void flip(int index)                              | 将指定索引处的位设置为其当前值的补码。                       |\n",
    "| 10   | void flip(int startIndex, int endIndex)           | 将指定的 fromIndex（包括）到指定的 toIndex（不包括）范围内的每个位设置为其当前值的补码。 |\n",
    "| 11   | boolean get(int index)                            | 返回指定索引处的位值。                                       |\n",
    "| 12   | BitSet get(int startIndex, int endIndex)          | 返回一个新的 BitSet，它由此 BitSet 中从 fromIndex（包括）到 toIndex（不包括）范围内的位组成。 |\n",
    "| 13   | int hashCode( )                                   | 返回此位 set 的哈希码值。                                    |\n",
    "| 14   | boolean intersects(BitSet bitSet)                 | 如果指定的 BitSet 中有设置为 true 的位，并且在此 BitSet 中也将其设置为 true，则返回 true。 |\n",
    "| 15   | boolean isEmpty( )                                | 如果此 BitSet 中没有包含任何设置为 true 的位，则返回 true。  |\n",
    "| 16   | int length( )                                     | 返回此 BitSet 的\"逻辑大小\"：BitSet 中最高设置位的索引加 1。  |\n",
    "| 17   | int nextClearBit(int startIndex)                  | 返回第一个设置为 false 的位的索引，这发生在指定的起始索引或之后的索引上。 |\n",
    "| 18   | int nextSetBit(int startIndex)                    | 返回第一个设置为 true 的位的索引，这发生在指定的起始索引或之后的索引上。 |\n",
    "| 19   | void or(BitSet bitSet)                            | 对此位 set 和位 set 参数执行逻辑或操作。                     |\n",
    "| 20   | void set(int index)                               | 将指定索引处的位设置为 true。                                |\n",
    "| 21   | void set(int index, boolean v)                    | 将指定索引处的位设置为指定的值。                             |\n",
    "| 22   | void set(int startIndex, int endIndex)            | 将指定的 fromIndex（包括）到指定的 toIndex（不包括）范围内的位设置为 true。 |\n",
    "| 23   | void set(int startIndex, int endIndex, boolean v) | 将指定的 fromIndex（包括）到指定的 toIndex（不包括）范围内的位设置为指定的值。 |\n",
    "| 24   | int size( )                                       | 返回此 BitSet 表示位值时实际使用空间的位数。                 |\n",
    "| 25   | String toString( )                                | 返回此位 set 的字符串表示形式。                              |\n",
    "| 26   | void xor(BitSet bitSet)                           | 对此位 set 和位 set 参数执行逻辑异或操作。                   |"
   ]
  },
  {
   "cell_type": "code",
   "execution_count": 6,
   "metadata": {
    "ExecuteTime": {
     "end_time": "2020-11-05T07:41+0000",
     "start_time": "2020-11-05T07:41:44.790Z"
    }
   },
   "outputs": [],
   "source": [
    "//import java.util.BitSet;"
   ]
  },
  {
   "cell_type": "code",
   "execution_count": 4,
   "metadata": {
    "ExecuteTime": {
     "end_time": "2020-11-05T07:41+0000",
     "start_time": "2020-11-05T07:41:24.365Z"
    }
   },
   "outputs": [],
   "source": [
    "public class BitSetDemo {\n",
    " \n",
    "  public static void main() {\n",
    "     BitSet bits1 = new BitSet(16);\n",
    "     BitSet bits2 = new BitSet(16);\n",
    "      \n",
    "     // set some bits\n",
    "     for(int i=0; i<16; i++) {\n",
    "        if((i%2) == 0) bits1.set(i);\n",
    "        if((i%5) != 0) bits2.set(i);\n",
    "     }\n",
    "     System.out.println(\"Initial pattern in bits1: \");\n",
    "     System.out.println(bits1);\n",
    "     System.out.println(\"\\nInitial pattern in bits2: \");\n",
    "     System.out.println(bits2);\n",
    " \n",
    "     // AND bits\n",
    "     bits2.and(bits1);\n",
    "     System.out.println(\"\\nbits2 AND bits1: \");\n",
    "     System.out.println(bits2);\n",
    " \n",
    "     // OR bits\n",
    "     bits2.or(bits1);\n",
    "     System.out.println(\"\\nbits2 OR bits1: \");\n",
    "     System.out.println(bits2);\n",
    " \n",
    "     // XOR bits\n",
    "     bits2.xor(bits1);\n",
    "     System.out.println(\"\\nbits2 XOR bits1: \");\n",
    "     System.out.println(bits2);\n",
    "  }\n",
    "}"
   ]
  },
  {
   "cell_type": "markdown",
   "metadata": {
    "ExecuteTime": {
     "end_time": "2020-11-05T07:41+0000",
     "start_time": "2020-11-05T07:41:32.536Z"
    }
   },
   "source": [
    "BitSetDemo.main();"
   ]
  },
  {
   "cell_type": "markdown",
   "metadata": {},
   "source": [
    "## Java Vector 类\n",
    "Vector 类实现了一个动态数组。和 ArrayList 很相似，但是两者是不同的：\n",
    "\n",
    "- **Vector 是同步访问的。**\n",
    "- **Vector 包含了许多传统的方法，这些方法不属于集合框架。**\n",
    "\n",
    "Vector 主要用在事先不知道数组的大小，或者只是需要一个可以改变大小的数组的情况。\n",
    "\n",
    "Vector 类支持 4 种构造方法。\n",
    "\n",
    "第一种构造方法创建一个默认的向量，默认大小为 10：\n",
    "```java\n",
    "Vector()\n",
    "```\n",
    "第二种构造方法创建指定大小的向量。\n",
    "```java\n",
    "Vector(int size)\n",
    "```\n",
    "第三种构造方法创建指定大小的向量，并且增量用 incr 指定。增量表示向量每次增加的元素数目。\n",
    "```java\n",
    "Vector(int size,int incr)\n",
    "```\n",
    "第四种构造方法创建一个包含集合 c 元素的向量：\n",
    "```java\n",
    "Vector(Collection c)\n",
    "```"
   ]
  },
  {
   "cell_type": "markdown",
   "metadata": {},
   "source": [
    "### 除了从父类继承的方法外 Vector 还定义了以下方法：\n",
    "| 序号 | 方法                                                   | 描述                                                         |\n",
    "| :--- | :----------------------------------------------------- | :----------------------------------------------------------- |\n",
    "| 1    | void add(int index, Object element)                    | 在此向量的指定位置插入指定的元素。                           |\n",
    "| 2    | boolean add(Object o)                                  | 将指定元素添加到此向量的末尾。                               |\n",
    "| 3    | boolean addAll(Collection c)                           | 将指定 Collection 中的所有元素添加到此向量的末尾，按照指定 collection 的迭代器所返回的顺序添加这些元素。 |\n",
    "| 4    | boolean addAll(int index, Collection c)                | 在指定位置将指定 Collection 中的所有元素插入到此向量中。     |\n",
    "| 5    | void addElement(Object obj)                            | 将指定的组件添加到此向量的末尾，将其大小增加 1。             |\n",
    "| 6    | int capacity()                                         | 返回此向量的当前容量。                                       |\n",
    "| 7    | void clear()                                           | 从此向量中移除所有元素。                                     |\n",
    "| 8    | Object clone()                                         | 返回向量的一个副本。                                         |\n",
    "| 9    | boolean contains(Object elem)                          | 如果此向量包含指定的元素，则返回 true。                      |\n",
    "| 10   | boolean containsAll(Collection c)                      | 如果此向量包含指定 Collection 中的所有元素，则返回 true。    |\n",
    "| 11   | void copyInto(Object[] anArray)                        | 将此向量的组件复制到指定的数组中。                           |\n",
    "| 12   | Object elementAt(int index)                            | 返回指定索引处的组件。                                       |\n",
    "| 13   | Enumeration elements()                                 | 返回此向量的组件的枚举。                                     |\n",
    "| 14   | void ensureCapacity(int minCapacity)                   | 增加此向量的容量（如有必要），以确保其至少能够保存最小容量参数指定的组件数。 |\n",
    "| 15   | boolean equals(Object o)                               | 比较指定对象与此向量的相等性。                               |\n",
    "| 16   | Object firstElement()                                  | 返回此向量的第一个组件（位于索引 0) 处的项）。               |\n",
    "| 17   | Object get(int index)                                  | 返回向量中指定位置的元素。                                   |\n",
    "| 18   | int hashCode()                                         | 返回此向量的哈希码值。                                       |\n",
    "| 19   | int indexOf(Object elem)                               | 返回此向量中第一次出现的指定元素的索引，如果此向量不包含该元素，则返回 -1。 |\n",
    "| 20   | int indexOf(Object elem, int index)                    | 返回此向量中第一次出现的指定元素的索引，从 index 处正向搜索，如果未找到该元素，则返回 -1。 |\n",
    "| 21   | void insertElementAt(Object obj, int index)            | 将指定对象作为此向量中的组件插入到指定的 index 处。          |\n",
    "| 22   | boolean isEmpty()                                      | 测试此向量是否不包含组件。                                   |\n",
    "| 23   | Object lastElement()                                   | 返回此向量的最后一个组件。                                   |\n",
    "| 24   | int lastIndexOf(Object elem)                           | 返回此向量中最后一次出现的指定元素的索引；如果此向量不包含该元素，则返回 -1。 |\n",
    "| 25   | int lastIndexOf(Object elem, int index)                | 返回此向量中最后一次出现的指定元素的索引，从 index 处逆向搜索，如果未找到该元素，则返回 -1。 |\n",
    "| 26   | Object remove(int index)                               | 移除此向量中指定位置的元素。                                 |\n",
    "| 27   | boolean remove(Object o)                               | 移除此向量中指定元素的第一个匹配项，如果向量不包含该元素，则元素保持不变。 |\n",
    "| 28   | boolean removeAll(Collection c)                        | 从此向量中移除包含在指定 Collection 中的所有元素。           |\n",
    "| 29   | void removeAllElements()                               | 从此向量中移除全部组件，并将其大小设置为零。                 |\n",
    "| 30   | boolean removeElement(Object obj)                      | 从此向量中移除变量的第一个（索引最小的）匹配项。             |\n",
    "| 31   | void removeElementAt(int index)                        | 删除指定索引处的组件。                                       |\n",
    "| 32   | protected void removeRange(int fromIndex, int toIndex) | 从此 List 中移除其索引位于 fromIndex（包括）与 toIndex（不包括）之间的所有元素。 |\n",
    "| 33   | boolean retainAll(Collection c)                        | 在此向量中仅保留包含在指定 Collection 中的元素。             |\n",
    "| 34   | Object set(int index, Object element)                  | 用指定的元素替换此向量中指定位置处的元素。                   |\n",
    "| 35   | void setElementAt(Object obj, int index)               | 将此向量指定 index 处的组件设置为指定的对象。                |\n",
    "| 36   | void setSize(int newSize)                              | 设置此向量的大小。                                           |\n",
    "| 37   | int size()                                             | 返回此向量中的组件数。                                       |\n",
    "| 38   | List subList(int fromIndex, int toIndex)               | 返回此 List 的部分视图，元素范围为从 fromIndex（包括）到 toIndex（不包括）。 |\n",
    "| 39   | Object[] toArray()                                     | 返回一个数组，包含此向量中以恰当顺序存放的所有元素。         |\n",
    "| 40   | Object[] toArray(Object[] a)                           | 返回一个数组，包含此向量中以恰当顺序存放的所有元素；返回数组的运行时类型为指定数组的类型。 |\n",
    "| 41   | String toString()                                      | 返回此向量的字符串表示形式，其中包含每个元素的 String 表示形式。 |\n",
    "| 42   | void trimToSize()                                      | 对此向量的容量进行微调，使其等于向量的当前大小。             |"
   ]
  },
  {
   "cell_type": "code",
   "execution_count": 9,
   "metadata": {
    "ExecuteTime": {
     "end_time": "2020-11-05T07:55+0000",
     "start_time": "2020-11-05T07:55:21.679Z"
    }
   },
   "outputs": [],
   "source": [
    "//import java.util.*;"
   ]
  },
  {
   "cell_type": "code",
   "execution_count": 7,
   "metadata": {
    "ExecuteTime": {
     "end_time": "2020-11-05T07:54+0000",
     "start_time": "2020-11-05T07:54:51.659Z"
    }
   },
   "outputs": [],
   "source": [
    "public class VectorDemo {\n",
    "\n",
    "   public static void main() {\n",
    "      // initial size is 3, increment is 2\n",
    "      Vector v = new Vector(3, 2);\n",
    "      System.out.println(\"Initial size: \" + v.size());\n",
    "      System.out.println(\"Initial capacity: \" +\n",
    "      v.capacity());\n",
    "      v.addElement(new Integer(1));\n",
    "      v.addElement(new Integer(2));\n",
    "      v.addElement(new Integer(3));\n",
    "      v.addElement(new Integer(4));\n",
    "      System.out.println(\"Capacity after four additions: \" +\n",
    "          v.capacity());\n",
    "\n",
    "      v.addElement(new Double(5.45));\n",
    "      System.out.println(\"Current capacity: \" +\n",
    "      v.capacity());\n",
    "      v.addElement(new Double(6.08));\n",
    "      v.addElement(new Integer(7));\n",
    "      System.out.println(\"Current capacity: \" +\n",
    "      v.capacity());\n",
    "      v.addElement(new Float(9.4));\n",
    "      v.addElement(new Integer(10));\n",
    "      System.out.println(\"Current capacity: \" +\n",
    "      v.capacity());\n",
    "      v.addElement(new Integer(11));\n",
    "      v.addElement(new Integer(12));\n",
    "      System.out.println(\"First element: \" +\n",
    "         (Integer)v.firstElement());\n",
    "      System.out.println(\"Last element: \" +\n",
    "         (Integer)v.lastElement());\n",
    "      if(v.contains(new Integer(3)))\n",
    "         System.out.println(\"Vector contains 3.\");\n",
    "      // enumerate the elements in the vector.\n",
    "      Enumeration vEnum = v.elements();\n",
    "      System.out.println(\"\\nElements in vector:\");\n",
    "      while(vEnum.hasMoreElements())\n",
    "         System.out.print(vEnum.nextElement() + \" \");\n",
    "      System.out.println();\n",
    "   }\n",
    "}"
   ]
  },
  {
   "cell_type": "code",
   "execution_count": 8,
   "metadata": {
    "ExecuteTime": {
     "end_time": "2020-11-05T07:55+0000",
     "start_time": "2020-11-05T07:55:00.871Z"
    },
    "scrolled": true
   },
   "outputs": [
    {
     "name": "stdout",
     "output_type": "stream",
     "text": [
      "Initial size: 0\n",
      "Initial capacity: 3\n",
      "Capacity after four additions: 5\n",
      "Current capacity: 5\n",
      "Current capacity: 7\n",
      "Current capacity: 9\n",
      "First element: 1\n",
      "Last element: 12\n",
      "Vector contains 3.\n",
      "\n",
      "Elements in vector:\n",
      "1 2 3 4 5.45 6.08 7 9.4 10 11 12 \n"
     ]
    }
   ],
   "source": [
    "VectorDemo.main();"
   ]
  },
  {
   "cell_type": "markdown",
   "metadata": {},
   "source": [
    "## Java Stack 类\n",
    "栈是Vector的一个子类，它实现了一个标准的后进先出的栈。\n",
    "\n",
    "堆栈只定义了默认构造函数，用来创建一个空栈。 堆栈除了包括由Vector定义的所有方法，也定义了自己的一些方法。\n",
    "```java\n",
    "Stack()\n",
    "```"
   ]
  },
  {
   "cell_type": "markdown",
   "metadata": {},
   "source": [
    "**除了由Vector定义的所有方法，自己也定义了一些方法：**\n",
    "\n",
    "| 序号 | 方法                        | 描述                                             |\n",
    "| :--- | :-------------------------- | :----------------------------------------------- |\n",
    "| 1    | boolean empty()             | 测试堆栈是否为空。                               |\n",
    "| 2    | Object peek( )              | 查看堆栈顶部的对象，但不从堆栈中移除它。         |\n",
    "| 3    | Object pop( )               | 移除堆栈顶部的对象，并作为此函数的值返回该对象。 |\n",
    "| 4    | Object push(Object element) | 把项压入堆栈顶部。                               |\n",
    "| 5    | int search(Object element)  | 返回对象在堆栈中的位置，以 1 为基数。            |"
   ]
  },
  {
   "cell_type": "code",
   "execution_count": 12,
   "metadata": {
    "ExecuteTime": {
     "end_time": "2020-11-05T08:01+0000",
     "start_time": "2020-11-05T08:01:31.639Z"
    }
   },
   "outputs": [],
   "source": [
    "//import java.util.*;"
   ]
  },
  {
   "cell_type": "code",
   "execution_count": null,
   "metadata": {
    "ExecuteTime": {
     "end_time": "2020-11-05T08:01+0000",
     "start_time": "2020-11-05T08:01:10.031Z"
    }
   },
   "outputs": [],
   "source": [
    "public class StackDemo {\n",
    " \n",
    "    static void showpush(Stack<Integer> st, int a) {\n",
    "        st.push(new Integer(a));\n",
    "        System.out.println(\"push(\" + a + \")\");\n",
    "        System.out.println(\"stack: \" + st);\n",
    "    }\n",
    " \n",
    "    static void showpop(Stack<Integer> st) {\n",
    "        System.out.print(\"pop -> \");\n",
    "        Integer a = (Integer) st.pop();\n",
    "        System.out.println(a);\n",
    "        System.out.println(\"stack: \" + st);\n",
    "    }\n",
    " \n",
    "    public static void main() {\n",
    "        Stack<Integer> st = new Stack<Integer>();\n",
    "        System.out.println(\"stack: \" + st);\n",
    "        showpush(st, 42);\n",
    "        showpush(st, 66);\n",
    "        showpush(st, 99);\n",
    "        showpop(st);\n",
    "        showpop(st);\n",
    "        showpop(st);\n",
    "        try {\n",
    "            showpop(st);\n",
    "        } catch (EmptyStackException e) {\n",
    "            System.out.println(\"empty stack\");\n",
    "        }\n",
    "    }\n",
    "}"
   ]
  },
  {
   "cell_type": "code",
   "execution_count": 11,
   "metadata": {
    "ExecuteTime": {
     "end_time": "2020-11-05T08:01+0000",
     "start_time": "2020-11-05T08:01:19.383Z"
    },
    "scrolled": true
   },
   "outputs": [
    {
     "name": "stdout",
     "output_type": "stream",
     "text": [
      "stack: []\n",
      "push(42)\n",
      "stack: [42]\n",
      "push(66)\n",
      "stack: [42, 66]\n",
      "push(99)\n",
      "stack: [42, 66, 99]\n",
      "pop -> 99\n",
      "stack: [42, 66]\n",
      "pop -> 66\n",
      "stack: [42]\n",
      "pop -> 42\n",
      "stack: []\n",
      "pop -> empty stack\n"
     ]
    }
   ],
   "source": [
    "StackDemo.main();"
   ]
  },
  {
   "cell_type": "markdown",
   "metadata": {},
   "source": [
    "## Java Dictionary 类\n",
    "Dictionary 类是一个抽象类，用来存储键/值对，作用和Map类相似。\n",
    "\n",
    "给出键和值，你就可以将值存储在Dictionary对象中。一旦该值被存储，就可以通过它的键来获取它。所以和Map一样， Dictionary 也可以作为一个键/值对列表。"
   ]
  },
  {
   "cell_type": "markdown",
   "metadata": {},
   "source": [
    "### Dictionary定义的抽象方法如下表所示：\n",
    "\n",
    "| **序号** | **方法**                                 | 描述                                              |\n",
    "| :------- |:---------------------------------------- | :------------------------------------------------ |\n",
    "| 1        | Enumeration elements( )              | 返回此 dictionary 中值的枚举。                    |\n",
    "| 2        | Object get(Object key)               | 返回此 dictionary 中该键所映射到的值。            |\n",
    "| 3        | boolean isEmpty( )                   | 测试此 dictionary 是否不存在从键到值的映射。      |\n",
    "| 4        | Enumeration keys( )                  | 返回此 dictionary 中的键的枚举。                  |\n",
    "| 5        | Object put(Object key, Object value) | 将指定 key 映射到此 dictionary 中指定 value。     |\n",
    "| 6        | Object remove(Object key)            | 从此 dictionary 中移除 key （及其相应的 value）。 |\n",
    "| 7        | int size( )                          | 返回此 dictionary 中条目（不同键）的数量。        |\n",
    "\n",
    "Dictionary类已经过时了。在实际开发中，你可以实现[Map接口](https://www.runoob.com/java/java-map-interface.html)来获取键/值的存储功能。"
   ]
  },
  {
   "cell_type": "markdown",
   "metadata": {},
   "source": [
    "### Java Map 接口\n",
    "Map 接口中键和值一一映射. 可以通过键来获取值。\n",
    "\n",
    "- 给定一个键和一个值，你可以将该值存储在一个 Map 对象。之后，你可以通过键来访问对应的值。\n",
    "- 当访问的值不存在的时候，方法就会抛出一个 NoSuchElementException 异常。\n",
    "- 当对象的类型和 Map 里元素类型不兼容的时候，就会抛出一个 ClassCastException 异常。\n",
    "- 当在不允许使用 Null 对象的 Map 中使用 Null 对象，会抛出一个 NullPointerException 异常。\n",
    "- 当尝试修改一个只读的 Map 时，会抛出一个 UnsupportedOperationException 异常。"
   ]
  },
  {
   "cell_type": "markdown",
   "metadata": {},
   "source": [
    "| 序号 | 方法                            | 描述                                                         |\n",
    "| :--- | :------------------------------ | :----------------------------------------------------------- |\n",
    "| 1    | void clear( )                   | 从此映射中移除所有映射关系（可选操作）。                     |\n",
    "| 2    | boolean containsKey(Object k)   | 如果此映射包含指定键的映射关系，则返回 true。                |\n",
    "| 3    | boolean containsValue(Object v) | 如果此映射将一个或多个键映射到指定值，则返回 true。          |\n",
    "| 4    | Set entrySet( )                 | 返回此映射中包含的映射关系的 Set 视图。                      |\n",
    "| 5    | boolean equals(Object obj)      | 比较指定的对象与此映射是否相等。                             |\n",
    "| 6    | Object get(Object k)            | 返回指定键所映射的值；如果此映射不包含该键的映射关系，则返回 null。 |\n",
    "| 7    | int hashCode( )                 | 返回此映射的哈希码值。                                       |\n",
    "| 8    | boolean isEmpty( )              | 如果此映射未包含键-值映射关系，则返回 true。                 |\n",
    "| 9    | Set keySet( )                   | 返回此映射中包含的键的 Set 视图。                            |\n",
    "| 10   | Object put(Object k, Object v)  | 将指定的值与此映射中的指定键关联（可选操作）。               |\n",
    "| 11   | void putAll(Map m)              | 从指定映射中将所有映射关系复制到此映射中（可选操作）。       |\n",
    "| 12   | Object remove(Object k)         | 如果存在一个键的映射关系，则将其从此映射中移除（可选操作）。 |\n",
    "| 13   | int size( )                     | 返回此映射中的键-值映射关系数。                              |\n",
    "| 14   | Collection values( )            | 返回此映射中包含的值的 Collection 视图。                     |"
   ]
  },
  {
   "cell_type": "code",
   "execution_count": 13,
   "metadata": {
    "ExecuteTime": {
     "end_time": "2020-11-05T08:18+0000",
     "start_time": "2020-11-05T08:18:44.243Z"
    }
   },
   "outputs": [],
   "source": [
    "//import java.util.*;"
   ]
  },
  {
   "cell_type": "code",
   "execution_count": 16,
   "metadata": {
    "ExecuteTime": {
     "end_time": "2020-11-05T08:19+0000",
     "start_time": "2020-11-05T08:19:50.889Z"
    }
   },
   "outputs": [],
   "source": [
    "public class CollectionsDemo {\n",
    "\n",
    "   public static void main() {\n",
    "      Map m1 = new HashMap(); \n",
    "      m1.put(\"Zara\", \"8\");\n",
    "      m1.put(\"Mahnaz\", \"31\");\n",
    "      m1.put(\"Ayan\", \"12\");\n",
    "      m1.put(\"Daisy\", \"14\");\n",
    "      System.out.println(\" Map Elements\");\n",
    "      System.out.print(\"\\t\" + m1);\n",
    "   }\n",
    "}"
   ]
  },
  {
   "cell_type": "code",
   "execution_count": 17,
   "metadata": {
    "ExecuteTime": {
     "end_time": "2020-11-05T08:19+0000",
     "start_time": "2020-11-05T08:19:52.686Z"
    }
   },
   "outputs": [
    {
     "name": "stdout",
     "output_type": "stream",
     "text": [
      " Map Elements\n",
      "\t{Daisy=14, Ayan=12, Zara=8, Mahnaz=31}"
     ]
    }
   ],
   "source": [
    "CollectionsDemo.main();"
   ]
  },
  {
   "cell_type": "markdown",
   "metadata": {},
   "source": [
    "## Java Hashtable 类\n",
    "Hashtable是原始的java.util的一部分， 是一个Dictionary具体的实现 。\n",
    "\n",
    "然而，Java 2 重构的Hashtable实现了Map接口，因此，Hashtable现在集成到了集合框架中。它和HashMap类很相似，但是它支持同步。\n",
    "\n",
    "像HashMap一样，Hashtable在哈希表中存储键/值对。当使用一个哈希表，要指定用作键的对象，以及要链接到该键的值。\n",
    "\n",
    "然后，该键经过哈希处理，所得到的散列码被用作存储在该表中值的索引。\n",
    "\n",
    "Hashtable定义了四个构造方法。第一个是默认构造方法：\n",
    "```java\n",
    "Hashtable()\n",
    "```\n",
    "第二个构造函数创建指定大小的哈希表：\n",
    "```java\n",
    "Hashtable(int size)\n",
    "```\n",
    "第三个构造方法创建了一个指定大小的哈希表，并且通过fillRatio指定填充比例。\n",
    "\n",
    "填充比例必须介于0.0和1.0之间，它决定了哈希表在重新调整大小之前的充满程度：\n",
    "```java\n",
    "Hashtable(int size,float fillRatio)\n",
    "```\n",
    "第四个构造方法创建了一个以M中元素为初始化元素的哈希表。\n",
    "\n",
    "哈希表的容量被设置为M的两倍。\n",
    "```java\n",
    "Hashtable(Map m)\n",
    "```"
   ]
  },
  {
   "cell_type": "markdown",
   "metadata": {},
   "source": [
    "### Hashtable中除了从Map接口中定义的方法外，还定义了以下方法：\n",
    "\n",
    "| **序号** | **方法**                                 | 描述                                                         |\n",
    "| :------- | :--------------------------------------- | :----------------------------------------------------------- |\n",
    "| 1        | **void clear( )**                        | 将此哈希表清空，使其不包含任何键。                           |\n",
    "| 2        | **Object clone( )**                      | 创建此哈希表的浅表副本。                                     |\n",
    "| 3        | **boolean contains(Object value)**       | 测试此映射表中是否存在与指定值关联的键。                     |\n",
    "| 4        | **boolean containsKey(Object key)**      | 测试指定对象是否为此哈希表中的键。                           |\n",
    "| 5        | **boolean containsValue(Object value)**  | 如果此 Hashtable 将一个或多个键映射到此值，则返回 true。     |\n",
    "| 6        | **Enumeration elements( )**              | 返回此哈希表中的值的枚举。                                   |\n",
    "| 7        | **Object get(Object key)**               | 返回指定键所映射到的值，如果此映射不包含此键的映射，则返回 null. 更确切地讲，如果此映射包含满足 (key.equals(k)) 的从键 k 到值 v 的映射，则此方法返回 v；否则，返回 null。 |\n",
    "| 8        | **boolean isEmpty( )**                   | 测试此哈希表是否没有键映射到值。                             |\n",
    "| 9        | **Enumeration keys( )**                  | 返回此哈希表中的键的枚举。                                   |\n",
    "| 10       | **Object put(Object key, Object value)** | 将指定 key 映射到此哈希表中的指定 value。                    |\n",
    "| 11       | **void rehash( )**                       | 增加此哈希表的容量并在内部对其进行重组，以便更有效地容纳和访问其元素。 |\n",
    "| 12       | **Object remove(Object key)**            | 从哈希表中移除该键及其相应的值。                             |\n",
    "| 13       | **int size( )**                          | 返回此哈希表中的键的数量。                                   |\n",
    "| 14       | **String toString( )**                   | 返回此 Hashtable 对象的字符串表示形式，其形式为 ASCII 字符 \", \" （逗号加空格）分隔开的、括在括号中的一组条目。 |"
   ]
  },
  {
   "cell_type": "code",
   "execution_count": 19,
   "metadata": {
    "ExecuteTime": {
     "end_time": "2020-11-05T08:29+0000",
     "start_time": "2020-11-05T08:29:03.929Z"
    }
   },
   "outputs": [],
   "source": [
    "//import java.util.*;"
   ]
  },
  {
   "cell_type": "code",
   "execution_count": 18,
   "metadata": {
    "ExecuteTime": {
     "end_time": "2020-11-05T08:28+0000",
     "start_time": "2020-11-05T08:28:53.048Z"
    }
   },
   "outputs": [],
   "source": [
    "public class HashTableDemo {\n",
    "\n",
    "   public static void main() {\n",
    "      // Create a hash map\n",
    "      Hashtable balance = new Hashtable();\n",
    "      Enumeration names;\n",
    "      String str;\n",
    "      double bal;\n",
    "\n",
    "      balance.put(\"Zara\", new Double(3434.34));\n",
    "      balance.put(\"Mahnaz\", new Double(123.22));\n",
    "      balance.put(\"Ayan\", new Double(1378.00));\n",
    "      balance.put(\"Daisy\", new Double(99.22));\n",
    "      balance.put(\"Qadir\", new Double(-19.08));\n",
    "\n",
    "      // Show all balances in hash table.\n",
    "      names = balance.keys();\n",
    "      while(names.hasMoreElements()) {\n",
    "         str = (String) names.nextElement();\n",
    "         System.out.println(str + \": \" +\n",
    "         balance.get(str));\n",
    "      }\n",
    "      System.out.println();\n",
    "      // Deposit 1,000 into Zara's account\n",
    "      bal = ((Double)balance.get(\"Zara\")).doubleValue();\n",
    "      balance.put(\"Zara\", new Double(bal+1000));\n",
    "      System.out.println(\"Zara's new balance: \" +\n",
    "      balance.get(\"Zara\"));\n",
    "   }\n",
    "}"
   ]
  },
  {
   "cell_type": "markdown",
   "metadata": {},
   "source": [
    "## Java Properties 类\n",
    "Properties 继承于 Hashtable.表示一个持久的属性集.属性列表中每个键及其对应值都是一个字符串。\n",
    "\n",
    "Properties 类被许多Java类使用。例如，在获取环境变量时它就作为System.getProperties()方法的返回值。\n",
    "\n",
    "Properties 定义如下实例变量.这个变量持有一个Properties对象相关的默认属性列表。\n",
    "```java\n",
    "Properties defaults;\n",
    "```\n",
    "Properties类定义了两个构造方法. 第一个构造方法没有默认值。\n",
    "```java\n",
    "Properties()\n",
    "```\n",
    "第二个构造方法使用propDefault 作为默认值。两种情况下，属性列表都为空：\n",
    "```java\n",
    "Properties(Properties propDefault)\n",
    "```"
   ]
  },
  {
   "cell_type": "markdown",
   "metadata": {},
   "source": [
    "### 除了从Hashtable中所定义的方法，Properties定义了以下方法：\n",
    "\n",
    "| **序号** | **方法**                                                   | 描述                                                         |\n",
    "| :------- | :--------------------------------------------------------- | :----------------------------------------------------------- |\n",
    "| 1        | **String getProperty(String key)**                         | 用指定的键在此属性列表中搜索属性。                           |\n",
    "| 2        | **String getProperty(String key, String defaultProperty)** | 用指定的键在属性列表中搜索属性。                             |\n",
    "| 3        | **void list(PrintStream streamOut)**                       | 将属性列表输出到指定的输出流。                               |\n",
    "| 4        | **void list(PrintWriter streamOut)**                       | 将属性列表输出到指定的输出流。                               |\n",
    "| 5        | **void load(InputStream streamIn) throws IOException**     | 从输入流中读取属性列表（键和元素对）。                       |\n",
    "| 6        | **Enumeration propertyNames( )**                           | 按简单的面向行的格式从输入字符流中读取属性列表（键和元素对）。 |\n",
    "| 7        | **Object setProperty(String key, String value)**           | 调用 Hashtable 的方法 put。                                  |\n",
    "| 8        | **void store(OutputStream streamOut, String description)** | 以适合使用 load(InputStream)方法加载到 Properties 表中的格式，将此 Properties 表中的属性列表（键和元素对）写入输出流。 |"
   ]
  },
  {
   "cell_type": "code",
   "execution_count": 21,
   "metadata": {
    "ExecuteTime": {
     "end_time": "2020-11-05T08:53+0000",
     "start_time": "2020-11-05T08:53:38.007Z"
    }
   },
   "outputs": [],
   "source": [
    "//import java.util.*;"
   ]
  },
  {
   "cell_type": "code",
   "execution_count": 20,
   "metadata": {
    "ExecuteTime": {
     "end_time": "2020-11-05T08:53+0000",
     "start_time": "2020-11-05T08:53:28.228Z"
    }
   },
   "outputs": [],
   "source": [
    "public class PropDemo {\n",
    " \n",
    "   public static void main() {\n",
    "      Properties capitals = new Properties();\n",
    "      Set states;\n",
    "      String str;\n",
    "      \n",
    "      capitals.put(\"Illinois\", \"Springfield\");\n",
    "      capitals.put(\"Missouri\", \"Jefferson City\");\n",
    "      capitals.put(\"Washington\", \"Olympia\");\n",
    "      capitals.put(\"California\", \"Sacramento\");\n",
    "      capitals.put(\"Indiana\", \"Indianapolis\");\n",
    " \n",
    "      // Show all states and capitals in hashtable.\n",
    "      states = capitals.keySet(); // get set-view of keys\n",
    "      Iterator itr = states.iterator();\n",
    "      while(itr.hasNext()) {\n",
    "         str = (String) itr.next();\n",
    "         System.out.println(\"The capital of \" +\n",
    "            str + \" is \" + capitals.getProperty(str) + \".\");\n",
    "      }\n",
    "      System.out.println();\n",
    " \n",
    "      // look for state not in list -- specify default\n",
    "      str = capitals.getProperty(\"Florida\", \"Not Found\");\n",
    "      System.out.println(\"The capital of Florida is \"\n",
    "          + str + \".\");\n",
    "   }\n",
    "}"
   ]
  },
  {
   "cell_type": "code",
   "execution_count": 22,
   "metadata": {
    "ExecuteTime": {
     "end_time": "2020-11-05T08:53+0000",
     "start_time": "2020-11-05T08:53:47.232Z"
    }
   },
   "outputs": [
    {
     "name": "stdout",
     "output_type": "stream",
     "text": [
      "The capital of Indiana is Indianapolis.\n",
      "The capital of Illinois is Springfield.\n",
      "The capital of Missouri is Jefferson City.\n",
      "The capital of California is Sacramento.\n",
      "The capital of Washington is Olympia.\n",
      "\n",
      "The capital of Florida is Not Found.\n"
     ]
    }
   ],
   "source": [
    "PropDemo.main();"
   ]
  },
  {
   "cell_type": "markdown",
   "metadata": {},
   "source": [
    "## 迭代器 iterator 用法\n",
    "Java 中的 Iterator 功能比较简单，并且只能单向移动：\n",
    "\n",
    " - (1) 使用方法 iterator() 要求容器返回一个 Iterator。第一次调用 Iterator 的 next() 方法时，它返回序列的第一个元素。注意：iterator() 方法是 java.lang.Iterable 接口,被 Collection 继承。\n",
    " - (2) 使用 next() 获得序列中的下一个元素。\n",
    " - (3) 使用 hasNext() 检查序列中是否还有元素。\n",
    " - (4) 使用 remove() 将迭代器新返回的元素删除。"
   ]
  }
 ],
 "metadata": {
  "kernelspec": {
   "display_name": "Java",
   "language": "java",
   "name": "java"
  },
  "language_info": {
   "codemirror_mode": "java",
   "file_extension": ".jshell",
   "mimetype": "text/x-java-source",
   "name": "Java",
   "pygments_lexer": "java",
   "version": "11.0.8+10-post-Ubuntu-0ubuntu120.04"
  },
  "toc": {
   "base_numbering": 1,
   "nav_menu": {},
   "number_sections": true,
   "sideBar": true,
   "skip_h1_title": false,
   "title_cell": "Table of Contents",
   "title_sidebar": "Contents",
   "toc_cell": false,
   "toc_position": {
    "height": "calc(100% - 180px)",
    "left": "10px",
    "top": "150px",
    "width": "306.875px"
   },
   "toc_section_display": true,
   "toc_window_display": true
  },
  "varInspector": {
   "cols": {
    "lenName": 16,
    "lenType": 16,
    "lenVar": 40
   },
   "kernels_config": {
    "python": {
     "delete_cmd_postfix": "",
     "delete_cmd_prefix": "del ",
     "library": "var_list.py",
     "varRefreshCmd": "print(var_dic_list())"
    },
    "r": {
     "delete_cmd_postfix": ") ",
     "delete_cmd_prefix": "rm(",
     "library": "var_list.r",
     "varRefreshCmd": "cat(var_dic_list()) "
    }
   },
   "types_to_exclude": [
    "module",
    "function",
    "builtin_function_or_method",
    "instance",
    "_Feature"
   ],
   "window_display": false
  }
 },
 "nbformat": 4,
 "nbformat_minor": 4
}
