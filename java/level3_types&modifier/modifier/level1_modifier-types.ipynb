{
 "cells": [
  {
   "cell_type": "markdown",
   "metadata": {},
   "source": [
    "# Java 修饰符\n",
    "Java语言提供了很多修饰符，主要分为以下两类：\n",
    "- 访问修饰符\n",
    "- 非访问修饰符\n",
    "\n",
    "修饰符用来定义类、方法或者变量，通常放在语句的最前端。"
   ]
  },
  {
   "cell_type": "markdown",
   "metadata": {},
   "source": [
    "## 访问控制修饰符\n",
    "Java中，可以使用访问控制符来保护对类、变量、方法和构造方法的访问。Java 支持 4 种不同的访问权限。\n",
    "\n",
    "- **default** (即默认，什么也不写）: 在同一包内可见，不使用任何修饰符。使用对象：类、接口、变量、方法。\n",
    "- **private** : 在同一类内可见。使用对象：变量、方法。 **注意：不能修饰类（外部类）**\n",
    "- **public** : 对所有类可见。使用对象：类、接口、变量、方法\n",
    "- **protected** : 对同一包内的类和所有子类可见。使用对象：变量、方法。 **注意：不能修饰类（外部类）**"
   ]
  },
  {
   "cell_type": "markdown",
   "metadata": {},
   "source": [
    "访问权限说明：\n",
    "\n",
    "**<center>访问控制</center>**\n",
    "\n",
    "|修饰符|\t当前类|\t同一包内|\t子孙类(同一包)|\t子孙类(不同包)|\t其他包|\n",
    "|:--|:--|:--|:--|:--|:--|\n",
    "|public|\tY|\tY|\tY|\tY|\tY|\n",
    "|protected|\tY|\tY|\tY|\tY/N（说明）|\tN|\n",
    "|default|\tY|\tY|\tY|\tN|\tN|\n",
    "|private|\tY|\tN|\tN|\tN|\tN|\n",
    "\n",
    "protected 需要从以下两个点来分析说明：\n",
    "- **子类与基类在同一包中**：被声明为 protected 的变量、方法和构造器能被同一个包中的任何其他类访问；\n",
    "- **子类与基类不在同一包中**：那么在子类中，子类实例可以访问其从基类继承而来的 protected 方法，而不能访问基类实例的protected方法。"
   ]
  },
  {
   "cell_type": "markdown",
   "metadata": {},
   "source": [
    "### 默认访问修饰符-不使用任何关键字\n",
    "使用默认访问修饰符声明的变量和方法，对同一个包内的类是可见的。\n",
    "\n",
    "接口里的变量都隐式声明为 `public static final`，而接口里的方法默认情况下访问权限为 `public`。"
   ]
  },
  {
   "cell_type": "markdown",
   "metadata": {},
   "source": [
    "### 私有访问修饰符-private\n",
    "\n",
    "私有访问修饰符是最严格的访问级别，所以被声明为 **private** 的方法、变量和构造方法只能被所属类访问，并且类和接口不能声明为 **private**。\n",
    "\n",
    "声明为私有访问类型的变量只能通过类中公共的 getter 方法被外部类访问。\n",
    "\n",
    "private 访问修饰符的使用主要用来隐藏类的实现细节和保护类的数据。"
   ]
  },
  {
   "cell_type": "markdown",
   "metadata": {},
   "source": [
    "### 公有访问修饰符-public\n",
    "被声明为 public 的类、方法、构造方法和接口能够被任何其他类访问。\n",
    "\n",
    "如果几个相互访问的 public 类分布在不同的包中，则需要导入相应 public 类所在的包。由于类的继承性，类所有的公有方法和变量都能被其子类继承。"
   ]
  },
  {
   "cell_type": "markdown",
   "metadata": {},
   "source": [
    "#### 补充：public static void main(String[] arguments)\n",
    "Java 程序的 main() 方法必须设置成公有的，否则，Java 解释器将不能运行该类。"
   ]
  },
  {
   "cell_type": "markdown",
   "metadata": {},
   "source": [
    "### 受保护的访问修饰符-protected\n",
    "protected 需要从以下两个点来分析说明：\n",
    "\n",
    "- **子类与基类在同一包中**：被声明为 protected 的变量、方法和构造器能被同一个包中的任何其他类访问；\n",
    "- **子类与基类不在同一包中**：那么在子类中，子类实例可以访问其从基类继承而来的 protected 方法，而不能访问基类实例的protected方法。\n",
    "\n",
    "protected 可以修饰数据成员，构造方法，方法成员，**不能修饰类（内部类除外）**。\n",
    "\n",
    "接口及接口的成员变量和成员方法不能声明为 protected。\n",
    "\n",
    "子类能访问 protected 修饰符声明的方法和变量，这样就能保护不相关的类使用这些方法和变量。"
   ]
  },
  {
   "cell_type": "markdown",
   "metadata": {},
   "source": [
    "### 访问控制和继承\n",
    "请注意以下方法继承的规则：\n",
    "- 父类中声明为 public 的方法在子类中也必须为 public。\n",
    "- 父类中声明为 protected 的方法在子类中要么声明为 protected，要么声明为 public，不能声明为 private。\n",
    "- 父类中声明为 private 的方法，不能够被继承。"
   ]
  },
  {
   "cell_type": "markdown",
   "metadata": {},
   "source": [
    "## 非访问修饰符\n",
    "为了实现一些其他的功能，Java 也提供了许多非访问修饰符。\n",
    "- **static 修饰符**，用来修饰类方法和类变量。\n",
    "- **final 修饰符**，用来修饰类、方法和变量，final 修饰的类不能够被继承，修饰的方法不能被继承类重新定义，修饰的变量为常量，是不可修改的。\n",
    "- **abstract 修饰符**，用来创建抽象类和抽象方法。\n",
    "- **synchronized 和 volatile 修饰符**，主要用于线程的编程。"
   ]
  },
  {
   "cell_type": "markdown",
   "metadata": {},
   "source": [
    "### static 修饰符\n",
    "- **静态变量：**\n",
    "static 关键字用来声明独立于对象的静态变量，无论一个类实例化多少对象，它的静态变量只有一份拷贝。 静态变量也被称为类变量。局部变量不能被声明为 static 变量。\n",
    "\n",
    "- **静态方法：**\n",
    "static 关键字用来声明独立于对象的静态方法。静态方法不能使用类的非静态变量。静态方法从参数列表得到数据，然后计算这些数据。\n",
    "\n",
    "对类变量和方法的访问可以直接使用 **Classname.variablename** 和 **Classname.methodname** 的方式访问。"
   ]
  },
  {
   "cell_type": "code",
   "execution_count": 1,
   "metadata": {},
   "outputs": [
    {
     "name": "stdout",
     "output_type": "stream",
     "text": [
      "Starting with 0 instances\n",
      "Created 500 instances\n"
     ]
    }
   ],
   "source": [
    "public class InstanceCounter {\n",
    "   private static int numInstances = 0;\n",
    "   protected static int getCount() {\n",
    "      return numInstances;\n",
    "   }\n",
    " \n",
    "   private static void addInstance() {\n",
    "      numInstances++;\n",
    "   }\n",
    " \n",
    "   InstanceCounter() {\n",
    "      InstanceCounter.addInstance();\n",
    "   }\n",
    "}\n",
    "\n",
    "System.out.println(\"Starting with \" +\n",
    "InstanceCounter.getCount() + \" instances\");\n",
    "for (int i = 0; i < 500; ++i){\n",
    "    new InstanceCounter();\n",
    "}\n",
    "System.out.println(\"Created \" +\n",
    "InstanceCounter.getCount() + \" instances\");"
   ]
  },
  {
   "cell_type": "markdown",
   "metadata": {},
   "source": [
    "### final 修饰符\n",
    "**final 变量：**\n",
    "\n",
    "final 表示\"最后的、最终的\"含义，变量一旦赋值后，不能被重新赋值。被 final 修饰的实例变量必须显式指定初始值。\n",
    "\n",
    "final 修饰符通常和 static 修饰符一起使用来创建类常量。"
   ]
  },
  {
   "cell_type": "code",
   "execution_count": 5,
   "metadata": {},
   "outputs": [
    {
     "name": "stdout",
     "output_type": "stream",
     "text": [
      "6\n",
      "Manager\n"
     ]
    }
   ],
   "source": [
    "public class Test{\n",
    "    final int value = 10;\n",
    "    // 下面是声明常量的实例\n",
    "    public static final int BOXWIDTH = 6;\n",
    "    static final String TITLE = \"Manager\";\n",
    "\n",
    "    public void changeValue(){\n",
    "     //value = 12; //将输出一个错误\n",
    "    }\n",
    "}\n",
    "\n",
    "System.out.println(Test.BOXWIDTH);\n",
    "System.out.println(Test.TITLE);"
   ]
  },
  {
   "cell_type": "markdown",
   "metadata": {},
   "source": [
    "**final 方法:**\n",
    "\n",
    "父类中的 final 方法可以被子类继承，但是不能被子类重写。   \n",
    "声明 final 方法的主要目的是防止该方法的内容被修改。"
   ]
  },
  {
   "cell_type": "markdown",
   "metadata": {},
   "source": [
    "**final 类:**\n",
    "\n",
    "final 类不能被继承，没有类能够继承 final 类的任何特性。"
   ]
  },
  {
   "cell_type": "markdown",
   "metadata": {},
   "source": [
    "### abstract 修饰符\n",
    "**抽象类：**\n",
    "\n",
    "抽象类不能用来实例化对象，声明抽象类的唯一目的是为了将来对该类进行扩充。\n",
    "\n",
    "一个类不能同时被 abstract 和 final 修饰。如果一个类包含抽象方法，那么该类一定要声明为抽象类，否则将出现编译错误。\n",
    "\n",
    "抽象类可以包含抽象方法和非抽象方法。"
   ]
  },
  {
   "cell_type": "code",
   "execution_count": 7,
   "metadata": {},
   "outputs": [],
   "source": [
    "abstract class Caravan{\n",
    "    private double price;\n",
    "    private String model;\n",
    "    private String year;\n",
    "    public abstract void goFast(); //抽象方法\n",
    "    public abstract void changeColor();\n",
    "}"
   ]
  },
  {
   "cell_type": "markdown",
   "metadata": {},
   "source": [
    "**抽象方法**\n",
    "\n",
    "抽象方法是一种没有任何实现的方法，该方法的的具体实现由子类提供。\n",
    "\n",
    "抽象方法不能被声明成 final 和 static。\n",
    "\n",
    "任何继承抽象类的子类必须实现父类的所有抽象方法，除非该子类也是抽象类。\n",
    "\n",
    "如果一个类包含若干个抽象方法，那么该类必须声明为抽象类。抽象类可以不包含抽象方法。\n",
    "\n",
    "抽象方法的声明以分号结尾，例如：**public abstract sample();**。"
   ]
  },
  {
   "cell_type": "code",
   "execution_count": 8,
   "metadata": {},
   "outputs": [],
   "source": [
    "public abstract class SuperClass{\n",
    "    abstract void m(); //抽象方法\n",
    "}\n",
    " \n",
    "class SubClass extends SuperClass{\n",
    "     //实现抽象方法\n",
    "      void m(){\n",
    "          //.........\n",
    "      }\n",
    "}"
   ]
  },
  {
   "cell_type": "markdown",
   "metadata": {},
   "source": [
    "### synchronized 修饰符(?)\n",
    "synchronized 关键字声明的方法同一时间只能被一个线程访问。synchronized 修饰符可以应用于四个访问修饰符。"
   ]
  },
  {
   "cell_type": "code",
   "execution_count": 11,
   "metadata": {},
   "outputs": [],
   "source": [
    "public class Test{\n",
    "    public synchronized void showDetails(){\n",
    "        //.......\n",
    "    }\n",
    "}"
   ]
  },
  {
   "cell_type": "markdown",
   "metadata": {},
   "source": [
    "### transient 修饰符(?)\n",
    "序列化的对象包含被 transient 修饰的实例变量时，java 虚拟机(JVM)跳过该特定的变量。\n",
    "\n",
    "该修饰符包含在定义变量的语句中，用来预处理类和变量的数据类型。"
   ]
  },
  {
   "cell_type": "code",
   "execution_count": 12,
   "metadata": {},
   "outputs": [],
   "source": [
    "public transient int limit = 55;   // 不会持久化\n",
    "public int b; // 持久化"
   ]
  },
  {
   "cell_type": "markdown",
   "metadata": {},
   "source": [
    "当对象被序列化时（写入字节序列到目标文件）时，transient阻止实例中那些用此关键字声明的变量持久化；当对象被反序列化时（从源文件读取字节序列进行重构），这样的实例变量值不会被持久化和恢复。"
   ]
  },
  {
   "cell_type": "code",
   "execution_count": 3,
   "metadata": {},
   "outputs": [
    {
     "name": "stdout",
     "output_type": "stream",
     "text": [
      "姓名 = 李雷 ,年龄 = 30\n",
      "姓名 = 李雷 ,年龄 = null\n"
     ]
    }
   ],
   "source": [
    "import java.io.FileInputStream;\n",
    "import java.io.FileOutputStream;\n",
    "import java.io.ObjectInputStream;\n",
    "import java.io.ObjectOutputStream;\n",
    "import java.io.Serializable;\n",
    "\n",
    "//定义一个需要序列化的类\n",
    "\n",
    "class People implements Serializable{\n",
    "    String name; //姓名\n",
    "    transient Integer age; //年龄\n",
    "    public People(String name,int age){\n",
    "        this.name = name;\n",
    "        this.age = age;\n",
    "    }\n",
    "\n",
    "    public String toString(){\n",
    "        return \"姓名 = \"+name+\" ,年龄 = \"+age;\n",
    "    }\n",
    "\n",
    "}\n",
    "\n",
    "People a = new People(\"李雷\",30);\n",
    "System.out.println(a); //打印对象的值\n",
    "ObjectOutputStream os = new ObjectOutputStream(new FileOutputStream(\"./people.txt\"));\n",
    "os.writeObject(a);//写入文件(序列化)\n",
    "os.close();\n",
    "ObjectInputStream is = new ObjectInputStream(new FileInputStream(\"./people.txt\"));\n",
    "a = (People)is.readObject();//将文件数据转换为对象（反序列化）\n",
    "System.out.println(a); // 年龄 数据未定义\n",
    "is.close();"
   ]
  },
  {
   "cell_type": "markdown",
   "metadata": {},
   "source": [
    "### volatile 修饰符(?)\n",
    "volatile 修饰的成员变量在每次被线程访问时，都强制从共享内存中重新读取该成员变量的值。而且，当成员变量发生变化时，会强制线程将变化值回写到共享内存。这样在任何时刻，两个不同的线程总是看到某个成员变量的同一个值。\n",
    "\n",
    "一个 volatile 对象引用可能是 null。"
   ]
  },
  {
   "cell_type": "code",
   "execution_count": 13,
   "metadata": {},
   "outputs": [],
   "source": [
    "public class MyRunnable implements Runnable\n",
    "{\n",
    "    private volatile boolean active;\n",
    "    public void run()\n",
    "    {\n",
    "        active = true;\n",
    "        while (active) // 第一行\n",
    "        {\n",
    "            // 代码\n",
    "        }\n",
    "    }\n",
    "    public void stop()\n",
    "    {\n",
    "        active = false; // 第二行\n",
    "    }\n",
    "}"
   ]
  },
  {
   "cell_type": "markdown",
   "metadata": {},
   "source": [
    "通常情况下，在一个线程调用 run() 方法（在 Runnable 开启的线程），在另一个线程调用 stop() 方法。 如果 第一行 中缓冲区的 active 值被使用，那么在 第二行 的 active 值为 false 时循环不会停止。\n",
    "\n",
    "但是以上代码中我们使用了 volatile 修饰 active，所以该循环会停止。"
   ]
  }
 ],
 "metadata": {
  "kernelspec": {
   "display_name": "Java",
   "language": "java",
   "name": "java"
  },
  "language_info": {
   "codemirror_mode": "java",
   "file_extension": ".jshell",
   "mimetype": "text/x-java-source",
   "name": "Java",
   "pygments_lexer": "java",
   "version": "11.0.8+10-post-Ubuntu-0ubuntu120.04"
  },
  "toc": {
   "base_numbering": 1,
   "nav_menu": {},
   "number_sections": true,
   "sideBar": true,
   "skip_h1_title": false,
   "title_cell": "Table of Contents",
   "title_sidebar": "Contents",
   "toc_cell": false,
   "toc_position": {
    "height": "calc(100% - 180px)",
    "left": "10px",
    "top": "150px",
    "width": "256.95px"
   },
   "toc_section_display": true,
   "toc_window_display": true
  }
 },
 "nbformat": 4,
 "nbformat_minor": 4
}
