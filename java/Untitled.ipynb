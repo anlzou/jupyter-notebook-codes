{
 "cells": [
  {
   "cell_type": "markdown",
   "metadata": {},
   "source": [
    "需要 maven 下载包"
   ]
  },
  {
   "cell_type": "code",
   "execution_count": 1,
   "metadata": {
    "scrolled": true
   },
   "outputs": [
    {
     "ename": "CompilationException",
     "evalue": "",
     "output_type": "error",
     "traceback": [
      "\u001b[1m\u001b[30m|   \u001b[1m\u001b[30mimport \u001b[0m\u001b[1m\u001b[30m\u001b[41mjavax.servlet.ServletException\u001b[0m\u001b[1m\u001b[30m;\u001b[0m",
      "\u001b[1m\u001b[31mpackage javax.servlet does not exist\u001b[0m",
      ""
     ]
    }
   ],
   "source": [
    "import java.io.IOException;\n",
    "import java.io.PrintWriter;\n",
    "import java.util.concurrent.Executor;\n",
    "import java.util.concurrent.Executors;\n",
    "\n",
    "import javax.servlet.ServletException;\n",
    "import javax.servlet.http.HttpServletRequest;\n",
    "import javax.servlet.http.HttpServletResponse;\n",
    "\n",
    "import org.eclipse.jetty.server.HttpConnectionFactory;\n",
    "import org.eclipse.jetty.server.NetworkTrafficServerConnector;\n",
    "import org.eclipse.jetty.server.Request;\n",
    "import org.eclipse.jetty.server.Server;\n",
    "import org.eclipse.jetty.server.ServerConnector;\n",
    "import org.eclipse.jetty.server.handler.AbstractHandler;\n",
    "import org.eclipse.jetty.server.handler.ContextHandler;\n",
    "import org.eclipse.jetty.server.handler.ContextHandlerCollection;\n",
    "import org.eclipse.jetty.util.thread.QueuedThreadPool;\n",
    "\n",
    "class BlockChainHandler extends AbstractHandler {\n",
    "\n",
    "\tprivate String name;\n",
    "\n",
    "\tpublic BlockChainHandler(String name) {\n",
    "\t\tthis.name = name;\n",
    "\t}\n",
    "\n",
    "\t@Override\n",
    "\tpublic void handle(String target, Request baseRequest, HttpServletRequest request, HttpServletResponse response)\n",
    "\t\t\tthrows IOException, ServletException {\n",
    "\t\tresponse.setContentType(\"text/html; charset=utf-8\");\n",
    "\t\tresponse.setStatus(HttpServletResponse.SC_OK);\n",
    "\t\tPrintWriter out = response.getWriter();\n",
    "\t\tout.printf(\"<h1>hello %s</h1>\", this.name);\n",
    "\t\tbaseRequest.setHandled(true);\n",
    "\t}\n",
    "\n",
    "}\n",
    "\n",
    "public class JettyHello {\n",
    "\n",
    "\tpublic static void main(String[] args) throws Exception {\n",
    "\t\tint w = 4; // worker threads\n",
    "\t\tint a = 1; // acceptor threads\n",
    "\t\tint s = 2; // selector threads\n",
    "\t\tQueuedThreadPool workers = new QueuedThreadPool(w);\n",
    "\t\tServer server = new Server(workers);\n",
    "\n",
    "\t\tExecutor executors = Executors.newFixedThreadPool(a + s);\n",
    "\t\tServerConnector connector = new NetworkTrafficServerConnector(server, executors, null, null, a, s,\n",
    "\t\t\t\tnew HttpConnectionFactory());\n",
    "\t\tconnector.setHost(\"127.0.0.1\");\n",
    "\t\tconnector.setPort(7777);\n",
    "\n",
    "\t\tserver.addConnector(connector);\n",
    "\n",
    "\t\tContextHandler btcHandler = new ContextHandler(\"/btc\");\n",
    "\t\tbtcHandler.setHandler(new BlockChainHandler(\"bitcoin\"));\n",
    "\n",
    "\t\tContextHandler ethHandler = new ContextHandler(\"/eth\");\n",
    "\t\tethHandler.setHandler(new BlockChainHandler(\"ethereum\"));\n",
    "\n",
    "\t\tContextHandlerCollection handlers = new ContextHandlerCollection();\n",
    "\t\thandlers.addHandler(btcHandler);\n",
    "\t\thandlers.addHandler(ethHandler);\n",
    "\n",
    "\t\tserver.setHandler(handlers);\n",
    "\n",
    "\t\tserver.start();\n",
    "\t\tserver.join();\n",
    "\n",
    "\t}\n",
    "\n",
    "}"
   ]
  }
 ],
 "metadata": {
  "kernelspec": {
   "display_name": "Java",
   "language": "java",
   "name": "java"
  },
  "language_info": {
   "codemirror_mode": "java",
   "file_extension": ".jshell",
   "mimetype": "text/x-java-source",
   "name": "Java",
   "pygments_lexer": "java",
   "version": "11.0.8+10-post-Ubuntu-0ubuntu120.04"
  }
 },
 "nbformat": 4,
 "nbformat_minor": 4
}
