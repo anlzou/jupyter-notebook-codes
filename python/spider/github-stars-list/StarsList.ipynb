{
 "cells": [
  {
   "cell_type": "code",
   "execution_count": 1,
   "metadata": {
    "ExecuteTime": {
     "end_time": "2020-08-31T20:51:18.572860Z",
     "start_time": "2020-08-31T20:51:18.394820Z"
    }
   },
   "outputs": [],
   "source": [
    "import requests\n",
    "from requests_html import HTMLSession"
   ]
  },
  {
   "cell_type": "code",
   "execution_count": 22,
   "metadata": {
    "ExecuteTime": {
     "end_time": "2020-09-01T08:03:33.796426Z",
     "start_time": "2020-09-01T08:03:14.681671Z"
    }
   },
   "outputs": [
    {
     "name": "stdout",
     "output_type": "stream",
     "text": [
      "['Productive & portable programming language for high-performance, sparse & differentiable computing']\n",
      "['A design system for building faithful recreations of old UIs']\n",
      "['CSS3奇思妙想，单标签实现各类图形', 'My websites']\n",
      "['\\n', ' 技术面试必备基础知识、Leetcode、计算机操作系统、计算机网络、系统设计、Java、Python、C++', '\\n', ' 互联网 Java 工程师进阶知识完全扫盲：涵盖高并发、分布式、高可用、微服务、海量数据处理等领域知识，后端同学必看，前端同学也可学习', '\\n', ' GitHub中文排行榜，帮助你发现高分优秀中文项目、更高效地吸收国人的优秀经验成果；榜单每周更新一次，敬请关注！', '\\n', ' An excellent open source blog publishing application. | 一个优秀的开源博客发布应用。', '白卷是一款使用 Vue+Spring Boot 开发的前后端分离项目，附带全套开发教程。（A simple CMS developed by Spring Boot and Vue.js with development tutorials）', 'web-flash -- Admin Framework and Mobile Website Based on Spring Boot and Vue.js', '一点知识学院 是一个在线课程资料的管理系统（是对app手机端的支撑），项目框架采用SpringBoot + JPA + mysql + easyui开发。']\n",
      "['A powerful, interactive charting and visualization library for browser', 'The next open source file uploader for web browsers ', '\\n', 'A simple HTML5, YouTube and Vimeo player', 'Modern & flexible browser fingerprinting library', 'JupyterLab computational environment.', 'Leon Sans is a geometric sans-serif typeface made with code in 2019 by Jongmin Kim.', 'Flat, round, designer-friendly pseudo-3D engine for canvas & SVG', '基于 Vue2.0 和 ECharts 封装的图表组件', '\\n', '中文独立博客列表', 'Free, open-source SQL client for Windows and Mac ', '\\n', 'Luckysheet is an online spreadsheet like excel that is powerful, simple to configure, and completely open source.', '在vscode中用于生成文件头部注释和函数注释的插件，经过多版迭代后，插件：支持所有主流语言,功能强大，灵活方便，文档齐全，食用简单！觉得插件不错的话，点击右上角给个Star', '呀~', 'CoreUI Free Icons - Premium designed free icon set with marks in SVG, Webfont and raster formats', 'Javascript panorama viewer based on Three.js', 'A video and channel downloader that supports 110 websites, powered by Electron and youtube-dl', '\\n', ' Dark mode made easy', '基于 React Hooks 与 flex 布局，实现了大部分功能的思维导图。 / An almost-full-function Mindmap web app developed with only React Hooks and flex layout.', '\\n', ' A lightweight and sophisticated React-based H5 video player / 简单易用的h5播放器']\n",
      "['Python资源大全中文版，包括：Web框架、网络爬虫、模板引擎、数据库、数据可视化、图片处理等，由伯乐在线持续更新。']\n",
      "['\\n', ' Find pearls on open-source seashore 分享 GitHub 上有趣、入门级的开源项目', '结巴中文分词', '\\n', ' Python Echarts Plotting Library', 'python爬虫教程系列、从0到1学习python爬虫，包括浏览器抓包，手机APP抓包，如 fiddler、mitmproxy，各种爬虫涉及的模块的使用，如：requests、beautifulSoup、selenium、appium、scrapy等，以及IP代理，验证码识别，Mysql，MongoDB数据库的python使用，多线程多进程爬虫的使用，css 爬虫加密逆向破解，JS爬虫逆向，…', 'Python package for RPA (robotic process automation)', 'creating your own Awesome List by GitHub stars!', 'Python技术 公众号文章代码实例']\n",
      "['Node Version Manager - POSIX-compliant bash script to manage multiple active node.js versions']\n",
      "['VS Code in the browser', 'Virtual whiteboard for sketching hand-drawn like diagrams', 'Cut and paste your surroundings using AR', 'Foreign language reading and translation assistant based on copy and translate.', '\\n', ' Look at me, I am a slim progress bar and very colorful / 支持彩色或单色的顶部进度条']\n",
      "['\\n', 'vue-admin-beautiful是一款基于vue+element-ui的绝佳的中后台前端开发管理框架（基于vue/cli 4 最新版，同时支持电脑，手机，平板）,他同时是拥有100+页面的大型vue前端单页应用,长期更新维护,感谢您的star,我一直在努力 Vue admin beautiful is an excellent front-end development framew…', 'A UI library of Overwatch, built with Vue.js']\n"
     ]
    }
   ],
   "source": [
    "headers = {\n",
    "    'accept': 'text/html,application/xhtml+xml,application/xml;q=0.9,image/webp,image/apng,*/*;q=0.8,application/signed-exchange;v=b3;q=0.9',\n",
    "    'accept-encoding': 'gzip, deflate, br',\n",
    "    'accept-language': 'zh-CN,zh;q=0.9',\n",
    "    'cache-control': 'no-cache',\n",
    "    'pragma': 'no-cache',\n",
    "    'sec-fetch-dest': 'document',\n",
    "    'sec-fetch-mode': 'navigate',\n",
    "    'sec-fetch-site': 'same-site',\n",
    "    'sec-fetch-user': '?1',\n",
    "    'upgrade-insecure-requests': '1',\n",
    "    'user-agent': 'Mozilla/5.0 (Windows NT 6.1; Win64; x64) AppleWebKit/537.36 (KHTML, like Gecko) Chrome/80.0.3987.149 Safari/537.36',\n",
    "\n",
    "}\n",
    "\n",
    "def run(username):\n",
    "    stars_url = \"https://github.com/\" + username + \"?tab=stars\"\n",
    "    \n",
    "    session = HTMLSession()\n",
    "    resp = session.get(stars_url, headers=headers)\n",
    "    \n",
    "    # 获取类型\n",
    "    types = resp.html.xpath('//ul[@class=\"filter-list\"]/li/a/text()')\n",
    "    types_result = [k.replace(\"  \",\"\") for k in [j.replace(\"\\n      \",\"\") for j in [i.replace(\"\\n        \",\"\") for i in types]]]\n",
    "    types_result = types_result[4:] # 去掉多余\n",
    "#     print(types_result)\n",
    "    \n",
    "    # 获取类型链接\n",
    "    urls = resp.html.xpath('//ul[@class=\"filter-list\"]/li/a/@href')\n",
    "    urls_result = urls[4:] # 去掉多余\n",
    "#     print(urls_result)\n",
    "    \n",
    "    github_url = \"https://github.com\"\n",
    "    # 每个类型的页面\n",
    "    for url in urls_result:\n",
    "        resp = session.get(url, headers=headers)\n",
    "#         pages_up_down = resp.html.xpath('//div[@class=\"BtnGroup\"]/a/@hrerf')\n",
    "        title = resp.html.xpath('//div[@class=\"d-inline-block mb-1\"]/h3/a/@href')\n",
    "        title_url = [github_url + i for i in title]\n",
    "#         print(title)\n",
    "#         print(title_url)\n",
    "        text = resp.html.xpath('//div[@class=\"py-1\"]/p/text()')\n",
    "        text = [j.replace(\"\\n      \",\"\") for j in [i.replace(\"\\n        \",\"\") for i in text]]\n",
    "#         print(text)\n",
    "    \n",
    "    # 获取项目名称、评论、stars、fork\n",
    "    # 判断是否有下一页，获取链接\n",
    "    \n",
    "def makeMarkdown():\n",
    "    details_head_contents = \"<details><summary>Contents</summary>\"\n",
    "    details_head_List = \"<details><summary>List</summary>\"\n",
    "    datails_font = \"</details>\"\n",
    "    \n",
    "    # 模板制作：显示样式，是否需要stars&fork\n",
    "    # 支持输入文件名，可有可无\".md\"\n",
    "    \n",
    "if __name__ == '__main__':\n",
    "#     username = input(\"input your github username: \")\n",
    "    username = \"anlzou\"\n",
    "    data = run(username)"
   ]
  }
 ],
 "metadata": {
  "kernelspec": {
   "display_name": "Python 3",
   "language": "python",
   "name": "python3"
  },
  "language_info": {
   "codemirror_mode": {
    "name": "ipython",
    "version": 3
   },
   "file_extension": ".py",
   "mimetype": "text/x-python",
   "name": "python",
   "nbconvert_exporter": "python",
   "pygments_lexer": "ipython3",
   "version": "3.8.5"
  },
  "toc": {
   "base_numbering": 1,
   "nav_menu": {},
   "number_sections": true,
   "sideBar": true,
   "skip_h1_title": false,
   "title_cell": "Table of Contents",
   "title_sidebar": "Contents",
   "toc_cell": false,
   "toc_position": {},
   "toc_section_display": true,
   "toc_window_display": false
  },
  "varInspector": {
   "cols": {
    "lenName": 16,
    "lenType": 16,
    "lenVar": 40
   },
   "kernels_config": {
    "python": {
     "delete_cmd_postfix": "",
     "delete_cmd_prefix": "del ",
     "library": "var_list.py",
     "varRefreshCmd": "print(var_dic_list())"
    },
    "r": {
     "delete_cmd_postfix": ") ",
     "delete_cmd_prefix": "rm(",
     "library": "var_list.r",
     "varRefreshCmd": "cat(var_dic_list()) "
    }
   },
   "types_to_exclude": [
    "module",
    "function",
    "builtin_function_or_method",
    "instance",
    "_Feature"
   ],
   "window_display": false
  }
 },
 "nbformat": 4,
 "nbformat_minor": 4
}
