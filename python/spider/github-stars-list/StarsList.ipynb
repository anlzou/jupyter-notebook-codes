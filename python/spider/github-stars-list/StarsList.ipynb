{
 "cells": [
  {
   "cell_type": "code",
   "execution_count": 1,
   "metadata": {
    "ExecuteTime": {
     "end_time": "2020-08-31T20:51:18.572860Z",
     "start_time": "2020-08-31T20:51:18.394820Z"
    }
   },
   "outputs": [],
   "source": [
    "import requests\n",
    "from requests_html import HTMLSession"
   ]
  },
  {
   "cell_type": "code",
   "execution_count": 2,
   "metadata": {
    "ExecuteTime": {
     "end_time": "2020-08-31T20:51:21.566584Z",
     "start_time": "2020-08-31T20:51:20.157185Z"
    }
   },
   "outputs": [
    {
     "name": "stdout",
     "output_type": "stream",
     "text": [
      "['C++', 'CSS', 'HTML', 'Java', 'JavaScript', 'Makefile', 'Python', 'Shell', 'TypeScript', 'Vue']\n",
      "['https://github.com/anlzou?language=c%2B%2B&tab=stars', 'https://github.com/anlzou?language=css&tab=stars', 'https://github.com/anlzou?language=html&tab=stars', 'https://github.com/anlzou?language=java&tab=stars', 'https://github.com/anlzou?language=javascript&tab=stars', 'https://github.com/anlzou?language=makefile&tab=stars', 'https://github.com/anlzou?language=python&tab=stars', 'https://github.com/anlzou?language=shell&tab=stars', 'https://github.com/anlzou?language=typescript&tab=stars', 'https://github.com/anlzou?language=vue&tab=stars']\n"
     ]
    }
   ],
   "source": [
    "headers = {\n",
    "    'accept': 'text/html,application/xhtml+xml,application/xml;q=0.9,image/webp,image/apng,*/*;q=0.8,application/signed-exchange;v=b3;q=0.9',\n",
    "    'accept-encoding': 'gzip, deflate, br',\n",
    "    'accept-language': 'zh-CN,zh;q=0.9',\n",
    "    'cache-control': 'no-cache',\n",
    "    'pragma': 'no-cache',\n",
    "    'sec-fetch-dest': 'document',\n",
    "    'sec-fetch-mode': 'navigate',\n",
    "    'sec-fetch-site': 'same-site',\n",
    "    'sec-fetch-user': '?1',\n",
    "    'upgrade-insecure-requests': '1',\n",
    "    'user-agent': 'Mozilla/5.0 (Windows NT 6.1; Win64; x64) AppleWebKit/537.36 (KHTML, like Gecko) Chrome/80.0.3987.149 Safari/537.36',\n",
    "\n",
    "}\n",
    "\n",
    "def run(username):\n",
    "    stars_url = \"https://github.com/\" + username + \"?tab=stars\"\n",
    "    \n",
    "    session = HTMLSession()\n",
    "    resp = session.get(stars_url, headers=headers)\n",
    "    \n",
    "    # 获取类型\n",
    "    types = resp.html.xpath('//ul[@class=\"filter-list\"]/li/a/text()')\n",
    "    types_result = [k.replace(\"  \",\"\") for k in [j.replace(\"\\n      \",\"\") for j in [i.replace(\"\\n        \",\"\") for i in types]]]\n",
    "    types_result = types_result[4:] # 去掉多余\n",
    "    print(types_result)\n",
    "    \n",
    "    # 获取类型链接\n",
    "    urls = resp.html.xpath('//ul[@class=\"filter-list\"]/li/a/@href')\n",
    "    urls_result = urls[4:] # 去掉多余\n",
    "    print(urls_result)\n",
    "    \n",
    "    # 获取项目名称、评论、stars、fork\n",
    "    # 判断是否有下一页，获取链接\n",
    "    \n",
    "def makeMarkdown():\n",
    "    details_head_contents = \"<details><summary>Contents</summary>\"\n",
    "    details_head_List = \"<details><summary>List</summary>\"\n",
    "    datails_font = \"</details>\"\n",
    "    \n",
    "    # 模板制作：显示样式，是否需要stars&fork\n",
    "    # 支持输入文件名，可有可无\".md\"\n",
    "    \n",
    "if __name__ == '__main__':\n",
    "#     username = input(\"input your github username: \")\n",
    "    username = \"anlzou\"\n",
    "    data = run(username)"
   ]
  }
 ],
 "metadata": {
  "kernelspec": {
   "display_name": "Python 3",
   "language": "python",
   "name": "python3"
  },
  "language_info": {
   "codemirror_mode": {
    "name": "ipython",
    "version": 3
   },
   "file_extension": ".py",
   "mimetype": "text/x-python",
   "name": "python",
   "nbconvert_exporter": "python",
   "pygments_lexer": "ipython3",
   "version": "3.8.5"
  },
  "toc": {
   "base_numbering": 1,
   "nav_menu": {},
   "number_sections": true,
   "sideBar": true,
   "skip_h1_title": false,
   "title_cell": "Table of Contents",
   "title_sidebar": "Contents",
   "toc_cell": false,
   "toc_position": {},
   "toc_section_display": true,
   "toc_window_display": false
  },
  "varInspector": {
   "cols": {
    "lenName": 16,
    "lenType": 16,
    "lenVar": 40
   },
   "kernels_config": {
    "python": {
     "delete_cmd_postfix": "",
     "delete_cmd_prefix": "del ",
     "library": "var_list.py",
     "varRefreshCmd": "print(var_dic_list())"
    },
    "r": {
     "delete_cmd_postfix": ") ",
     "delete_cmd_prefix": "rm(",
     "library": "var_list.r",
     "varRefreshCmd": "cat(var_dic_list()) "
    }
   },
   "types_to_exclude": [
    "module",
    "function",
    "builtin_function_or_method",
    "instance",
    "_Feature"
   ],
   "window_display": false
  }
 },
 "nbformat": 4,
 "nbformat_minor": 4
}
